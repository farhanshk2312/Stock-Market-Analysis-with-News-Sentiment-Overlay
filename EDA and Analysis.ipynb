{
 "cells": [
  {
   "cell_type": "markdown",
   "id": "cd928956",
   "metadata": {},
   "source": [
    "# Connect to BigQuery & Fetch Data"
   ]
  },
  {
   "cell_type": "code",
   "execution_count": 16,
   "id": "d69c3d52",
   "metadata": {},
   "outputs": [],
   "source": [
    "from google.cloud import bigquery\n",
    "import pandas as pd\n",
    "import numpy as np\n",
    "import matplotlib.pyplot as plt\n",
    "import seaborn as sns\n",
    "from datetime import datetime"
   ]
  },
  {
   "cell_type": "code",
   "execution_count": 23,
   "id": "56c850b3",
   "metadata": {},
   "outputs": [],
   "source": [
    "# Initialize BigQuery client\n",
    "\n",
    "PROJECT_ID = \"project-portfolio-473015\"   # replace with your project ID\n",
    "DATASET = 'stock_data_append'\n",
    "\n",
    "client = bigquery.Client(project=PROJECT_ID)"
   ]
  },
  {
   "cell_type": "code",
   "execution_count": 24,
   "id": "35b2d9af",
   "metadata": {},
   "outputs": [],
   "source": [
    "# Queries\n",
    "query_stock = f\"\"\"\n",
    "    SELECT *\n",
    "    FROM `{PROJECT_ID}.{DATASET}.stock_daily`\n",
    "    ORDER BY ts\n",
    "\"\"\""
   ]
  },
  {
   "cell_type": "code",
   "execution_count": 25,
   "id": "fdf20150",
   "metadata": {},
   "outputs": [],
   "source": [
    "query_news = f\"\"\"\n",
    "    SELECT *\n",
    "    FROM `{PROJECT_ID}.{DATASET}.stock_news`\n",
    "    ORDER BY published_utc\n",
    "\"\"\""
   ]
  },
  {
   "cell_type": "code",
   "execution_count": 6,
   "id": "85660d1a",
   "metadata": {},
   "outputs": [
    {
     "name": "stdout",
     "output_type": "stream",
     "text": [
      "['symbol', 'ts', 'open', 'high', 'low', 'close', 'volume', 'vwap', 'trades_count']\n"
     ]
    }
   ],
   "source": [
    "# List columns in your table\n",
    "table = client.get_table(\"project-portfolio-473015.stock_data_append.stock_daily\")\n",
    "print([field.name for field in table.schema])\n"
   ]
  },
  {
   "cell_type": "code",
   "execution_count": 7,
   "id": "a7c2e6b9",
   "metadata": {},
   "outputs": [
    {
     "name": "stdout",
     "output_type": "stream",
     "text": [
      "['id', 'title', 'author', 'description', 'article_url', 'amp_url', 'image_url', 'published_utc', 'publisher', 'tickers', 'keywords', 'insights']\n"
     ]
    }
   ],
   "source": [
    "# List columns in your table\n",
    "table = client.get_table(\"project-portfolio-473015.stock_data_append.stock_news\")\n",
    "print([field.name for field in table.schema])\n"
   ]
  },
  {
   "cell_type": "code",
   "execution_count": 26,
   "id": "9b960971",
   "metadata": {},
   "outputs": [],
   "source": [
    "# Load into Pandas\n",
    "df_stock = client.query(query_stock).to_dataframe()\n"
   ]
  },
  {
   "cell_type": "code",
   "execution_count": 27,
   "id": "cfef5388",
   "metadata": {},
   "outputs": [
    {
     "name": "stdout",
     "output_type": "stream",
     "text": [
      "<class 'pandas.core.frame.DataFrame'>\n",
      "RangeIndex: 82 entries, 0 to 81\n",
      "Data columns (total 9 columns):\n",
      " #   Column        Non-Null Count  Dtype              \n",
      "---  ------        --------------  -----              \n",
      " 0   symbol        82 non-null     object             \n",
      " 1   ts            82 non-null     datetime64[us, UTC]\n",
      " 2   open          82 non-null     float64            \n",
      " 3   high          82 non-null     float64            \n",
      " 4   low           82 non-null     float64            \n",
      " 5   close         82 non-null     float64            \n",
      " 6   volume        82 non-null     float64            \n",
      " 7   vwap          82 non-null     float64            \n",
      " 8   trades_count  82 non-null     Int64              \n",
      "dtypes: Int64(1), datetime64[us, UTC](1), float64(6), object(1)\n",
      "memory usage: 6.0+ KB\n"
     ]
    }
   ],
   "source": [
    "df_stock.info()"
   ]
  },
  {
   "cell_type": "code",
   "execution_count": 28,
   "id": "c01f5bda",
   "metadata": {},
   "outputs": [
    {
     "name": "stderr",
     "output_type": "stream",
     "text": [
      "c:\\Users\\farhan\\AppData\\Local\\Programs\\Python\\Python313\\Lib\\site-packages\\google\\cloud\\bigquery\\table.py:1994: UserWarning: BigQuery Storage module not found, fetch data with the REST endpoint instead.\n",
      "  warnings.warn(\n"
     ]
    }
   ],
   "source": [
    "# Load into Pandas\n",
    "\n",
    "df_news = client.query(query_news).to_dataframe()"
   ]
  },
  {
   "cell_type": "code",
   "execution_count": 29,
   "id": "42031ae8",
   "metadata": {},
   "outputs": [
    {
     "name": "stdout",
     "output_type": "stream",
     "text": [
      "<class 'pandas.core.frame.DataFrame'>\n",
      "RangeIndex: 1165 entries, 0 to 1164\n",
      "Data columns (total 12 columns):\n",
      " #   Column         Non-Null Count  Dtype              \n",
      "---  ------         --------------  -----              \n",
      " 0   id             1165 non-null   object             \n",
      " 1   title          1165 non-null   object             \n",
      " 2   author         1165 non-null   object             \n",
      " 3   description    1165 non-null   object             \n",
      " 4   article_url    1165 non-null   object             \n",
      " 5   amp_url        217 non-null    object             \n",
      " 6   image_url      1165 non-null   object             \n",
      " 7   published_utc  1165 non-null   datetime64[us, UTC]\n",
      " 8   publisher      1165 non-null   object             \n",
      " 9   tickers        1165 non-null   object             \n",
      " 10  keywords       1165 non-null   object             \n",
      " 11  insights       1165 non-null   object             \n",
      "dtypes: datetime64[us, UTC](1), object(11)\n",
      "memory usage: 109.3+ KB\n"
     ]
    }
   ],
   "source": [
    "df_news.info()"
   ]
  },
  {
   "cell_type": "code",
   "execution_count": 30,
   "id": "e1445f7b",
   "metadata": {},
   "outputs": [
    {
     "name": "stdout",
     "output_type": "stream",
     "text": [
      "Stock shape: (82, 9)\n",
      "News shape: (1165, 12)\n"
     ]
    }
   ],
   "source": [
    "print(\"Stock shape:\", df_stock.shape)\n",
    "print(\"News shape:\", df_news.shape)"
   ]
  },
  {
   "cell_type": "code",
   "execution_count": 31,
   "id": "19340720",
   "metadata": {},
   "outputs": [
    {
     "name": "stdout",
     "output_type": "stream",
     "text": [
      "Number of duplicate rows: 0\n"
     ]
    }
   ],
   "source": [
    "num_duplicates = df_stock.duplicated().sum()\n",
    "print(\"Number of duplicate rows:\", num_duplicates)\n"
   ]
  },
  {
   "cell_type": "code",
   "execution_count": 33,
   "id": "463409ee",
   "metadata": {},
   "outputs": [
    {
     "data": {
      "text/plain": [
       "np.int64(211)"
      ]
     },
     "execution_count": 33,
     "metadata": {},
     "output_type": "execute_result"
    }
   ],
   "source": [
    "\n",
    "df_news.duplicated(subset=['id']).sum()"
   ]
  },
  {
   "cell_type": "code",
   "execution_count": 11,
   "id": "45a05a9b",
   "metadata": {},
   "outputs": [
    {
     "name": "stdout",
     "output_type": "stream",
     "text": [
      "symbol          0\n",
      "ts              0\n",
      "open            0\n",
      "high            0\n",
      "low             0\n",
      "close           0\n",
      "volume          0\n",
      "vwap            0\n",
      "trades_count    0\n",
      "dtype: int64\n",
      "id                 0\n",
      "title              0\n",
      "author             0\n",
      "description        0\n",
      "article_url        0\n",
      "amp_url          752\n",
      "image_url          0\n",
      "published_utc      0\n",
      "publisher          0\n",
      "tickers            0\n",
      "keywords           0\n",
      "insights           0\n",
      "dtype: int64\n"
     ]
    }
   ],
   "source": [
    "print(df_stock.isnull().sum())\n",
    "print(df_news.isnull().sum())\n",
    "\n",
    "# Remove duplicates\n",
    "df_stock = df_stock.drop_duplicates(subset=['symbol', 'ts'])\n",
    "df_news = df_news.drop_duplicates(subset=['id'])\n"
   ]
  },
  {
   "cell_type": "markdown",
   "id": "ee6f5a34",
   "metadata": {},
   "source": [
    "Quick Data Cleaning"
   ]
  },
  {
   "cell_type": "code",
   "execution_count": 13,
   "id": "cde99f8d",
   "metadata": {},
   "outputs": [],
   "source": [
    "df_stock['ts'] = pd.to_datetime(df_stock['ts'])\n",
    "df_news['published_utc'] = pd.to_datetime(df_news['published_utc'])\n"
   ]
  },
  {
   "cell_type": "code",
   "execution_count": 14,
   "id": "08920f4e",
   "metadata": {},
   "outputs": [
    {
     "name": "stdout",
     "output_type": "stream",
     "text": [
      "Stock shape: (41, 9)\n",
      "News shape: (719, 12)\n"
     ]
    }
   ],
   "source": [
    "print(\"Stock shape:\", df_stock.shape)\n",
    "print(\"News shape:\", df_news.shape)"
   ]
  },
  {
   "cell_type": "code",
   "execution_count": 128,
   "id": "9261219c",
   "metadata": {},
   "outputs": [
    {
     "name": "stdout",
     "output_type": "stream",
     "text": [
      "<class 'pandas.core.frame.DataFrame'>\n",
      "RangeIndex: 41 entries, 0 to 40\n",
      "Data columns (total 9 columns):\n",
      " #   Column        Non-Null Count  Dtype              \n",
      "---  ------        --------------  -----              \n",
      " 0   symbol        41 non-null     object             \n",
      " 1   ts            41 non-null     datetime64[us, UTC]\n",
      " 2   open          41 non-null     float64            \n",
      " 3   high          41 non-null     float64            \n",
      " 4   low           41 non-null     float64            \n",
      " 5   close         41 non-null     float64            \n",
      " 6   volume        41 non-null     float64            \n",
      " 7   vwap          41 non-null     float64            \n",
      " 8   trades_count  41 non-null     Int64              \n",
      "dtypes: Int64(1), datetime64[us, UTC](1), float64(6), object(1)\n",
      "memory usage: 3.1+ KB\n"
     ]
    }
   ],
   "source": [
    "df_stock.info()"
   ]
  },
  {
   "cell_type": "code",
   "execution_count": 129,
   "id": "7b640c46",
   "metadata": {},
   "outputs": [
    {
     "name": "stdout",
     "output_type": "stream",
     "text": [
      "<class 'pandas.core.frame.DataFrame'>\n",
      "RangeIndex: 719 entries, 0 to 718\n",
      "Data columns (total 12 columns):\n",
      " #   Column         Non-Null Count  Dtype              \n",
      "---  ------         --------------  -----              \n",
      " 0   id             719 non-null    object             \n",
      " 1   title          719 non-null    object             \n",
      " 2   author         719 non-null    object             \n",
      " 3   description    719 non-null    object             \n",
      " 4   article_url    719 non-null    object             \n",
      " 5   amp_url        155 non-null    object             \n",
      " 6   image_url      719 non-null    object             \n",
      " 7   published_utc  719 non-null    datetime64[us, UTC]\n",
      " 8   publisher      719 non-null    object             \n",
      " 9   tickers        719 non-null    object             \n",
      " 10  keywords       719 non-null    object             \n",
      " 11  insights       719 non-null    object             \n",
      "dtypes: datetime64[us, UTC](1), object(11)\n",
      "memory usage: 67.5+ KB\n"
     ]
    }
   ],
   "source": [
    "df_news.info()"
   ]
  },
  {
   "cell_type": "markdown",
   "id": "952ce0f7",
   "metadata": {},
   "source": [
    "# Stock Data Analysis"
   ]
  },
  {
   "cell_type": "code",
   "execution_count": 130,
   "id": "752ad0a2",
   "metadata": {},
   "outputs": [],
   "source": [
    "# Daily returns\n",
    "df_stock['daily_return'] = df_stock['close'].pct_change() * 100"
   ]
  },
  {
   "cell_type": "code",
   "execution_count": 131,
   "id": "d6e0ada3",
   "metadata": {},
   "outputs": [],
   "source": [
    "# Volatility\n",
    "df_stock['volatility_pct'] = (df_stock['high'] - df_stock['low']) / df_stock['open'] * 100"
   ]
  },
  {
   "cell_type": "code",
   "execution_count": 132,
   "id": "f86cbf2e",
   "metadata": {},
   "outputs": [],
   "source": [
    "# Rolling averages\n",
    "df_stock['rolling_7d'] = df_stock['close'].rolling(7).mean()\n",
    "df_stock['rolling_30d'] = df_stock['close'].rolling(30).mean()"
   ]
  },
  {
   "cell_type": "code",
   "execution_count": 133,
   "id": "8e7b73e8",
   "metadata": {},
   "outputs": [
    {
     "name": "stdout",
     "output_type": "stream",
     "text": [
      "                         ts   close  daily_return  volatility_pct\n",
      "0 2025-07-28 04:00:00+00:00  176.75           NaN        1.741179\n",
      "1 2025-07-29 04:00:00+00:00  175.51     -0.701556        2.449989\n",
      "2 2025-07-30 04:00:00+00:00  179.27      2.142328        2.181180\n",
      "3 2025-07-31 04:00:00+00:00  177.87     -0.780945        4.029524\n",
      "4 2025-08-01 04:00:00+00:00  173.72     -2.333165        3.245448\n"
     ]
    }
   ],
   "source": [
    "print(df_stock[['ts','close','daily_return','volatility_pct']].head())"
   ]
  },
  {
   "cell_type": "code",
   "execution_count": 134,
   "id": "5fb043fe",
   "metadata": {},
   "outputs": [
    {
     "data": {
      "text/html": [
       "<div>\n",
       "<style scoped>\n",
       "    .dataframe tbody tr th:only-of-type {\n",
       "        vertical-align: middle;\n",
       "    }\n",
       "\n",
       "    .dataframe tbody tr th {\n",
       "        vertical-align: top;\n",
       "    }\n",
       "\n",
       "    .dataframe thead th {\n",
       "        text-align: right;\n",
       "    }\n",
       "</style>\n",
       "<table border=\"1\" class=\"dataframe\">\n",
       "  <thead>\n",
       "    <tr style=\"text-align: right;\">\n",
       "      <th></th>\n",
       "      <th>symbol</th>\n",
       "      <th>ts</th>\n",
       "      <th>open</th>\n",
       "      <th>high</th>\n",
       "      <th>low</th>\n",
       "      <th>close</th>\n",
       "      <th>volume</th>\n",
       "      <th>vwap</th>\n",
       "      <th>trades_count</th>\n",
       "      <th>daily_return</th>\n",
       "      <th>volatility_pct</th>\n",
       "      <th>rolling_7d</th>\n",
       "      <th>rolling_30d</th>\n",
       "    </tr>\n",
       "  </thead>\n",
       "  <tbody>\n",
       "    <tr>\n",
       "      <th>0</th>\n",
       "      <td>NVDA</td>\n",
       "      <td>2025-07-28 04:00:00+00:00</td>\n",
       "      <td>174.02</td>\n",
       "      <td>177.00</td>\n",
       "      <td>173.97</td>\n",
       "      <td>176.75</td>\n",
       "      <td>140023521.0</td>\n",
       "      <td>175.5154</td>\n",
       "      <td>1198494</td>\n",
       "      <td>NaN</td>\n",
       "      <td>1.741179</td>\n",
       "      <td>NaN</td>\n",
       "      <td>NaN</td>\n",
       "    </tr>\n",
       "    <tr>\n",
       "      <th>1</th>\n",
       "      <td>NVDA</td>\n",
       "      <td>2025-07-29 04:00:00+00:00</td>\n",
       "      <td>177.96</td>\n",
       "      <td>179.38</td>\n",
       "      <td>175.02</td>\n",
       "      <td>175.51</td>\n",
       "      <td>154077512.0</td>\n",
       "      <td>177.0364</td>\n",
       "      <td>1429004</td>\n",
       "      <td>-0.701556</td>\n",
       "      <td>2.449989</td>\n",
       "      <td>NaN</td>\n",
       "      <td>NaN</td>\n",
       "    </tr>\n",
       "    <tr>\n",
       "      <th>2</th>\n",
       "      <td>NVDA</td>\n",
       "      <td>2025-07-30 04:00:00+00:00</td>\n",
       "      <td>176.51</td>\n",
       "      <td>179.89</td>\n",
       "      <td>176.04</td>\n",
       "      <td>179.27</td>\n",
       "      <td>174312208.0</td>\n",
       "      <td>178.8640</td>\n",
       "      <td>1587077</td>\n",
       "      <td>2.142328</td>\n",
       "      <td>2.181180</td>\n",
       "      <td>NaN</td>\n",
       "      <td>NaN</td>\n",
       "    </tr>\n",
       "    <tr>\n",
       "      <th>3</th>\n",
       "      <td>NVDA</td>\n",
       "      <td>2025-07-31 04:00:00+00:00</td>\n",
       "      <td>182.90</td>\n",
       "      <td>183.30</td>\n",
       "      <td>175.93</td>\n",
       "      <td>177.87</td>\n",
       "      <td>221685446.0</td>\n",
       "      <td>179.6528</td>\n",
       "      <td>1998696</td>\n",
       "      <td>-0.780945</td>\n",
       "      <td>4.029524</td>\n",
       "      <td>NaN</td>\n",
       "      <td>NaN</td>\n",
       "    </tr>\n",
       "    <tr>\n",
       "      <th>4</th>\n",
       "      <td>NVDA</td>\n",
       "      <td>2025-08-01 04:00:00+00:00</td>\n",
       "      <td>174.09</td>\n",
       "      <td>176.54</td>\n",
       "      <td>170.89</td>\n",
       "      <td>173.72</td>\n",
       "      <td>204528985.0</td>\n",
       "      <td>173.8656</td>\n",
       "      <td>2249947</td>\n",
       "      <td>-2.333165</td>\n",
       "      <td>3.245448</td>\n",
       "      <td>NaN</td>\n",
       "      <td>NaN</td>\n",
       "    </tr>\n",
       "  </tbody>\n",
       "</table>\n",
       "</div>"
      ],
      "text/plain": [
       "  symbol                        ts    open    high     low   close  \\\n",
       "0   NVDA 2025-07-28 04:00:00+00:00  174.02  177.00  173.97  176.75   \n",
       "1   NVDA 2025-07-29 04:00:00+00:00  177.96  179.38  175.02  175.51   \n",
       "2   NVDA 2025-07-30 04:00:00+00:00  176.51  179.89  176.04  179.27   \n",
       "3   NVDA 2025-07-31 04:00:00+00:00  182.90  183.30  175.93  177.87   \n",
       "4   NVDA 2025-08-01 04:00:00+00:00  174.09  176.54  170.89  173.72   \n",
       "\n",
       "        volume      vwap  trades_count  daily_return  volatility_pct  \\\n",
       "0  140023521.0  175.5154       1198494           NaN        1.741179   \n",
       "1  154077512.0  177.0364       1429004     -0.701556        2.449989   \n",
       "2  174312208.0  178.8640       1587077      2.142328        2.181180   \n",
       "3  221685446.0  179.6528       1998696     -0.780945        4.029524   \n",
       "4  204528985.0  173.8656       2249947     -2.333165        3.245448   \n",
       "\n",
       "   rolling_7d  rolling_30d  \n",
       "0         NaN          NaN  \n",
       "1         NaN          NaN  \n",
       "2         NaN          NaN  \n",
       "3         NaN          NaN  \n",
       "4         NaN          NaN  "
      ]
     },
     "execution_count": 134,
     "metadata": {},
     "output_type": "execute_result"
    }
   ],
   "source": [
    "df_stock.head()"
   ]
  },
  {
   "cell_type": "code",
   "execution_count": 77,
   "id": "aeaff0d3",
   "metadata": {},
   "outputs": [
    {
     "data": {
      "text/html": [
       "<div>\n",
       "<style scoped>\n",
       "    .dataframe tbody tr th:only-of-type {\n",
       "        vertical-align: middle;\n",
       "    }\n",
       "\n",
       "    .dataframe tbody tr th {\n",
       "        vertical-align: top;\n",
       "    }\n",
       "\n",
       "    .dataframe thead th {\n",
       "        text-align: right;\n",
       "    }\n",
       "</style>\n",
       "<table border=\"1\" class=\"dataframe\">\n",
       "  <thead>\n",
       "    <tr style=\"text-align: right;\">\n",
       "      <th></th>\n",
       "      <th>id</th>\n",
       "      <th>title</th>\n",
       "      <th>author</th>\n",
       "      <th>description</th>\n",
       "      <th>article_url</th>\n",
       "      <th>amp_url</th>\n",
       "      <th>image_url</th>\n",
       "      <th>published_utc</th>\n",
       "      <th>publisher</th>\n",
       "      <th>tickers</th>\n",
       "      <th>keywords</th>\n",
       "      <th>insights</th>\n",
       "      <th>date</th>\n",
       "    </tr>\n",
       "  </thead>\n",
       "  <tbody>\n",
       "    <tr>\n",
       "      <th>0</th>\n",
       "      <td>f34a895c3ff739ded422ecf19345df21155b517121ceee...</td>\n",
       "      <td>The Best Artificial Intelligence (AI) Stock to...</td>\n",
       "      <td>Brett Schafer</td>\n",
       "      <td>The article highlights Alphabet as the top AI ...</td>\n",
       "      <td>https://www.fool.com/investing/2025/07/26/the-...</td>\n",
       "      <td>None</td>\n",
       "      <td>https://g.foolcdn.com/editorial/images/826102/...</td>\n",
       "      <td>2025-07-26 07:15:00+00:00</td>\n",
       "      <td>{'name': 'The Motley Fool', 'homepage_url': 'h...</td>\n",
       "      <td>[GOOG, GOOGL, NVDA, MSFT]</td>\n",
       "      <td>[AI, stock market, technology, cloud computing...</td>\n",
       "      <td>[{'ticker': 'GOOG', 'sentiment': 'positive', '...</td>\n",
       "      <td>2025-07-26</td>\n",
       "    </tr>\n",
       "    <tr>\n",
       "      <th>1</th>\n",
       "      <td>f31295cfcb70bbcf0fdae748ac23fbd914abe2461001cc...</td>\n",
       "      <td>Where Will Palantir Stock Be in 5 Years?</td>\n",
       "      <td>Will Ebiefung</td>\n",
       "      <td>Palantir Technologies has seen significant sto...</td>\n",
       "      <td>https://www.fool.com/investing/2025/07/26/wher...</td>\n",
       "      <td>None</td>\n",
       "      <td>https://g.foolcdn.com/editorial/images/826049/...</td>\n",
       "      <td>2025-07-26 08:03:00+00:00</td>\n",
       "      <td>{'name': 'The Motley Fool', 'homepage_url': 'h...</td>\n",
       "      <td>[PLTR, NVDA]</td>\n",
       "      <td>[AI, big data, stock analysis, technology, def...</td>\n",
       "      <td>[{'ticker': 'PLTR', 'sentiment': 'negative', '...</td>\n",
       "      <td>2025-07-26</td>\n",
       "    </tr>\n",
       "    <tr>\n",
       "      <th>2</th>\n",
       "      <td>ba0e1f4e17d58d4664e26229e6d3760bbdc8556bbb6aa3...</td>\n",
       "      <td>2 Unstoppable Vanguard ETFs That Consistently ...</td>\n",
       "      <td>Anthony Di Pizio</td>\n",
       "      <td>Two Vanguard ETFs (Growth and Mega Cap Growth)...</td>\n",
       "      <td>https://www.fool.com/investing/2025/07/26/2-va...</td>\n",
       "      <td>None</td>\n",
       "      <td>https://g.foolcdn.com/editorial/images/826245/...</td>\n",
       "      <td>2025-07-26 09:07:00+00:00</td>\n",
       "      <td>{'name': 'The Motley Fool', 'homepage_url': 'h...</td>\n",
       "      <td>[VUG, MGK, NVDA, MSFT]</td>\n",
       "      <td>[ETF, technology stocks, investment, market pe...</td>\n",
       "      <td>[{'ticker': 'VUG', 'sentiment': 'positive', 's...</td>\n",
       "      <td>2025-07-26</td>\n",
       "    </tr>\n",
       "    <tr>\n",
       "      <th>3</th>\n",
       "      <td>def61cbcfe0ab09821d54295897dad6369a4b4b7cf2cc2...</td>\n",
       "      <td>Where Will Palantir Technologies Be in 3 Years?</td>\n",
       "      <td>Justin Pope</td>\n",
       "      <td>Palantir Technologies has experienced remarkab...</td>\n",
       "      <td>https://www.fool.com/investing/2025/07/26/wher...</td>\n",
       "      <td>None</td>\n",
       "      <td>https://g.foolcdn.com/editorial/images/825127/...</td>\n",
       "      <td>2025-07-26 09:10:00+00:00</td>\n",
       "      <td>{'name': 'The Motley Fool', 'homepage_url': 'h...</td>\n",
       "      <td>[PLTR, SNOW, NVDA]</td>\n",
       "      <td>[Artificial Intelligence, AI, Stock Market, Te...</td>\n",
       "      <td>[{'ticker': 'PLTR', 'sentiment': 'negative', '...</td>\n",
       "      <td>2025-07-26</td>\n",
       "    </tr>\n",
       "    <tr>\n",
       "      <th>4</th>\n",
       "      <td>3ab8d5baf52cab43fb7bf1645a5487f8276262a29cc24e...</td>\n",
       "      <td>This Artificial Intelligence (AI) Stock Has Bi...</td>\n",
       "      <td>Ryan Vanzo</td>\n",
       "      <td>Nvidia is a dominant AI GPU manufacturer with ...</td>\n",
       "      <td>https://www.fool.com/investing/2025/07/26/ai-a...</td>\n",
       "      <td>None</td>\n",
       "      <td>https://g.foolcdn.com/editorial/images/824586/...</td>\n",
       "      <td>2025-07-26 12:30:00+00:00</td>\n",
       "      <td>{'name': 'The Motley Fool', 'homepage_url': 'h...</td>\n",
       "      <td>[NVDA, INTC]</td>\n",
       "      <td>[AI, GPU, technology, stock market, investment]</td>\n",
       "      <td>[{'ticker': 'NVDA', 'sentiment': 'positive', '...</td>\n",
       "      <td>2025-07-26</td>\n",
       "    </tr>\n",
       "  </tbody>\n",
       "</table>\n",
       "</div>"
      ],
      "text/plain": [
       "                                                  id  \\\n",
       "0  f34a895c3ff739ded422ecf19345df21155b517121ceee...   \n",
       "1  f31295cfcb70bbcf0fdae748ac23fbd914abe2461001cc...   \n",
       "2  ba0e1f4e17d58d4664e26229e6d3760bbdc8556bbb6aa3...   \n",
       "3  def61cbcfe0ab09821d54295897dad6369a4b4b7cf2cc2...   \n",
       "4  3ab8d5baf52cab43fb7bf1645a5487f8276262a29cc24e...   \n",
       "\n",
       "                                               title            author  \\\n",
       "0  The Best Artificial Intelligence (AI) Stock to...     Brett Schafer   \n",
       "1           Where Will Palantir Stock Be in 5 Years?     Will Ebiefung   \n",
       "2  2 Unstoppable Vanguard ETFs That Consistently ...  Anthony Di Pizio   \n",
       "3    Where Will Palantir Technologies Be in 3 Years?       Justin Pope   \n",
       "4  This Artificial Intelligence (AI) Stock Has Bi...        Ryan Vanzo   \n",
       "\n",
       "                                         description  \\\n",
       "0  The article highlights Alphabet as the top AI ...   \n",
       "1  Palantir Technologies has seen significant sto...   \n",
       "2  Two Vanguard ETFs (Growth and Mega Cap Growth)...   \n",
       "3  Palantir Technologies has experienced remarkab...   \n",
       "4  Nvidia is a dominant AI GPU manufacturer with ...   \n",
       "\n",
       "                                         article_url amp_url  \\\n",
       "0  https://www.fool.com/investing/2025/07/26/the-...    None   \n",
       "1  https://www.fool.com/investing/2025/07/26/wher...    None   \n",
       "2  https://www.fool.com/investing/2025/07/26/2-va...    None   \n",
       "3  https://www.fool.com/investing/2025/07/26/wher...    None   \n",
       "4  https://www.fool.com/investing/2025/07/26/ai-a...    None   \n",
       "\n",
       "                                           image_url  \\\n",
       "0  https://g.foolcdn.com/editorial/images/826102/...   \n",
       "1  https://g.foolcdn.com/editorial/images/826049/...   \n",
       "2  https://g.foolcdn.com/editorial/images/826245/...   \n",
       "3  https://g.foolcdn.com/editorial/images/825127/...   \n",
       "4  https://g.foolcdn.com/editorial/images/824586/...   \n",
       "\n",
       "              published_utc  \\\n",
       "0 2025-07-26 07:15:00+00:00   \n",
       "1 2025-07-26 08:03:00+00:00   \n",
       "2 2025-07-26 09:07:00+00:00   \n",
       "3 2025-07-26 09:10:00+00:00   \n",
       "4 2025-07-26 12:30:00+00:00   \n",
       "\n",
       "                                           publisher  \\\n",
       "0  {'name': 'The Motley Fool', 'homepage_url': 'h...   \n",
       "1  {'name': 'The Motley Fool', 'homepage_url': 'h...   \n",
       "2  {'name': 'The Motley Fool', 'homepage_url': 'h...   \n",
       "3  {'name': 'The Motley Fool', 'homepage_url': 'h...   \n",
       "4  {'name': 'The Motley Fool', 'homepage_url': 'h...   \n",
       "\n",
       "                     tickers  \\\n",
       "0  [GOOG, GOOGL, NVDA, MSFT]   \n",
       "1               [PLTR, NVDA]   \n",
       "2     [VUG, MGK, NVDA, MSFT]   \n",
       "3         [PLTR, SNOW, NVDA]   \n",
       "4               [NVDA, INTC]   \n",
       "\n",
       "                                            keywords  \\\n",
       "0  [AI, stock market, technology, cloud computing...   \n",
       "1  [AI, big data, stock analysis, technology, def...   \n",
       "2  [ETF, technology stocks, investment, market pe...   \n",
       "3  [Artificial Intelligence, AI, Stock Market, Te...   \n",
       "4    [AI, GPU, technology, stock market, investment]   \n",
       "\n",
       "                                            insights        date  \n",
       "0  [{'ticker': 'GOOG', 'sentiment': 'positive', '...  2025-07-26  \n",
       "1  [{'ticker': 'PLTR', 'sentiment': 'negative', '...  2025-07-26  \n",
       "2  [{'ticker': 'VUG', 'sentiment': 'positive', 's...  2025-07-26  \n",
       "3  [{'ticker': 'PLTR', 'sentiment': 'negative', '...  2025-07-26  \n",
       "4  [{'ticker': 'NVDA', 'sentiment': 'positive', '...  2025-07-26  "
      ]
     },
     "execution_count": 77,
     "metadata": {},
     "output_type": "execute_result"
    }
   ],
   "source": [
    "df_news.head()"
   ]
  },
  {
   "cell_type": "code",
   "execution_count": 135,
   "id": "43a44648",
   "metadata": {},
   "outputs": [
    {
     "name": "stdout",
     "output_type": "stream",
     "text": [
      "Total duplicate rows (all columns): 0\n"
     ]
    }
   ],
   "source": [
    "duplicate_count_all = df_stock.duplicated().sum()\n",
    "print(\"Total duplicate rows (all columns):\", duplicate_count_all)\n"
   ]
  },
  {
   "cell_type": "markdown",
   "id": "ebe201a7",
   "metadata": {},
   "source": [
    "Stock Price EDA"
   ]
  },
  {
   "cell_type": "code",
   "execution_count": 136,
   "id": "0ac6e201",
   "metadata": {},
   "outputs": [
    {
     "data": {
      "application/vnd.plotly.v1+json": {
       "config": {
        "plotlyServerURL": "https://plot.ly"
       },
       "data": [
        {
         "close": {
          "bdata": "AAAAAAAYZkC4HoXrUfBlQHE9CtejaGZApHA9Ctc7ZkDXo3A9CrdlQAAAAAAAgGZAuB6F61FIZkA9CtejcG1mQHE9CtejmGZAZmZmZmbWZkBSuB6F68FmQIXrUbge5WZAexSuR+GyZkBxPQrXo8BmQGZmZmZmjmZAuB6F61HAZkAUrkfhevRlQM3MzMzM7GVAj8L1KFzfZUBI4XoUrj9mQFK4HoXreWZAcT0K16O4ZkAzMzMzM7NmQD0K16NwhWZA9ihcj8LFZUApXI/C9VhlQKRwPQrXU2VAhetRuB51ZUBxPQrXo+BkQFK4HoXrCWVAuB6F61FYZUDD9ShcjypmQD0K16NwJWZACtejcD06ZkAAAAAAADhmQFyPwvUo3GVA4XoUrkdJZUBI4XoUrgdmQD0K16NwFWZA7FG4HoXzZkD2KFyPwk1mQA==",
          "dtype": "f8"
         },
         "decreasing": {
          "line": {
           "color": "red"
          }
         },
         "high": {
          "bdata": "AAAAAAAgZkBcj8L1KGxmQBSuR+F6fGZAmpmZmZnpZkDhehSuRxFmQGZmZmZmhmZAuB6F61GIZkDNzMzMzHxmQFyPwvUo/GZAmpmZmZnpZkB7FK5H4fpmQI/C9ShcD2dA16NwPQr/ZkBxPQrXo+BmQM3MzMzMvGZAAAAAAADeZkAAAAAAANBmQAAAAAAAAGZAzczMzMwcZkB7FK5H4VJmQIXrUbgevWZAFK5H4XrMZkBI4XoUrs9mQNejcD0KD2dAzczMzMxEZkDjpZvEIIxlQIXrUbgejWVA7FG4HoV7ZUApXI/C9SBlQB+F61G4XmVAj8L1KFxfZUDhehSuR2lmQClcj8L1iGZA16NwPQpTZkAzMzMzM1tmQAAAAAAAMGZAZmZmZmamZUAzMzMzMyNmQMP1KFyPQmZAmpmZmZkRZ0A9CtejcM1mQA==",
          "dtype": "f8"
         },
         "increasing": {
          "line": {
           "color": "green"
          }
         },
         "low": {
          "bdata": "16NwPQq/ZUBxPQrXo+BlQOF6FK5HAWZA9ihcj8L9ZUAUrkfhelxlQHE9Ctej0GVAzczMzMz8ZUAAAAAAAAhmQD0K16NwWWZAzczMzMyMZkAAAAAAAIhmQB+F61G4bmZAMzMzMzNrZkAfhetRuG5mQMgHPZtVQWZAexSuR+GSZkBI4XoUru9lQBKDwMqhGWVAUrgeheu5ZUBmZmZmZmZlQArXo3A9EmZAUrgehetZZkAzMzMzM2NmQIXrUbgeDWZAcT0K16OkZUDXo3A9CudkQAAAAAAAHGVAhetRuB4tZUAK16NwPYJkQDMzMzMz62RAofgx5q7XZEDXo3A9Cu9lQI/C9ShcD2ZAZmZmZmYOZkC4HoXrUdBlQFyPwvUozGVAhetRuB4NZUAfhetRuJ5lQPYoXI/C5WVAzTtO0ZHWZUAfhetRuAZmQA==",
          "dtype": "f8"
         },
         "name": "NVDA",
         "open": {
          "bdata": "cT0K16PAZUAfhetRuD5mQLgehetREGZAzczMzMzcZkB7FK5H4cJlQIXrUbge5WVApHA9CtdzZkBmZmZmZgpmQArXo3A9smZAmpmZmZmxZkCamZmZmcFmQB+F61G43mZASOF6FK7TZkAAAAAAAHhmQFyPwvUovGZAMzMzMzOTZkD2KFyPws1mQOF6FK5H5WVAMzMzMzPbZUDsUbgehZNlQDMzMzMzS2ZA9ihcj8KBZkCPwvUoXL9mQArXo3A9mmZA7FG4HoVDZkAAAAAAAEBlQFK4HoXrYWVACtejcD1SZUApXI/C9QBlQJqZmZmZ8WRAexSuR+EiZUAUrkfhehRmQPYoXI/CdWZAcT0K16M4ZkA9CtejcPVlQAAAAAAAIGZAFK5H4XqUZUCPwvUoXL9lQHE9Ctej+GVAmpmZmZnpZUDXo3A9Cr9mQA==",
          "dtype": "f8"
         },
         "type": "candlestick",
         "x": [
          "2025-07-28T04:00:00",
          "2025-07-29T04:00:00",
          "2025-07-30T04:00:00",
          "2025-07-31T04:00:00",
          "2025-08-01T04:00:00",
          "2025-08-04T04:00:00",
          "2025-08-05T04:00:00",
          "2025-08-06T04:00:00",
          "2025-08-07T04:00:00",
          "2025-08-08T04:00:00",
          "2025-08-11T04:00:00",
          "2025-08-12T04:00:00",
          "2025-08-13T04:00:00",
          "2025-08-14T04:00:00",
          "2025-08-15T04:00:00",
          "2025-08-18T04:00:00",
          "2025-08-19T04:00:00",
          "2025-08-20T04:00:00",
          "2025-08-21T04:00:00",
          "2025-08-22T04:00:00",
          "2025-08-25T04:00:00",
          "2025-08-26T04:00:00",
          "2025-08-27T04:00:00",
          "2025-08-28T04:00:00",
          "2025-08-29T04:00:00",
          "2025-09-02T04:00:00",
          "2025-09-03T04:00:00",
          "2025-09-04T04:00:00",
          "2025-09-05T04:00:00",
          "2025-09-08T04:00:00",
          "2025-09-09T04:00:00",
          "2025-09-10T04:00:00",
          "2025-09-11T04:00:00",
          "2025-09-12T04:00:00",
          "2025-09-15T04:00:00",
          "2025-09-16T04:00:00",
          "2025-09-17T04:00:00",
          "2025-09-18T04:00:00",
          "2025-09-19T04:00:00",
          "2025-09-22T04:00:00",
          "2025-09-23T04:00:00"
         ]
        }
       ],
       "layout": {
        "template": {
         "data": {
          "bar": [
           {
            "error_x": {
             "color": "#2a3f5f"
            },
            "error_y": {
             "color": "#2a3f5f"
            },
            "marker": {
             "line": {
              "color": "#E5ECF6",
              "width": 0.5
             },
             "pattern": {
              "fillmode": "overlay",
              "size": 10,
              "solidity": 0.2
             }
            },
            "type": "bar"
           }
          ],
          "barpolar": [
           {
            "marker": {
             "line": {
              "color": "#E5ECF6",
              "width": 0.5
             },
             "pattern": {
              "fillmode": "overlay",
              "size": 10,
              "solidity": 0.2
             }
            },
            "type": "barpolar"
           }
          ],
          "carpet": [
           {
            "aaxis": {
             "endlinecolor": "#2a3f5f",
             "gridcolor": "white",
             "linecolor": "white",
             "minorgridcolor": "white",
             "startlinecolor": "#2a3f5f"
            },
            "baxis": {
             "endlinecolor": "#2a3f5f",
             "gridcolor": "white",
             "linecolor": "white",
             "minorgridcolor": "white",
             "startlinecolor": "#2a3f5f"
            },
            "type": "carpet"
           }
          ],
          "choropleth": [
           {
            "colorbar": {
             "outlinewidth": 0,
             "ticks": ""
            },
            "type": "choropleth"
           }
          ],
          "contour": [
           {
            "colorbar": {
             "outlinewidth": 0,
             "ticks": ""
            },
            "colorscale": [
             [
              0,
              "#0d0887"
             ],
             [
              0.1111111111111111,
              "#46039f"
             ],
             [
              0.2222222222222222,
              "#7201a8"
             ],
             [
              0.3333333333333333,
              "#9c179e"
             ],
             [
              0.4444444444444444,
              "#bd3786"
             ],
             [
              0.5555555555555556,
              "#d8576b"
             ],
             [
              0.6666666666666666,
              "#ed7953"
             ],
             [
              0.7777777777777778,
              "#fb9f3a"
             ],
             [
              0.8888888888888888,
              "#fdca26"
             ],
             [
              1,
              "#f0f921"
             ]
            ],
            "type": "contour"
           }
          ],
          "contourcarpet": [
           {
            "colorbar": {
             "outlinewidth": 0,
             "ticks": ""
            },
            "type": "contourcarpet"
           }
          ],
          "heatmap": [
           {
            "colorbar": {
             "outlinewidth": 0,
             "ticks": ""
            },
            "colorscale": [
             [
              0,
              "#0d0887"
             ],
             [
              0.1111111111111111,
              "#46039f"
             ],
             [
              0.2222222222222222,
              "#7201a8"
             ],
             [
              0.3333333333333333,
              "#9c179e"
             ],
             [
              0.4444444444444444,
              "#bd3786"
             ],
             [
              0.5555555555555556,
              "#d8576b"
             ],
             [
              0.6666666666666666,
              "#ed7953"
             ],
             [
              0.7777777777777778,
              "#fb9f3a"
             ],
             [
              0.8888888888888888,
              "#fdca26"
             ],
             [
              1,
              "#f0f921"
             ]
            ],
            "type": "heatmap"
           }
          ],
          "histogram": [
           {
            "marker": {
             "pattern": {
              "fillmode": "overlay",
              "size": 10,
              "solidity": 0.2
             }
            },
            "type": "histogram"
           }
          ],
          "histogram2d": [
           {
            "colorbar": {
             "outlinewidth": 0,
             "ticks": ""
            },
            "colorscale": [
             [
              0,
              "#0d0887"
             ],
             [
              0.1111111111111111,
              "#46039f"
             ],
             [
              0.2222222222222222,
              "#7201a8"
             ],
             [
              0.3333333333333333,
              "#9c179e"
             ],
             [
              0.4444444444444444,
              "#bd3786"
             ],
             [
              0.5555555555555556,
              "#d8576b"
             ],
             [
              0.6666666666666666,
              "#ed7953"
             ],
             [
              0.7777777777777778,
              "#fb9f3a"
             ],
             [
              0.8888888888888888,
              "#fdca26"
             ],
             [
              1,
              "#f0f921"
             ]
            ],
            "type": "histogram2d"
           }
          ],
          "histogram2dcontour": [
           {
            "colorbar": {
             "outlinewidth": 0,
             "ticks": ""
            },
            "colorscale": [
             [
              0,
              "#0d0887"
             ],
             [
              0.1111111111111111,
              "#46039f"
             ],
             [
              0.2222222222222222,
              "#7201a8"
             ],
             [
              0.3333333333333333,
              "#9c179e"
             ],
             [
              0.4444444444444444,
              "#bd3786"
             ],
             [
              0.5555555555555556,
              "#d8576b"
             ],
             [
              0.6666666666666666,
              "#ed7953"
             ],
             [
              0.7777777777777778,
              "#fb9f3a"
             ],
             [
              0.8888888888888888,
              "#fdca26"
             ],
             [
              1,
              "#f0f921"
             ]
            ],
            "type": "histogram2dcontour"
           }
          ],
          "mesh3d": [
           {
            "colorbar": {
             "outlinewidth": 0,
             "ticks": ""
            },
            "type": "mesh3d"
           }
          ],
          "parcoords": [
           {
            "line": {
             "colorbar": {
              "outlinewidth": 0,
              "ticks": ""
             }
            },
            "type": "parcoords"
           }
          ],
          "pie": [
           {
            "automargin": true,
            "type": "pie"
           }
          ],
          "scatter": [
           {
            "fillpattern": {
             "fillmode": "overlay",
             "size": 10,
             "solidity": 0.2
            },
            "type": "scatter"
           }
          ],
          "scatter3d": [
           {
            "line": {
             "colorbar": {
              "outlinewidth": 0,
              "ticks": ""
             }
            },
            "marker": {
             "colorbar": {
              "outlinewidth": 0,
              "ticks": ""
             }
            },
            "type": "scatter3d"
           }
          ],
          "scattercarpet": [
           {
            "marker": {
             "colorbar": {
              "outlinewidth": 0,
              "ticks": ""
             }
            },
            "type": "scattercarpet"
           }
          ],
          "scattergeo": [
           {
            "marker": {
             "colorbar": {
              "outlinewidth": 0,
              "ticks": ""
             }
            },
            "type": "scattergeo"
           }
          ],
          "scattergl": [
           {
            "marker": {
             "colorbar": {
              "outlinewidth": 0,
              "ticks": ""
             }
            },
            "type": "scattergl"
           }
          ],
          "scattermap": [
           {
            "marker": {
             "colorbar": {
              "outlinewidth": 0,
              "ticks": ""
             }
            },
            "type": "scattermap"
           }
          ],
          "scattermapbox": [
           {
            "marker": {
             "colorbar": {
              "outlinewidth": 0,
              "ticks": ""
             }
            },
            "type": "scattermapbox"
           }
          ],
          "scatterpolar": [
           {
            "marker": {
             "colorbar": {
              "outlinewidth": 0,
              "ticks": ""
             }
            },
            "type": "scatterpolar"
           }
          ],
          "scatterpolargl": [
           {
            "marker": {
             "colorbar": {
              "outlinewidth": 0,
              "ticks": ""
             }
            },
            "type": "scatterpolargl"
           }
          ],
          "scatterternary": [
           {
            "marker": {
             "colorbar": {
              "outlinewidth": 0,
              "ticks": ""
             }
            },
            "type": "scatterternary"
           }
          ],
          "surface": [
           {
            "colorbar": {
             "outlinewidth": 0,
             "ticks": ""
            },
            "colorscale": [
             [
              0,
              "#0d0887"
             ],
             [
              0.1111111111111111,
              "#46039f"
             ],
             [
              0.2222222222222222,
              "#7201a8"
             ],
             [
              0.3333333333333333,
              "#9c179e"
             ],
             [
              0.4444444444444444,
              "#bd3786"
             ],
             [
              0.5555555555555556,
              "#d8576b"
             ],
             [
              0.6666666666666666,
              "#ed7953"
             ],
             [
              0.7777777777777778,
              "#fb9f3a"
             ],
             [
              0.8888888888888888,
              "#fdca26"
             ],
             [
              1,
              "#f0f921"
             ]
            ],
            "type": "surface"
           }
          ],
          "table": [
           {
            "cells": {
             "fill": {
              "color": "#EBF0F8"
             },
             "line": {
              "color": "white"
             }
            },
            "header": {
             "fill": {
              "color": "#C8D4E3"
             },
             "line": {
              "color": "white"
             }
            },
            "type": "table"
           }
          ]
         },
         "layout": {
          "annotationdefaults": {
           "arrowcolor": "#2a3f5f",
           "arrowhead": 0,
           "arrowwidth": 1
          },
          "autotypenumbers": "strict",
          "coloraxis": {
           "colorbar": {
            "outlinewidth": 0,
            "ticks": ""
           }
          },
          "colorscale": {
           "diverging": [
            [
             0,
             "#8e0152"
            ],
            [
             0.1,
             "#c51b7d"
            ],
            [
             0.2,
             "#de77ae"
            ],
            [
             0.3,
             "#f1b6da"
            ],
            [
             0.4,
             "#fde0ef"
            ],
            [
             0.5,
             "#f7f7f7"
            ],
            [
             0.6,
             "#e6f5d0"
            ],
            [
             0.7,
             "#b8e186"
            ],
            [
             0.8,
             "#7fbc41"
            ],
            [
             0.9,
             "#4d9221"
            ],
            [
             1,
             "#276419"
            ]
           ],
           "sequential": [
            [
             0,
             "#0d0887"
            ],
            [
             0.1111111111111111,
             "#46039f"
            ],
            [
             0.2222222222222222,
             "#7201a8"
            ],
            [
             0.3333333333333333,
             "#9c179e"
            ],
            [
             0.4444444444444444,
             "#bd3786"
            ],
            [
             0.5555555555555556,
             "#d8576b"
            ],
            [
             0.6666666666666666,
             "#ed7953"
            ],
            [
             0.7777777777777778,
             "#fb9f3a"
            ],
            [
             0.8888888888888888,
             "#fdca26"
            ],
            [
             1,
             "#f0f921"
            ]
           ],
           "sequentialminus": [
            [
             0,
             "#0d0887"
            ],
            [
             0.1111111111111111,
             "#46039f"
            ],
            [
             0.2222222222222222,
             "#7201a8"
            ],
            [
             0.3333333333333333,
             "#9c179e"
            ],
            [
             0.4444444444444444,
             "#bd3786"
            ],
            [
             0.5555555555555556,
             "#d8576b"
            ],
            [
             0.6666666666666666,
             "#ed7953"
            ],
            [
             0.7777777777777778,
             "#fb9f3a"
            ],
            [
             0.8888888888888888,
             "#fdca26"
            ],
            [
             1,
             "#f0f921"
            ]
           ]
          },
          "colorway": [
           "#636efa",
           "#EF553B",
           "#00cc96",
           "#ab63fa",
           "#FFA15A",
           "#19d3f3",
           "#FF6692",
           "#B6E880",
           "#FF97FF",
           "#FECB52"
          ],
          "font": {
           "color": "#2a3f5f"
          },
          "geo": {
           "bgcolor": "white",
           "lakecolor": "white",
           "landcolor": "#E5ECF6",
           "showlakes": true,
           "showland": true,
           "subunitcolor": "white"
          },
          "hoverlabel": {
           "align": "left"
          },
          "hovermode": "closest",
          "mapbox": {
           "style": "light"
          },
          "paper_bgcolor": "white",
          "plot_bgcolor": "#E5ECF6",
          "polar": {
           "angularaxis": {
            "gridcolor": "white",
            "linecolor": "white",
            "ticks": ""
           },
           "bgcolor": "#E5ECF6",
           "radialaxis": {
            "gridcolor": "white",
            "linecolor": "white",
            "ticks": ""
           }
          },
          "scene": {
           "xaxis": {
            "backgroundcolor": "#E5ECF6",
            "gridcolor": "white",
            "gridwidth": 2,
            "linecolor": "white",
            "showbackground": true,
            "ticks": "",
            "zerolinecolor": "white"
           },
           "yaxis": {
            "backgroundcolor": "#E5ECF6",
            "gridcolor": "white",
            "gridwidth": 2,
            "linecolor": "white",
            "showbackground": true,
            "ticks": "",
            "zerolinecolor": "white"
           },
           "zaxis": {
            "backgroundcolor": "#E5ECF6",
            "gridcolor": "white",
            "gridwidth": 2,
            "linecolor": "white",
            "showbackground": true,
            "ticks": "",
            "zerolinecolor": "white"
           }
          },
          "shapedefaults": {
           "line": {
            "color": "#2a3f5f"
           }
          },
          "ternary": {
           "aaxis": {
            "gridcolor": "white",
            "linecolor": "white",
            "ticks": ""
           },
           "baxis": {
            "gridcolor": "white",
            "linecolor": "white",
            "ticks": ""
           },
           "bgcolor": "#E5ECF6",
           "caxis": {
            "gridcolor": "white",
            "linecolor": "white",
            "ticks": ""
           }
          },
          "title": {
           "x": 0.05
          },
          "xaxis": {
           "automargin": true,
           "gridcolor": "white",
           "linecolor": "white",
           "ticks": "",
           "title": {
            "standoff": 15
           },
           "zerolinecolor": "white",
           "zerolinewidth": 2
          },
          "yaxis": {
           "automargin": true,
           "gridcolor": "white",
           "linecolor": "white",
           "ticks": "",
           "title": {
            "standoff": 15
           },
           "zerolinecolor": "white",
           "zerolinewidth": 2
          }
         }
        },
        "title": {
         "text": "NVDA Candlestick Chart"
        },
        "xaxis": {
         "rangeslider": {
          "visible": false
         },
         "title": {
          "text": "Date"
         }
        },
        "yaxis": {
         "title": {
          "text": "Price (USD)"
         }
        }
       }
      }
     },
     "metadata": {},
     "output_type": "display_data"
    }
   ],
   "source": [
    "# Price Trend\n",
    "\n",
    "import plotly.graph_objects as go\n",
    "\n",
    "# Ensure datetime is correct\n",
    "df_stock['ts'] = pd.to_datetime(df_stock['ts'])\n",
    "\n",
    "fig = go.Figure(data=[go.Candlestick(\n",
    "    x=df_stock['ts'],\n",
    "    open=df_stock['open'],\n",
    "    high=df_stock['high'],\n",
    "    low=df_stock['low'],\n",
    "    close=df_stock['close'],\n",
    "    increasing_line_color='green',\n",
    "    decreasing_line_color='red',\n",
    "    name='NVDA'\n",
    ")])\n",
    "\n",
    "fig.update_layout(\n",
    "    title='NVDA Candlestick Chart',\n",
    "    xaxis_title='Date',\n",
    "    yaxis_title='Price (USD)',\n",
    "    xaxis_rangeslider_visible=False\n",
    ")\n",
    "\n",
    "fig.show()\n",
    "\n"
   ]
  },
  {
   "cell_type": "code",
   "execution_count": 137,
   "id": "88e09c5e",
   "metadata": {},
   "outputs": [
    {
     "data": {
      "image/png": "[encoded data removed]",
      "text/plain": [
       "<Figure size 1400x700 with 4 Axes>"
      ]
     },
     "metadata": {},
     "output_type": "display_data"
    }
   ],
   "source": [
    "import mplfinance as mpf\n",
    "\n",
    "# Prepare DataFrame\n",
    "df_plot = df_stock.set_index('ts')[['open','high','low','close','volume']]\n",
    "\n",
    "mpf.plot(df_plot,\n",
    "         type='candle',\n",
    "         style='yahoo',\n",
    "         volume=True,\n",
    "         title='NVDA Candlestick Chart',\n",
    "         mav=(7,30),  # optional moving averages\n",
    "         figsize=(14,7))\n"
   ]
  },
  {
   "cell_type": "markdown",
   "id": "e4bd4e20",
   "metadata": {},
   "source": [
    "Daily Returns & Volatility"
   ]
  },
  {
   "cell_type": "code",
   "execution_count": 138,
   "id": "6b8102f9",
   "metadata": {},
   "outputs": [
    {
     "data": {
      "image/png": "[encoded data removed]",
      "text/plain": [
       "<Figure size 1400x500 with 1 Axes>"
      ]
     },
     "metadata": {},
     "output_type": "display_data"
    },
    {
     "data": {
      "image/png": "[encoded data removed]",
      "text/plain": [
       "<Figure size 1000x500 with 1 Axes>"
      ]
     },
     "metadata": {},
     "output_type": "display_data"
    }
   ],
   "source": [
    "import matplotlib.pyplot as plt\n",
    "import seaborn as sns\n",
    "\n",
    "# Bar chart for daily returns\n",
    "plt.figure(figsize=(14,5))\n",
    "plt.bar(df_stock['ts'], df_stock['daily_return'], color='orange', alpha=0.7)\n",
    "plt.title('NVDA Daily Returns (Bar Chart)')\n",
    "plt.xlabel('Date')\n",
    "plt.ylabel('Return (%)')\n",
    "plt.xticks(rotation=45)\n",
    "plt.show()\n",
    "\n",
    "# Histogram of returns\n",
    "plt.figure(figsize=(10,5))\n",
    "sns.histplot(df_stock['daily_return'].dropna(), bins=50, kde=True, color='blue')\n",
    "plt.title('Distribution of Daily Returns')\n",
    "plt.xlabel('Return (%)')\n",
    "plt.ylabel('Frequency')\n",
    "plt.show()"
   ]
  },
  {
   "cell_type": "code",
   "execution_count": 139,
   "id": "bd6f0324",
   "metadata": {},
   "outputs": [
    {
     "data": {
      "image/png": "[encoded data removed]",
      "text/plain": [
       "<Figure size 1400x600 with 1 Axes>"
      ]
     },
     "metadata": {},
     "output_type": "display_data"
    }
   ],
   "source": [
    "# combined bar + moving average line chart for stock daily returns.\n",
    "\n",
    "import matplotlib.pyplot as plt\n",
    "import pandas as pd\n",
    "\n",
    "# Calculate 7-day rolling average of daily returns\n",
    "df_stock['rolling_7d_return'] = df_stock['daily_return'].rolling(window=7).mean()\n",
    "\n",
    "plt.figure(figsize=(14,6))\n",
    "\n",
    "# Bar chart for daily returns\n",
    "plt.bar(df_stock['ts'], df_stock['daily_return'], color='orange', alpha=0.6, label='Daily Return')\n",
    "\n",
    "# Line chart for 7-day rolling average\n",
    "plt.plot(df_stock['ts'], df_stock['rolling_7d_return'], color='blue', linewidth=2, label='7-Day Rolling Avg')\n",
    "\n",
    "plt.title('NVDA Daily Returns with 7-Day Rolling Average')\n",
    "plt.xlabel('Date')\n",
    "plt.ylabel('Return (%)')\n",
    "plt.xticks(rotation=45)\n",
    "plt.legend()\n",
    "plt.tight_layout()\n",
    "plt.show()\n"
   ]
  },
  {
   "cell_type": "markdown",
   "id": "5cac9f13",
   "metadata": {},
   "source": [
    "Volume and VWAP Trends"
   ]
  },
  {
   "cell_type": "code",
   "execution_count": 140,
   "id": "c024af20",
   "metadata": {},
   "outputs": [
    {
     "data": {
      "application/vnd.plotly.v1+json": {
       "config": {
        "plotlyServerURL": "https://plot.ly"
       },
       "data": [
        {
         "close": {
          "bdata": "AAAAAAAYZkC4HoXrUfBlQHE9CtejaGZApHA9Ctc7ZkDXo3A9CrdlQAAAAAAAgGZAuB6F61FIZkA9CtejcG1mQHE9CtejmGZAZmZmZmbWZkBSuB6F68FmQIXrUbge5WZAexSuR+GyZkBxPQrXo8BmQGZmZmZmjmZAuB6F61HAZkAUrkfhevRlQM3MzMzM7GVAj8L1KFzfZUBI4XoUrj9mQFK4HoXreWZAcT0K16O4ZkAzMzMzM7NmQD0K16NwhWZA9ihcj8LFZUApXI/C9VhlQKRwPQrXU2VAhetRuB51ZUBxPQrXo+BkQFK4HoXrCWVAuB6F61FYZUDD9ShcjypmQD0K16NwJWZACtejcD06ZkAAAAAAADhmQFyPwvUo3GVA4XoUrkdJZUBI4XoUrgdmQD0K16NwFWZA7FG4HoXzZkD2KFyPwk1mQA==",
          "dtype": "f8"
         },
         "high": {
          "bdata": "AAAAAAAgZkBcj8L1KGxmQBSuR+F6fGZAmpmZmZnpZkDhehSuRxFmQGZmZmZmhmZAuB6F61GIZkDNzMzMzHxmQFyPwvUo/GZAmpmZmZnpZkB7FK5H4fpmQI/C9ShcD2dA16NwPQr/ZkBxPQrXo+BmQM3MzMzMvGZAAAAAAADeZkAAAAAAANBmQAAAAAAAAGZAzczMzMwcZkB7FK5H4VJmQIXrUbgevWZAFK5H4XrMZkBI4XoUrs9mQNejcD0KD2dAzczMzMxEZkDjpZvEIIxlQIXrUbgejWVA7FG4HoV7ZUApXI/C9SBlQB+F61G4XmVAj8L1KFxfZUDhehSuR2lmQClcj8L1iGZA16NwPQpTZkAzMzMzM1tmQAAAAAAAMGZAZmZmZmamZUAzMzMzMyNmQMP1KFyPQmZAmpmZmZkRZ0A9CtejcM1mQA==",
          "dtype": "f8"
         },
         "low": {
          "bdata": "16NwPQq/ZUBxPQrXo+BlQOF6FK5HAWZA9ihcj8L9ZUAUrkfhelxlQHE9Ctej0GVAzczMzMz8ZUAAAAAAAAhmQD0K16NwWWZAzczMzMyMZkAAAAAAAIhmQB+F61G4bmZAMzMzMzNrZkAfhetRuG5mQMgHPZtVQWZAexSuR+GSZkBI4XoUru9lQBKDwMqhGWVAUrgeheu5ZUBmZmZmZmZlQArXo3A9EmZAUrgehetZZkAzMzMzM2NmQIXrUbgeDWZAcT0K16OkZUDXo3A9CudkQAAAAAAAHGVAhetRuB4tZUAK16NwPYJkQDMzMzMz62RAofgx5q7XZEDXo3A9Cu9lQI/C9ShcD2ZAZmZmZmYOZkC4HoXrUdBlQFyPwvUozGVAhetRuB4NZUAfhetRuJ5lQPYoXI/C5WVAzTtO0ZHWZUAfhetRuAZmQA==",
          "dtype": "f8"
         },
         "name": "Price",
         "open": {
          "bdata": "cT0K16PAZUAfhetRuD5mQLgehetREGZAzczMzMzcZkB7FK5H4cJlQIXrUbge5WVApHA9CtdzZkBmZmZmZgpmQArXo3A9smZAmpmZmZmxZkCamZmZmcFmQB+F61G43mZASOF6FK7TZkAAAAAAAHhmQFyPwvUovGZAMzMzMzOTZkD2KFyPws1mQOF6FK5H5WVAMzMzMzPbZUDsUbgehZNlQDMzMzMzS2ZA9ihcj8KBZkCPwvUoXL9mQArXo3A9mmZA7FG4HoVDZkAAAAAAAEBlQFK4HoXrYWVACtejcD1SZUApXI/C9QBlQJqZmZmZ8WRAexSuR+EiZUAUrkfhehRmQPYoXI/CdWZAcT0K16M4ZkA9CtejcPVlQAAAAAAAIGZAFK5H4XqUZUCPwvUoXL9lQHE9Ctej+GVAmpmZmZnpZUDXo3A9Cr9mQA==",
          "dtype": "f8"
         },
         "type": "candlestick",
         "x": [
          "2025-07-28T04:00:00",
          "2025-07-29T04:00:00",
          "2025-07-30T04:00:00",
          "2025-07-31T04:00:00",
          "2025-08-01T04:00:00",
          "2025-08-04T04:00:00",
          "2025-08-05T04:00:00",
          "2025-08-06T04:00:00",
          "2025-08-07T04:00:00",
          "2025-08-08T04:00:00",
          "2025-08-11T04:00:00",
          "2025-08-12T04:00:00",
          "2025-08-13T04:00:00",
          "2025-08-14T04:00:00",
          "2025-08-15T04:00:00",
          "2025-08-18T04:00:00",
          "2025-08-19T04:00:00",
          "2025-08-20T04:00:00",
          "2025-08-21T04:00:00",
          "2025-08-22T04:00:00",
          "2025-08-25T04:00:00",
          "2025-08-26T04:00:00",
          "2025-08-27T04:00:00",
          "2025-08-28T04:00:00",
          "2025-08-29T04:00:00",
          "2025-09-02T04:00:00",
          "2025-09-03T04:00:00",
          "2025-09-04T04:00:00",
          "2025-09-05T04:00:00",
          "2025-09-08T04:00:00",
          "2025-09-09T04:00:00",
          "2025-09-10T04:00:00",
          "2025-09-11T04:00:00",
          "2025-09-12T04:00:00",
          "2025-09-15T04:00:00",
          "2025-09-16T04:00:00",
          "2025-09-17T04:00:00",
          "2025-09-18T04:00:00",
          "2025-09-19T04:00:00",
          "2025-09-22T04:00:00",
          "2025-09-23T04:00:00"
         ]
        },
        {
         "line": {
          "color": "brown",
          "width": 2
         },
         "mode": "lines",
         "name": "VWAP",
         "type": "scatter",
         "x": [
          "2025-07-28T04:00:00",
          "2025-07-29T04:00:00",
          "2025-07-30T04:00:00",
          "2025-07-31T04:00:00",
          "2025-08-01T04:00:00",
          "2025-08-04T04:00:00",
          "2025-08-05T04:00:00",
          "2025-08-06T04:00:00",
          "2025-08-07T04:00:00",
          "2025-08-08T04:00:00",
          "2025-08-11T04:00:00",
          "2025-08-12T04:00:00",
          "2025-08-13T04:00:00",
          "2025-08-14T04:00:00",
          "2025-08-15T04:00:00",
          "2025-08-18T04:00:00",
          "2025-08-19T04:00:00",
          "2025-08-20T04:00:00",
          "2025-08-21T04:00:00",
          "2025-08-22T04:00:00",
          "2025-08-25T04:00:00",
          "2025-08-26T04:00:00",
          "2025-08-27T04:00:00",
          "2025-08-28T04:00:00",
          "2025-08-29T04:00:00",
          "2025-09-02T04:00:00",
          "2025-09-03T04:00:00",
          "2025-09-04T04:00:00",
          "2025-09-05T04:00:00",
          "2025-09-08T04:00:00",
          "2025-09-09T04:00:00",
          "2025-09-10T04:00:00",
          "2025-09-11T04:00:00",
          "2025-09-12T04:00:00",
          "2025-09-15T04:00:00",
          "2025-09-16T04:00:00",
          "2025-09-17T04:00:00",
          "2025-09-18T04:00:00",
          "2025-09-19T04:00:00",
          "2025-09-22T04:00:00",
          "2025-09-23T04:00:00"
         ],
         "y": {
          "bdata": "eAskKH7wZUBhMlUwKiFmQM/3U+OlW2ZAhlrTvON0ZkBdbcX+srtlQKjGSzeJS2ZAKVyPwvVGZkAZBFYOLVBmQCcxCKwcqmZACRueXinNZkDaG3xhMtFmQIofY+5awmZASOF6FK6tZkB0JJf/kLhmQL7BFyZTfWZAqRPQRNi6ZkAwuycPCzlmQNjw9EpZkmVAjNtoAG/jZUDzH9JvXxlmQGaIY13cgGZAtaZ5xymoZkA7cM6I0pBmQPLSTWIQemZA9wZfmEzRZUC0yHa+nzRlQJp3nKIjVWVA07zjFB1bZUALtaZ5x9FkQIQNT6+ULWVAcRsN4C0iZUAtsp3vpy5mQIzbaABvN2ZA8kHPZtU3ZkCvJeSDnhFmQJ/Nqs/V8GVADJOpglFNZUDu68A5I/ZlQKjGSzeJD2ZAldQJaCKgZkDgvg6cM25mQA==",
          "dtype": "f8"
         }
        }
       ],
       "layout": {
        "template": {
         "data": {
          "bar": [
           {
            "error_x": {
             "color": "#f2f5fa"
            },
            "error_y": {
             "color": "#f2f5fa"
            },
            "marker": {
             "line": {
              "color": "rgb(17,17,17)",
              "width": 0.5
             },
             "pattern": {
              "fillmode": "overlay",
              "size": 10,
              "solidity": 0.2
             }
            },
            "type": "bar"
           }
          ],
          "barpolar": [
           {
            "marker": {
             "line": {
              "color": "rgb(17,17,17)",
              "width": 0.5
             },
             "pattern": {
              "fillmode": "overlay",
              "size": 10,
              "solidity": 0.2
             }
            },
            "type": "barpolar"
           }
          ],
          "carpet": [
           {
            "aaxis": {
             "endlinecolor": "#A2B1C6",
             "gridcolor": "#506784",
             "linecolor": "#506784",
             "minorgridcolor": "#506784",
             "startlinecolor": "#A2B1C6"
            },
            "baxis": {
             "endlinecolor": "#A2B1C6",
             "gridcolor": "#506784",
             "linecolor": "#506784",
             "minorgridcolor": "#506784",
             "startlinecolor": "#A2B1C6"
            },
            "type": "carpet"
           }
          ],
          "choropleth": [
           {
            "colorbar": {
             "outlinewidth": 0,
             "ticks": ""
            },
            "type": "choropleth"
           }
          ],
          "contour": [
           {
            "colorbar": {
             "outlinewidth": 0,
             "ticks": ""
            },
            "colorscale": [
             [
              0,
              "#0d0887"
             ],
             [
              0.1111111111111111,
              "#46039f"
             ],
             [
              0.2222222222222222,
              "#7201a8"
             ],
             [
              0.3333333333333333,
              "#9c179e"
             ],
             [
              0.4444444444444444,
              "#bd3786"
             ],
             [
              0.5555555555555556,
              "#d8576b"
             ],
             [
              0.6666666666666666,
              "#ed7953"
             ],
             [
              0.7777777777777778,
              "#fb9f3a"
             ],
             [
              0.8888888888888888,
              "#fdca26"
             ],
             [
              1,
              "#f0f921"
             ]
            ],
            "type": "contour"
           }
          ],
          "contourcarpet": [
           {
            "colorbar": {
             "outlinewidth": 0,
             "ticks": ""
            },
            "type": "contourcarpet"
           }
          ],
          "heatmap": [
           {
            "colorbar": {
             "outlinewidth": 0,
             "ticks": ""
            },
            "colorscale": [
             [
              0,
              "#0d0887"
             ],
             [
              0.1111111111111111,
              "#46039f"
             ],
             [
              0.2222222222222222,
              "#7201a8"
             ],
             [
              0.3333333333333333,
              "#9c179e"
             ],
             [
              0.4444444444444444,
              "#bd3786"
             ],
             [
              0.5555555555555556,
              "#d8576b"
             ],
             [
              0.6666666666666666,
              "#ed7953"
             ],
             [
              0.7777777777777778,
              "#fb9f3a"
             ],
             [
              0.8888888888888888,
              "#fdca26"
             ],
             [
              1,
              "#f0f921"
             ]
            ],
            "type": "heatmap"
           }
          ],
          "histogram": [
           {
            "marker": {
             "pattern": {
              "fillmode": "overlay",
              "size": 10,
              "solidity": 0.2
             }
            },
            "type": "histogram"
           }
          ],
          "histogram2d": [
           {
            "colorbar": {
             "outlinewidth": 0,
             "ticks": ""
            },
            "colorscale": [
             [
              0,
              "#0d0887"
             ],
             [
              0.1111111111111111,
              "#46039f"
             ],
             [
              0.2222222222222222,
              "#7201a8"
             ],
             [
              0.3333333333333333,
              "#9c179e"
             ],
             [
              0.4444444444444444,
              "#bd3786"
             ],
             [
              0.5555555555555556,
              "#d8576b"
             ],
             [
              0.6666666666666666,
              "#ed7953"
             ],
             [
              0.7777777777777778,
              "#fb9f3a"
             ],
             [
              0.8888888888888888,
              "#fdca26"
             ],
             [
              1,
              "#f0f921"
             ]
            ],
            "type": "histogram2d"
           }
          ],
          "histogram2dcontour": [
           {
            "colorbar": {
             "outlinewidth": 0,
             "ticks": ""
            },
            "colorscale": [
             [
              0,
              "#0d0887"
             ],
             [
              0.1111111111111111,
              "#46039f"
             ],
             [
              0.2222222222222222,
              "#7201a8"
             ],
             [
              0.3333333333333333,
              "#9c179e"
             ],
             [
              0.4444444444444444,
              "#bd3786"
             ],
             [
              0.5555555555555556,
              "#d8576b"
             ],
             [
              0.6666666666666666,
              "#ed7953"
             ],
             [
              0.7777777777777778,
              "#fb9f3a"
             ],
             [
              0.8888888888888888,
              "#fdca26"
             ],
             [
              1,
              "#f0f921"
             ]
            ],
            "type": "histogram2dcontour"
           }
          ],
          "mesh3d": [
           {
            "colorbar": {
             "outlinewidth": 0,
             "ticks": ""
            },
            "type": "mesh3d"
           }
          ],
          "parcoords": [
           {
            "line": {
             "colorbar": {
              "outlinewidth": 0,
              "ticks": ""
             }
            },
            "type": "parcoords"
           }
          ],
          "pie": [
           {
            "automargin": true,
            "type": "pie"
           }
          ],
          "scatter": [
           {
            "marker": {
             "line": {
              "color": "#283442"
             }
            },
            "type": "scatter"
           }
          ],
          "scatter3d": [
           {
            "line": {
             "colorbar": {
              "outlinewidth": 0,
              "ticks": ""
             }
            },
            "marker": {
             "colorbar": {
              "outlinewidth": 0,
              "ticks": ""
             }
            },
            "type": "scatter3d"
           }
          ],
          "scattercarpet": [
           {
            "marker": {
             "colorbar": {
              "outlinewidth": 0,
              "ticks": ""
             }
            },
            "type": "scattercarpet"
           }
          ],
          "scattergeo": [
           {
            "marker": {
             "colorbar": {
              "outlinewidth": 0,
              "ticks": ""
             }
            },
            "type": "scattergeo"
           }
          ],
          "scattergl": [
           {
            "marker": {
             "line": {
              "color": "#283442"
             }
            },
            "type": "scattergl"
           }
          ],
          "scattermap": [
           {
            "marker": {
             "colorbar": {
              "outlinewidth": 0,
              "ticks": ""
             }
            },
            "type": "scattermap"
           }
          ],
          "scattermapbox": [
           {
            "marker": {
             "colorbar": {
              "outlinewidth": 0,
              "ticks": ""
             }
            },
            "type": "scattermapbox"
           }
          ],
          "scatterpolar": [
           {
            "marker": {
             "colorbar": {
              "outlinewidth": 0,
              "ticks": ""
             }
            },
            "type": "scatterpolar"
           }
          ],
          "scatterpolargl": [
           {
            "marker": {
             "colorbar": {
              "outlinewidth": 0,
              "ticks": ""
             }
            },
            "type": "scatterpolargl"
           }
          ],
          "scatterternary": [
           {
            "marker": {
             "colorbar": {
              "outlinewidth": 0,
              "ticks": ""
             }
            },
            "type": "scatterternary"
           }
          ],
          "surface": [
           {
            "colorbar": {
             "outlinewidth": 0,
             "ticks": ""
            },
            "colorscale": [
             [
              0,
              "#0d0887"
             ],
             [
              0.1111111111111111,
              "#46039f"
             ],
             [
              0.2222222222222222,
              "#7201a8"
             ],
             [
              0.3333333333333333,
              "#9c179e"
             ],
             [
              0.4444444444444444,
              "#bd3786"
             ],
             [
              0.5555555555555556,
              "#d8576b"
             ],
             [
              0.6666666666666666,
              "#ed7953"
             ],
             [
              0.7777777777777778,
              "#fb9f3a"
             ],
             [
              0.8888888888888888,
              "#fdca26"
             ],
             [
              1,
              "#f0f921"
             ]
            ],
            "type": "surface"
           }
          ],
          "table": [
           {
            "cells": {
             "fill": {
              "color": "#506784"
             },
             "line": {
              "color": "rgb(17,17,17)"
             }
            },
            "header": {
             "fill": {
              "color": "#2a3f5f"
             },
             "line": {
              "color": "rgb(17,17,17)"
             }
            },
            "type": "table"
           }
          ]
         },
         "layout": {
          "annotationdefaults": {
           "arrowcolor": "#f2f5fa",
           "arrowhead": 0,
           "arrowwidth": 1
          },
          "autotypenumbers": "strict",
          "coloraxis": {
           "colorbar": {
            "outlinewidth": 0,
            "ticks": ""
           }
          },
          "colorscale": {
           "diverging": [
            [
             0,
             "#8e0152"
            ],
            [
             0.1,
             "#c51b7d"
            ],
            [
             0.2,
             "#de77ae"
            ],
            [
             0.3,
             "#f1b6da"
            ],
            [
             0.4,
             "#fde0ef"
            ],
            [
             0.5,
             "#f7f7f7"
            ],
            [
             0.6,
             "#e6f5d0"
            ],
            [
             0.7,
             "#b8e186"
            ],
            [
             0.8,
             "#7fbc41"
            ],
            [
             0.9,
             "#4d9221"
            ],
            [
             1,
             "#276419"
            ]
           ],
           "sequential": [
            [
             0,
             "#0d0887"
            ],
            [
             0.1111111111111111,
             "#46039f"
            ],
            [
             0.2222222222222222,
             "#7201a8"
            ],
            [
             0.3333333333333333,
             "#9c179e"
            ],
            [
             0.4444444444444444,
             "#bd3786"
            ],
            [
             0.5555555555555556,
             "#d8576b"
            ],
            [
             0.6666666666666666,
             "#ed7953"
            ],
            [
             0.7777777777777778,
             "#fb9f3a"
            ],
            [
             0.8888888888888888,
             "#fdca26"
            ],
            [
             1,
             "#f0f921"
            ]
           ],
           "sequentialminus": [
            [
             0,
             "#0d0887"
            ],
            [
             0.1111111111111111,
             "#46039f"
            ],
            [
             0.2222222222222222,
             "#7201a8"
            ],
            [
             0.3333333333333333,
             "#9c179e"
            ],
            [
             0.4444444444444444,
             "#bd3786"
            ],
            [
             0.5555555555555556,
             "#d8576b"
            ],
            [
             0.6666666666666666,
             "#ed7953"
            ],
            [
             0.7777777777777778,
             "#fb9f3a"
            ],
            [
             0.8888888888888888,
             "#fdca26"
            ],
            [
             1,
             "#f0f921"
            ]
           ]
          },
          "colorway": [
           "#636efa",
           "#EF553B",
           "#00cc96",
           "#ab63fa",
           "#FFA15A",
           "#19d3f3",
           "#FF6692",
           "#B6E880",
           "#FF97FF",
           "#FECB52"
          ],
          "font": {
           "color": "#f2f5fa"
          },
          "geo": {
           "bgcolor": "rgb(17,17,17)",
           "lakecolor": "rgb(17,17,17)",
           "landcolor": "rgb(17,17,17)",
           "showlakes": true,
           "showland": true,
           "subunitcolor": "#506784"
          },
          "hoverlabel": {
           "align": "left"
          },
          "hovermode": "closest",
          "mapbox": {
           "style": "dark"
          },
          "paper_bgcolor": "rgb(17,17,17)",
          "plot_bgcolor": "rgb(17,17,17)",
          "polar": {
           "angularaxis": {
            "gridcolor": "#506784",
            "linecolor": "#506784",
            "ticks": ""
           },
           "bgcolor": "rgb(17,17,17)",
           "radialaxis": {
            "gridcolor": "#506784",
            "linecolor": "#506784",
            "ticks": ""
           }
          },
          "scene": {
           "xaxis": {
            "backgroundcolor": "rgb(17,17,17)",
            "gridcolor": "#506784",
            "gridwidth": 2,
            "linecolor": "#506784",
            "showbackground": true,
            "ticks": "",
            "zerolinecolor": "#C8D4E3"
           },
           "yaxis": {
            "backgroundcolor": "rgb(17,17,17)",
            "gridcolor": "#506784",
            "gridwidth": 2,
            "linecolor": "#506784",
            "showbackground": true,
            "ticks": "",
            "zerolinecolor": "#C8D4E3"
           },
           "zaxis": {
            "backgroundcolor": "rgb(17,17,17)",
            "gridcolor": "#506784",
            "gridwidth": 2,
            "linecolor": "#506784",
            "showbackground": true,
            "ticks": "",
            "zerolinecolor": "#C8D4E3"
           }
          },
          "shapedefaults": {
           "line": {
            "color": "#f2f5fa"
           }
          },
          "sliderdefaults": {
           "bgcolor": "#C8D4E3",
           "bordercolor": "rgb(17,17,17)",
           "borderwidth": 1,
           "tickwidth": 0
          },
          "ternary": {
           "aaxis": {
            "gridcolor": "#506784",
            "linecolor": "#506784",
            "ticks": ""
           },
           "baxis": {
            "gridcolor": "#506784",
            "linecolor": "#506784",
            "ticks": ""
           },
           "bgcolor": "rgb(17,17,17)",
           "caxis": {
            "gridcolor": "#506784",
            "linecolor": "#506784",
            "ticks": ""
           }
          },
          "title": {
           "x": 0.05
          },
          "updatemenudefaults": {
           "bgcolor": "#506784",
           "borderwidth": 0
          },
          "xaxis": {
           "automargin": true,
           "gridcolor": "#283442",
           "linecolor": "#506784",
           "ticks": "",
           "title": {
            "standoff": 15
           },
           "zerolinecolor": "#283442",
           "zerolinewidth": 2
          },
          "yaxis": {
           "automargin": true,
           "gridcolor": "#283442",
           "linecolor": "#506784",
           "ticks": "",
           "title": {
            "standoff": 15
           },
           "zerolinecolor": "#283442",
           "zerolinewidth": 2
          }
         }
        },
        "title": {
         "text": "NVDA Daily Price and VWAP"
        },
        "xaxis": {
         "rangeslider": {
          "visible": false
         },
         "title": {
          "text": "Date"
         }
        },
        "yaxis": {
         "title": {
          "text": "Price"
         }
        }
       }
      }
     },
     "metadata": {},
     "output_type": "display_data"
    }
   ],
   "source": [
    "# Candlestick chart with daily OHLC prices and overlay VWAP\n",
    "\n",
    "import plotly.graph_objects as go\n",
    "\n",
    "# Create candlestick chart\n",
    "fig = go.Figure(data=[go.Candlestick(\n",
    "    x=df_stock['ts'],\n",
    "    open=df_stock['open'],\n",
    "    high=df_stock['high'],\n",
    "    low=df_stock['low'],\n",
    "    close=df_stock['close'],\n",
    "    name='Price'\n",
    ")])\n",
    "\n",
    "# Add VWAP as a line\n",
    "fig.add_trace(go.Scatter(\n",
    "    x=df_stock['ts'],\n",
    "    y=df_stock['vwap'],\n",
    "    mode='lines',\n",
    "    line=dict(color='brown', width=2),\n",
    "    name='VWAP'\n",
    "))\n",
    "\n",
    "# Update layout\n",
    "fig.update_layout(\n",
    "    title='NVDA Daily Price and VWAP',\n",
    "    xaxis_title='Date',\n",
    "    yaxis_title='Price',\n",
    "    xaxis_rangeslider_visible=False,\n",
    "    template='plotly_dark'\n",
    ")\n",
    "\n",
    "fig.show()\n"
   ]
  },
  {
   "cell_type": "code",
   "execution_count": 141,
   "id": "8946f038",
   "metadata": {},
   "outputs": [
    {
     "data": {
      "application/vnd.plotly.v1+json": {
       "config": {
        "plotlyServerURL": "https://plot.ly"
       },
       "data": [
        {
         "close": {
          "bdata": "AAAAAAAYZkC4HoXrUfBlQHE9CtejaGZApHA9Ctc7ZkDXo3A9CrdlQAAAAAAAgGZAuB6F61FIZkA9CtejcG1mQHE9CtejmGZAZmZmZmbWZkBSuB6F68FmQIXrUbge5WZAexSuR+GyZkBxPQrXo8BmQGZmZmZmjmZAuB6F61HAZkAUrkfhevRlQM3MzMzM7GVAj8L1KFzfZUBI4XoUrj9mQFK4HoXreWZAcT0K16O4ZkAzMzMzM7NmQD0K16NwhWZA9ihcj8LFZUApXI/C9VhlQKRwPQrXU2VAhetRuB51ZUBxPQrXo+BkQFK4HoXrCWVAuB6F61FYZUDD9ShcjypmQD0K16NwJWZACtejcD06ZkAAAAAAADhmQFyPwvUo3GVA4XoUrkdJZUBI4XoUrgdmQD0K16NwFWZA7FG4HoXzZkD2KFyPwk1mQA==",
          "dtype": "f8"
         },
         "high": {
          "bdata": "AAAAAAAgZkBcj8L1KGxmQBSuR+F6fGZAmpmZmZnpZkDhehSuRxFmQGZmZmZmhmZAuB6F61GIZkDNzMzMzHxmQFyPwvUo/GZAmpmZmZnpZkB7FK5H4fpmQI/C9ShcD2dA16NwPQr/ZkBxPQrXo+BmQM3MzMzMvGZAAAAAAADeZkAAAAAAANBmQAAAAAAAAGZAzczMzMwcZkB7FK5H4VJmQIXrUbgevWZAFK5H4XrMZkBI4XoUrs9mQNejcD0KD2dAzczMzMxEZkDjpZvEIIxlQIXrUbgejWVA7FG4HoV7ZUApXI/C9SBlQB+F61G4XmVAj8L1KFxfZUDhehSuR2lmQClcj8L1iGZA16NwPQpTZkAzMzMzM1tmQAAAAAAAMGZAZmZmZmamZUAzMzMzMyNmQMP1KFyPQmZAmpmZmZkRZ0A9CtejcM1mQA==",
          "dtype": "f8"
         },
         "low": {
          "bdata": "16NwPQq/ZUBxPQrXo+BlQOF6FK5HAWZA9ihcj8L9ZUAUrkfhelxlQHE9Ctej0GVAzczMzMz8ZUAAAAAAAAhmQD0K16NwWWZAzczMzMyMZkAAAAAAAIhmQB+F61G4bmZAMzMzMzNrZkAfhetRuG5mQMgHPZtVQWZAexSuR+GSZkBI4XoUru9lQBKDwMqhGWVAUrgeheu5ZUBmZmZmZmZlQArXo3A9EmZAUrgehetZZkAzMzMzM2NmQIXrUbgeDWZAcT0K16OkZUDXo3A9CudkQAAAAAAAHGVAhetRuB4tZUAK16NwPYJkQDMzMzMz62RAofgx5q7XZEDXo3A9Cu9lQI/C9ShcD2ZAZmZmZmYOZkC4HoXrUdBlQFyPwvUozGVAhetRuB4NZUAfhetRuJ5lQPYoXI/C5WVAzTtO0ZHWZUAfhetRuAZmQA==",
          "dtype": "f8"
         },
         "name": "Price",
         "open": {
          "bdata": "cT0K16PAZUAfhetRuD5mQLgehetREGZAzczMzMzcZkB7FK5H4cJlQIXrUbge5WVApHA9CtdzZkBmZmZmZgpmQArXo3A9smZAmpmZmZmxZkCamZmZmcFmQB+F61G43mZASOF6FK7TZkAAAAAAAHhmQFyPwvUovGZAMzMzMzOTZkD2KFyPws1mQOF6FK5H5WVAMzMzMzPbZUDsUbgehZNlQDMzMzMzS2ZA9ihcj8KBZkCPwvUoXL9mQArXo3A9mmZA7FG4HoVDZkAAAAAAAEBlQFK4HoXrYWVACtejcD1SZUApXI/C9QBlQJqZmZmZ8WRAexSuR+EiZUAUrkfhehRmQPYoXI/CdWZAcT0K16M4ZkA9CtejcPVlQAAAAAAAIGZAFK5H4XqUZUCPwvUoXL9lQHE9Ctej+GVAmpmZmZnpZUDXo3A9Cr9mQA==",
          "dtype": "f8"
         },
         "type": "candlestick",
         "x": [
          "2025-07-28T04:00:00",
          "2025-07-29T04:00:00",
          "2025-07-30T04:00:00",
          "2025-07-31T04:00:00",
          "2025-08-01T04:00:00",
          "2025-08-04T04:00:00",
          "2025-08-05T04:00:00",
          "2025-08-06T04:00:00",
          "2025-08-07T04:00:00",
          "2025-08-08T04:00:00",
          "2025-08-11T04:00:00",
          "2025-08-12T04:00:00",
          "2025-08-13T04:00:00",
          "2025-08-14T04:00:00",
          "2025-08-15T04:00:00",
          "2025-08-18T04:00:00",
          "2025-08-19T04:00:00",
          "2025-08-20T04:00:00",
          "2025-08-21T04:00:00",
          "2025-08-22T04:00:00",
          "2025-08-25T04:00:00",
          "2025-08-26T04:00:00",
          "2025-08-27T04:00:00",
          "2025-08-28T04:00:00",
          "2025-08-29T04:00:00",
          "2025-09-02T04:00:00",
          "2025-09-03T04:00:00",
          "2025-09-04T04:00:00",
          "2025-09-05T04:00:00",
          "2025-09-08T04:00:00",
          "2025-09-09T04:00:00",
          "2025-09-10T04:00:00",
          "2025-09-11T04:00:00",
          "2025-09-12T04:00:00",
          "2025-09-15T04:00:00",
          "2025-09-16T04:00:00",
          "2025-09-17T04:00:00",
          "2025-09-18T04:00:00",
          "2025-09-19T04:00:00",
          "2025-09-22T04:00:00",
          "2025-09-23T04:00:00"
         ],
         "xaxis": "x",
         "yaxis": "y"
        },
        {
         "line": {
          "color": "brown",
          "width": 2
         },
         "mode": "lines",
         "name": "VWAP",
         "type": "scatter",
         "x": [
          "2025-07-28T04:00:00",
          "2025-07-29T04:00:00",
          "2025-07-30T04:00:00",
          "2025-07-31T04:00:00",
          "2025-08-01T04:00:00",
          "2025-08-04T04:00:00",
          "2025-08-05T04:00:00",
          "2025-08-06T04:00:00",
          "2025-08-07T04:00:00",
          "2025-08-08T04:00:00",
          "2025-08-11T04:00:00",
          "2025-08-12T04:00:00",
          "2025-08-13T04:00:00",
          "2025-08-14T04:00:00",
          "2025-08-15T04:00:00",
          "2025-08-18T04:00:00",
          "2025-08-19T04:00:00",
          "2025-08-20T04:00:00",
          "2025-08-21T04:00:00",
          "2025-08-22T04:00:00",
          "2025-08-25T04:00:00",
          "2025-08-26T04:00:00",
          "2025-08-27T04:00:00",
          "2025-08-28T04:00:00",
          "2025-08-29T04:00:00",
          "2025-09-02T04:00:00",
          "2025-09-03T04:00:00",
          "2025-09-04T04:00:00",
          "2025-09-05T04:00:00",
          "2025-09-08T04:00:00",
          "2025-09-09T04:00:00",
          "2025-09-10T04:00:00",
          "2025-09-11T04:00:00",
          "2025-09-12T04:00:00",
          "2025-09-15T04:00:00",
          "2025-09-16T04:00:00",
          "2025-09-17T04:00:00",
          "2025-09-18T04:00:00",
          "2025-09-19T04:00:00",
          "2025-09-22T04:00:00",
          "2025-09-23T04:00:00"
         ],
         "xaxis": "x",
         "y": {
          "bdata": "eAskKH7wZUBhMlUwKiFmQM/3U+OlW2ZAhlrTvON0ZkBdbcX+srtlQKjGSzeJS2ZAKVyPwvVGZkAZBFYOLVBmQCcxCKwcqmZACRueXinNZkDaG3xhMtFmQIofY+5awmZASOF6FK6tZkB0JJf/kLhmQL7BFyZTfWZAqRPQRNi6ZkAwuycPCzlmQNjw9EpZkmVAjNtoAG/jZUDzH9JvXxlmQGaIY13cgGZAtaZ5xymoZkA7cM6I0pBmQPLSTWIQemZA9wZfmEzRZUC0yHa+nzRlQJp3nKIjVWVA07zjFB1bZUALtaZ5x9FkQIQNT6+ULWVAcRsN4C0iZUAtsp3vpy5mQIzbaABvN2ZA8kHPZtU3ZkCvJeSDnhFmQJ/Nqs/V8GVADJOpglFNZUDu68A5I/ZlQKjGSzeJD2ZAldQJaCKgZkDgvg6cM25mQA==",
          "dtype": "f8"
         },
         "yaxis": "y"
        },
        {
         "marker": {
          "color": "purple"
         },
         "name": "Volume",
         "type": "bar",
         "x": [
          "2025-07-28T04:00:00",
          "2025-07-29T04:00:00",
          "2025-07-30T04:00:00",
          "2025-07-31T04:00:00",
          "2025-08-01T04:00:00",
          "2025-08-04T04:00:00",
          "2025-08-05T04:00:00",
          "2025-08-06T04:00:00",
          "2025-08-07T04:00:00",
          "2025-08-08T04:00:00",
          "2025-08-11T04:00:00",
          "2025-08-12T04:00:00",
          "2025-08-13T04:00:00",
          "2025-08-14T04:00:00",
          "2025-08-15T04:00:00",
          "2025-08-18T04:00:00",
          "2025-08-19T04:00:00",
          "2025-08-20T04:00:00",
          "2025-08-21T04:00:00",
          "2025-08-22T04:00:00",
          "2025-08-25T04:00:00",
          "2025-08-26T04:00:00",
          "2025-08-27T04:00:00",
          "2025-08-28T04:00:00",
          "2025-08-29T04:00:00",
          "2025-09-02T04:00:00",
          "2025-09-03T04:00:00",
          "2025-09-04T04:00:00",
          "2025-09-05T04:00:00",
          "2025-09-08T04:00:00",
          "2025-09-09T04:00:00",
          "2025-09-10T04:00:00",
          "2025-09-11T04:00:00",
          "2025-09-12T04:00:00",
          "2025-09-15T04:00:00",
          "2025-09-16T04:00:00",
          "2025-09-17T04:00:00",
          "2025-09-18T04:00:00",
          "2025-09-19T04:00:00",
          "2025-09-22T04:00:00",
          "2025-09-23T04:00:00"
         ],
         "xaxis": "x2",
         "y": {
          "bdata": "AAAAwi2xoEEAAACQEl6iQQAAACCWx6RBAAAAjE1tqkEAAACyumGoQQAAACLuqaFBAAAAii6lokEAAACSxlqgQQAAALr1GqJBAAAAHIlrnUEAAADuSX2gQQAAAGRNX6FBAAAA2D9xpUEAAACcWOOeQQAAAGIeq6JBAAAAXCB5n0EAAABGvxSmQQAAAIqipalBAAAAJLWxoEEAAABmHZmkQQAAAGrBbqNBAAAAdPQbpEEAAADKdxOsQQAAALC9y7BBAAAAIqT/rEEAAABql46rQQAAAFLZmaNBAAAAAG7joEEAAAC2aMGqQQAAAFrWhaNBAAAA0P7HokEAAABo+QqrQQAAANQDBaJBAAAAyPbHnUEAAABu9oehQQAAAN75xqBBAAAA0vVAqUEAAADiJtymQQAAAH45RqxBAAAAiVUSsEEAAACAc/SmQQ==",
          "dtype": "f8"
         },
         "yaxis": "y2"
        }
       ],
       "layout": {
        "legend": {
         "orientation": "h",
         "x": 1,
         "xanchor": "right",
         "y": 1.02,
         "yanchor": "bottom"
        },
        "template": {
         "data": {
          "bar": [
           {
            "error_x": {
             "color": "#f2f5fa"
            },
            "error_y": {
             "color": "#f2f5fa"
            },
            "marker": {
             "line": {
              "color": "rgb(17,17,17)",
              "width": 0.5
             },
             "pattern": {
              "fillmode": "overlay",
              "size": 10,
              "solidity": 0.2
             }
            },
            "type": "bar"
           }
          ],
          "barpolar": [
           {
            "marker": {
             "line": {
              "color": "rgb(17,17,17)",
              "width": 0.5
             },
             "pattern": {
              "fillmode": "overlay",
              "size": 10,
              "solidity": 0.2
             }
            },
            "type": "barpolar"
           }
          ],
          "carpet": [
           {
            "aaxis": {
             "endlinecolor": "#A2B1C6",
             "gridcolor": "#506784",
             "linecolor": "#506784",
             "minorgridcolor": "#506784",
             "startlinecolor": "#A2B1C6"
            },
            "baxis": {
             "endlinecolor": "#A2B1C6",
             "gridcolor": "#506784",
             "linecolor": "#506784",
             "minorgridcolor": "#506784",
             "startlinecolor": "#A2B1C6"
            },
            "type": "carpet"
           }
          ],
          "choropleth": [
           {
            "colorbar": {
             "outlinewidth": 0,
             "ticks": ""
            },
            "type": "choropleth"
           }
          ],
          "contour": [
           {
            "colorbar": {
             "outlinewidth": 0,
             "ticks": ""
            },
            "colorscale": [
             [
              0,
              "#0d0887"
             ],
             [
              0.1111111111111111,
              "#46039f"
             ],
             [
              0.2222222222222222,
              "#7201a8"
             ],
             [
              0.3333333333333333,
              "#9c179e"
             ],
             [
              0.4444444444444444,
              "#bd3786"
             ],
             [
              0.5555555555555556,
              "#d8576b"
             ],
             [
              0.6666666666666666,
              "#ed7953"
             ],
             [
              0.7777777777777778,
              "#fb9f3a"
             ],
             [
              0.8888888888888888,
              "#fdca26"
             ],
             [
              1,
              "#f0f921"
             ]
            ],
            "type": "contour"
           }
          ],
          "contourcarpet": [
           {
            "colorbar": {
             "outlinewidth": 0,
             "ticks": ""
            },
            "type": "contourcarpet"
           }
          ],
          "heatmap": [
           {
            "colorbar": {
             "outlinewidth": 0,
             "ticks": ""
            },
            "colorscale": [
             [
              0,
              "#0d0887"
             ],
             [
              0.1111111111111111,
              "#46039f"
             ],
             [
              0.2222222222222222,
              "#7201a8"
             ],
             [
              0.3333333333333333,
              "#9c179e"
             ],
             [
              0.4444444444444444,
              "#bd3786"
             ],
             [
              0.5555555555555556,
              "#d8576b"
             ],
             [
              0.6666666666666666,
              "#ed7953"
             ],
             [
              0.7777777777777778,
              "#fb9f3a"
             ],
             [
              0.8888888888888888,
              "#fdca26"
             ],
             [
              1,
              "#f0f921"
             ]
            ],
            "type": "heatmap"
           }
          ],
          "histogram": [
           {
            "marker": {
             "pattern": {
              "fillmode": "overlay",
              "size": 10,
              "solidity": 0.2
             }
            },
            "type": "histogram"
           }
          ],
          "histogram2d": [
           {
            "colorbar": {
             "outlinewidth": 0,
             "ticks": ""
            },
            "colorscale": [
             [
              0,
              "#0d0887"
             ],
             [
              0.1111111111111111,
              "#46039f"
             ],
             [
              0.2222222222222222,
              "#7201a8"
             ],
             [
              0.3333333333333333,
              "#9c179e"
             ],
             [
              0.4444444444444444,
              "#bd3786"
             ],
             [
              0.5555555555555556,
              "#d8576b"
             ],
             [
              0.6666666666666666,
              "#ed7953"
             ],
             [
              0.7777777777777778,
              "#fb9f3a"
             ],
             [
              0.8888888888888888,
              "#fdca26"
             ],
             [
              1,
              "#f0f921"
             ]
            ],
            "type": "histogram2d"
           }
          ],
          "histogram2dcontour": [
           {
            "colorbar": {
             "outlinewidth": 0,
             "ticks": ""
            },
            "colorscale": [
             [
              0,
              "#0d0887"
             ],
             [
              0.1111111111111111,
              "#46039f"
             ],
             [
              0.2222222222222222,
              "#7201a8"
             ],
             [
              0.3333333333333333,
              "#9c179e"
             ],
             [
              0.4444444444444444,
              "#bd3786"
             ],
             [
              0.5555555555555556,
              "#d8576b"
             ],
             [
              0.6666666666666666,
              "#ed7953"
             ],
             [
              0.7777777777777778,
              "#fb9f3a"
             ],
             [
              0.8888888888888888,
              "#fdca26"
             ],
             [
              1,
              "#f0f921"
             ]
            ],
            "type": "histogram2dcontour"
           }
          ],
          "mesh3d": [
           {
            "colorbar": {
             "outlinewidth": 0,
             "ticks": ""
            },
            "type": "mesh3d"
           }
          ],
          "parcoords": [
           {
            "line": {
             "colorbar": {
              "outlinewidth": 0,
              "ticks": ""
             }
            },
            "type": "parcoords"
           }
          ],
          "pie": [
           {
            "automargin": true,
            "type": "pie"
           }
          ],
          "scatter": [
           {
            "marker": {
             "line": {
              "color": "#283442"
             }
            },
            "type": "scatter"
           }
          ],
          "scatter3d": [
           {
            "line": {
             "colorbar": {
              "outlinewidth": 0,
              "ticks": ""
             }
            },
            "marker": {
             "colorbar": {
              "outlinewidth": 0,
              "ticks": ""
             }
            },
            "type": "scatter3d"
           }
          ],
          "scattercarpet": [
           {
            "marker": {
             "colorbar": {
              "outlinewidth": 0,
              "ticks": ""
             }
            },
            "type": "scattercarpet"
           }
          ],
          "scattergeo": [
           {
            "marker": {
             "colorbar": {
              "outlinewidth": 0,
              "ticks": ""
             }
            },
            "type": "scattergeo"
           }
          ],
          "scattergl": [
           {
            "marker": {
             "line": {
              "color": "#283442"
             }
            },
            "type": "scattergl"
           }
          ],
          "scattermap": [
           {
            "marker": {
             "colorbar": {
              "outlinewidth": 0,
              "ticks": ""
             }
            },
            "type": "scattermap"
           }
          ],
          "scattermapbox": [
           {
            "marker": {
             "colorbar": {
              "outlinewidth": 0,
              "ticks": ""
             }
            },
            "type": "scattermapbox"
           }
          ],
          "scatterpolar": [
           {
            "marker": {
             "colorbar": {
              "outlinewidth": 0,
              "ticks": ""
             }
            },
            "type": "scatterpolar"
           }
          ],
          "scatterpolargl": [
           {
            "marker": {
             "colorbar": {
              "outlinewidth": 0,
              "ticks": ""
             }
            },
            "type": "scatterpolargl"
           }
          ],
          "scatterternary": [
           {
            "marker": {
             "colorbar": {
              "outlinewidth": 0,
              "ticks": ""
             }
            },
            "type": "scatterternary"
           }
          ],
          "surface": [
           {
            "colorbar": {
             "outlinewidth": 0,
             "ticks": ""
            },
            "colorscale": [
             [
              0,
              "#0d0887"
             ],
             [
              0.1111111111111111,
              "#46039f"
             ],
             [
              0.2222222222222222,
              "#7201a8"
             ],
             [
              0.3333333333333333,
              "#9c179e"
             ],
             [
              0.4444444444444444,
              "#bd3786"
             ],
             [
              0.5555555555555556,
              "#d8576b"
             ],
             [
              0.6666666666666666,
              "#ed7953"
             ],
             [
              0.7777777777777778,
              "#fb9f3a"
             ],
             [
              0.8888888888888888,
              "#fdca26"
             ],
             [
              1,
              "#f0f921"
             ]
            ],
            "type": "surface"
           }
          ],
          "table": [
           {
            "cells": {
             "fill": {
              "color": "#506784"
             },
             "line": {
              "color": "rgb(17,17,17)"
             }
            },
            "header": {
             "fill": {
              "color": "#2a3f5f"
             },
             "line": {
              "color": "rgb(17,17,17)"
             }
            },
            "type": "table"
           }
          ]
         },
         "layout": {
          "annotationdefaults": {
           "arrowcolor": "#f2f5fa",
           "arrowhead": 0,
           "arrowwidth": 1
          },
          "autotypenumbers": "strict",
          "coloraxis": {
           "colorbar": {
            "outlinewidth": 0,
            "ticks": ""
           }
          },
          "colorscale": {
           "diverging": [
            [
             0,
             "#8e0152"
            ],
            [
             0.1,
             "#c51b7d"
            ],
            [
             0.2,
             "#de77ae"
            ],
            [
             0.3,
             "#f1b6da"
            ],
            [
             0.4,
             "#fde0ef"
            ],
            [
             0.5,
             "#f7f7f7"
            ],
            [
             0.6,
             "#e6f5d0"
            ],
            [
             0.7,
             "#b8e186"
            ],
            [
             0.8,
             "#7fbc41"
            ],
            [
             0.9,
             "#4d9221"
            ],
            [
             1,
             "#276419"
            ]
           ],
           "sequential": [
            [
             0,
             "#0d0887"
            ],
            [
             0.1111111111111111,
             "#46039f"
            ],
            [
             0.2222222222222222,
             "#7201a8"
            ],
            [
             0.3333333333333333,
             "#9c179e"
            ],
            [
             0.4444444444444444,
             "#bd3786"
            ],
            [
             0.5555555555555556,
             "#d8576b"
            ],
            [
             0.6666666666666666,
             "#ed7953"
            ],
            [
             0.7777777777777778,
             "#fb9f3a"
            ],
            [
             0.8888888888888888,
             "#fdca26"
            ],
            [
             1,
             "#f0f921"
            ]
           ],
           "sequentialminus": [
            [
             0,
             "#0d0887"
            ],
            [
             0.1111111111111111,
             "#46039f"
            ],
            [
             0.2222222222222222,
             "#7201a8"
            ],
            [
             0.3333333333333333,
             "#9c179e"
            ],
            [
             0.4444444444444444,
             "#bd3786"
            ],
            [
             0.5555555555555556,
             "#d8576b"
            ],
            [
             0.6666666666666666,
             "#ed7953"
            ],
            [
             0.7777777777777778,
             "#fb9f3a"
            ],
            [
             0.8888888888888888,
             "#fdca26"
            ],
            [
             1,
             "#f0f921"
            ]
           ]
          },
          "colorway": [
           "#636efa",
           "#EF553B",
           "#00cc96",
           "#ab63fa",
           "#FFA15A",
           "#19d3f3",
           "#FF6692",
           "#B6E880",
           "#FF97FF",
           "#FECB52"
          ],
          "font": {
           "color": "#f2f5fa"
          },
          "geo": {
           "bgcolor": "rgb(17,17,17)",
           "lakecolor": "rgb(17,17,17)",
           "landcolor": "rgb(17,17,17)",
           "showlakes": true,
           "showland": true,
           "subunitcolor": "#506784"
          },
          "hoverlabel": {
           "align": "left"
          },
          "hovermode": "closest",
          "mapbox": {
           "style": "dark"
          },
          "paper_bgcolor": "rgb(17,17,17)",
          "plot_bgcolor": "rgb(17,17,17)",
          "polar": {
           "angularaxis": {
            "gridcolor": "#506784",
            "linecolor": "#506784",
            "ticks": ""
           },
           "bgcolor": "rgb(17,17,17)",
           "radialaxis": {
            "gridcolor": "#506784",
            "linecolor": "#506784",
            "ticks": ""
           }
          },
          "scene": {
           "xaxis": {
            "backgroundcolor": "rgb(17,17,17)",
            "gridcolor": "#506784",
            "gridwidth": 2,
            "linecolor": "#506784",
            "showbackground": true,
            "ticks": "",
            "zerolinecolor": "#C8D4E3"
           },
           "yaxis": {
            "backgroundcolor": "rgb(17,17,17)",
            "gridcolor": "#506784",
            "gridwidth": 2,
            "linecolor": "#506784",
            "showbackground": true,
            "ticks": "",
            "zerolinecolor": "#C8D4E3"
           },
           "zaxis": {
            "backgroundcolor": "rgb(17,17,17)",
            "gridcolor": "#506784",
            "gridwidth": 2,
            "linecolor": "#506784",
            "showbackground": true,
            "ticks": "",
            "zerolinecolor": "#C8D4E3"
           }
          },
          "shapedefaults": {
           "line": {
            "color": "#f2f5fa"
           }
          },
          "sliderdefaults": {
           "bgcolor": "#C8D4E3",
           "bordercolor": "rgb(17,17,17)",
           "borderwidth": 1,
           "tickwidth": 0
          },
          "ternary": {
           "aaxis": {
            "gridcolor": "#506784",
            "linecolor": "#506784",
            "ticks": ""
           },
           "baxis": {
            "gridcolor": "#506784",
            "linecolor": "#506784",
            "ticks": ""
           },
           "bgcolor": "rgb(17,17,17)",
           "caxis": {
            "gridcolor": "#506784",
            "linecolor": "#506784",
            "ticks": ""
           }
          },
          "title": {
           "x": 0.05
          },
          "updatemenudefaults": {
           "bgcolor": "#506784",
           "borderwidth": 0
          },
          "xaxis": {
           "automargin": true,
           "gridcolor": "#283442",
           "linecolor": "#506784",
           "ticks": "",
           "title": {
            "standoff": 15
           },
           "zerolinecolor": "#283442",
           "zerolinewidth": 2
          },
          "yaxis": {
           "automargin": true,
           "gridcolor": "#283442",
           "linecolor": "#506784",
           "ticks": "",
           "title": {
            "standoff": 15
           },
           "zerolinecolor": "#283442",
           "zerolinewidth": 2
          }
         }
        },
        "title": {
         "text": "NVDA Daily Price, VWAP, and Volume"
        },
        "xaxis": {
         "anchor": "y",
         "domain": [
          0,
          1
         ],
         "matches": "x2",
         "rangeslider": {
          "visible": false
         },
         "showticklabels": false,
         "title": {
          "text": "Date"
         }
        },
        "xaxis2": {
         "anchor": "y2",
         "domain": [
          0,
          1
         ],
         "title": {
          "text": "Date"
         }
        },
        "yaxis": {
         "anchor": "x",
         "domain": [
          0.314,
          1
         ],
         "title": {
          "text": "Price"
         }
        },
        "yaxis2": {
         "anchor": "x2",
         "domain": [
          0,
          0.294
         ],
         "title": {
          "text": "Volume"
         }
        }
       }
      }
     },
     "metadata": {},
     "output_type": "display_data"
    }
   ],
   "source": [
    "# Combined candlestick + VWAP + volume chart using Plotly\n",
    "\n",
    "import plotly.graph_objects as go\n",
    "from plotly.subplots import make_subplots\n",
    "\n",
    "# Create subplot with 2 rows: row 1 for candlestick+VWAP, row 2 for volume\n",
    "fig = make_subplots(rows=2, cols=1, \n",
    "                    shared_xaxes=True, \n",
    "                    row_heights=[0.7, 0.3],\n",
    "                    vertical_spacing=0.02)\n",
    "\n",
    "# Candlestick for daily OHLC\n",
    "fig.add_trace(go.Candlestick(\n",
    "    x=df_stock['ts'],\n",
    "    open=df_stock['open'],\n",
    "    high=df_stock['high'],\n",
    "    low=df_stock['low'],\n",
    "    close=df_stock['close'],\n",
    "    name='Price'\n",
    "), row=1, col=1)\n",
    "\n",
    "# VWAP line\n",
    "fig.add_trace(go.Scatter(\n",
    "    x=df_stock['ts'],\n",
    "    y=df_stock['vwap'],\n",
    "    mode='lines',\n",
    "    line=dict(color='brown', width=2),\n",
    "    name='VWAP'\n",
    "), row=1, col=1)\n",
    "\n",
    "# Volume bars\n",
    "fig.add_trace(go.Bar(\n",
    "    x=df_stock['ts'],\n",
    "    y=df_stock['volume'],\n",
    "    marker_color='purple',\n",
    "    name='Volume'\n",
    "), row=2, col=1)\n",
    "\n",
    "# Layout settings\n",
    "fig.update_layout(\n",
    "    title='NVDA Daily Price, VWAP, and Volume',\n",
    "    xaxis_title='Date',\n",
    "    yaxis_title='Price',\n",
    "    xaxis2_title='Date',\n",
    "    yaxis2_title='Volume',\n",
    "    xaxis_rangeslider_visible=False,\n",
    "    template='plotly_dark',\n",
    "    legend=dict(orientation='h', yanchor='bottom', y=1.02, xanchor='right', x=1)\n",
    ")\n",
    "\n",
    "fig.show()\n"
   ]
  },
  {
   "cell_type": "code",
   "execution_count": 142,
   "id": "8f505688",
   "metadata": {},
   "outputs": [
    {
     "data": {
      "image/png": "[encoded data removed]",
      "text/plain": [
       "<Figure size 1400x500 with 1 Axes>"
      ]
     },
     "metadata": {},
     "output_type": "display_data"
    }
   ],
   "source": [
    "# Rolling Metrics\n",
    "\n",
    "# Already have rolling_7d and rolling_30d in df_stock\n",
    "plt.figure(figsize=(14,5))\n",
    "plt.plot(df_stock['ts'], df_stock['rolling_7d'], label='7-Day Rolling Volatility')\n",
    "plt.plot(df_stock['ts'], df_stock['rolling_30d'], label='30-Day Rolling Volatility')\n",
    "plt.title('Rolling Volatility')\n",
    "plt.legend()\n",
    "plt.show()\n"
   ]
  },
  {
   "cell_type": "markdown",
   "id": "a11bdf67",
   "metadata": {},
   "source": [
    "News EDA"
   ]
  },
  {
   "cell_type": "code",
   "execution_count": 163,
   "id": "207f05fc",
   "metadata": {},
   "outputs": [
    {
     "data": {
      "image/png": "[encoded data removed]",
      "text/plain": [
       "<Figure size 640x480 with 1 Axes>"
      ]
     },
     "metadata": {},
     "output_type": "display_data"
    }
   ],
   "source": [
    "# Sentiment distribution\n",
    "\n",
    "# Flatten insights into separate rows\n",
    "news_expanded = df_news.explode('insights').reset_index(drop=True)\n",
    "\n",
    "# Safely extract sentiment and ticker\n",
    "news_expanded['sentiment'] = news_expanded['insights'].apply(lambda x: x.get('sentiment') if isinstance(x, dict) else np.nan)\n",
    "news_expanded['ticker'] = news_expanded['insights'].apply(lambda x: x.get('ticker') if isinstance(x, dict) else np.nan)\n",
    "\n",
    "# Drop rows with missing sentiment\n",
    "news_expanded = news_expanded.dropna(subset=['sentiment'])\n",
    "\n",
    "# Ensure sentiment column has correct order\n",
    "sentiment_order = ['positive', 'neutral', 'negative']\n",
    "\n",
    "# Countplot\n",
    "sns.countplot(data=news_expanded, x='sentiment', order=sentiment_order)\n",
    "plt.title('News Sentiment Distribution')\n",
    "plt.show()\n"
   ]
  },
  {
   "cell_type": "markdown",
   "id": "90505a5d",
   "metadata": {},
   "source": [
    "Plot daily stock prices with markers for news events and show sentiment scores in the tooltip."
   ]
  },
  {
   "cell_type": "code",
   "execution_count": 165,
   "id": "bd0c41c1",
   "metadata": {},
   "outputs": [
    {
     "data": {
      "application/vnd.plotly.v1+json": {
       "config": {
        "plotlyServerURL": "https://plot.ly"
       },
       "data": [
        {
         "close": {
          "bdata": "AAAAAAAYZkC4HoXrUfBlQHE9CtejaGZApHA9Ctc7ZkDXo3A9CrdlQAAAAAAAgGZAuB6F61FIZkA9CtejcG1mQHE9CtejmGZAZmZmZmbWZkBSuB6F68FmQIXrUbge5WZAexSuR+GyZkBxPQrXo8BmQGZmZmZmjmZAuB6F61HAZkAUrkfhevRlQM3MzMzM7GVAj8L1KFzfZUBI4XoUrj9mQFK4HoXreWZAcT0K16O4ZkAzMzMzM7NmQD0K16NwhWZA9ihcj8LFZUApXI/C9VhlQKRwPQrXU2VAhetRuB51ZUBxPQrXo+BkQFK4HoXrCWVAuB6F61FYZUDD9ShcjypmQD0K16NwJWZACtejcD06ZkAAAAAAADhmQFyPwvUo3GVA4XoUrkdJZUBI4XoUrgdmQD0K16NwFWZA7FG4HoXzZkD2KFyPwk1mQA==",
          "dtype": "f8"
         },
         "high": {
          "bdata": "AAAAAAAgZkBcj8L1KGxmQBSuR+F6fGZAmpmZmZnpZkDhehSuRxFmQGZmZmZmhmZAuB6F61GIZkDNzMzMzHxmQFyPwvUo/GZAmpmZmZnpZkB7FK5H4fpmQI/C9ShcD2dA16NwPQr/ZkBxPQrXo+BmQM3MzMzMvGZAAAAAAADeZkAAAAAAANBmQAAAAAAAAGZAzczMzMwcZkB7FK5H4VJmQIXrUbgevWZAFK5H4XrMZkBI4XoUrs9mQNejcD0KD2dAzczMzMxEZkDjpZvEIIxlQIXrUbgejWVA7FG4HoV7ZUApXI/C9SBlQB+F61G4XmVAj8L1KFxfZUDhehSuR2lmQClcj8L1iGZA16NwPQpTZkAzMzMzM1tmQAAAAAAAMGZAZmZmZmamZUAzMzMzMyNmQMP1KFyPQmZAmpmZmZkRZ0A9CtejcM1mQA==",
          "dtype": "f8"
         },
         "low": {
          "bdata": "16NwPQq/ZUBxPQrXo+BlQOF6FK5HAWZA9ihcj8L9ZUAUrkfhelxlQHE9Ctej0GVAzczMzMz8ZUAAAAAAAAhmQD0K16NwWWZAzczMzMyMZkAAAAAAAIhmQB+F61G4bmZAMzMzMzNrZkAfhetRuG5mQMgHPZtVQWZAexSuR+GSZkBI4XoUru9lQBKDwMqhGWVAUrgeheu5ZUBmZmZmZmZlQArXo3A9EmZAUrgehetZZkAzMzMzM2NmQIXrUbgeDWZAcT0K16OkZUDXo3A9CudkQAAAAAAAHGVAhetRuB4tZUAK16NwPYJkQDMzMzMz62RAofgx5q7XZEDXo3A9Cu9lQI/C9ShcD2ZAZmZmZmYOZkC4HoXrUdBlQFyPwvUozGVAhetRuB4NZUAfhetRuJ5lQPYoXI/C5WVAzTtO0ZHWZUAfhetRuAZmQA==",
          "dtype": "f8"
         },
         "name": "Price",
         "open": {
          "bdata": "cT0K16PAZUAfhetRuD5mQLgehetREGZAzczMzMzcZkB7FK5H4cJlQIXrUbge5WVApHA9CtdzZkBmZmZmZgpmQArXo3A9smZAmpmZmZmxZkCamZmZmcFmQB+F61G43mZASOF6FK7TZkAAAAAAAHhmQFyPwvUovGZAMzMzMzOTZkD2KFyPws1mQOF6FK5H5WVAMzMzMzPbZUDsUbgehZNlQDMzMzMzS2ZA9ihcj8KBZkCPwvUoXL9mQArXo3A9mmZA7FG4HoVDZkAAAAAAAEBlQFK4HoXrYWVACtejcD1SZUApXI/C9QBlQJqZmZmZ8WRAexSuR+EiZUAUrkfhehRmQPYoXI/CdWZAcT0K16M4ZkA9CtejcPVlQAAAAAAAIGZAFK5H4XqUZUCPwvUoXL9lQHE9Ctej+GVAmpmZmZnpZUDXo3A9Cr9mQA==",
          "dtype": "f8"
         },
         "type": "candlestick",
         "x": [
          "2025-07-28T04:00:00",
          "2025-07-29T04:00:00",
          "2025-07-30T04:00:00",
          "2025-07-31T04:00:00",
          "2025-08-01T04:00:00",
          "2025-08-04T04:00:00",
          "2025-08-05T04:00:00",
          "2025-08-06T04:00:00",
          "2025-08-07T04:00:00",
          "2025-08-08T04:00:00",
          "2025-08-11T04:00:00",
          "2025-08-12T04:00:00",
          "2025-08-13T04:00:00",
          "2025-08-14T04:00:00",
          "2025-08-15T04:00:00",
          "2025-08-18T04:00:00",
          "2025-08-19T04:00:00",
          "2025-08-20T04:00:00",
          "2025-08-21T04:00:00",
          "2025-08-22T04:00:00",
          "2025-08-25T04:00:00",
          "2025-08-26T04:00:00",
          "2025-08-27T04:00:00",
          "2025-08-28T04:00:00",
          "2025-08-29T04:00:00",
          "2025-09-02T04:00:00",
          "2025-09-03T04:00:00",
          "2025-09-04T04:00:00",
          "2025-09-05T04:00:00",
          "2025-09-08T04:00:00",
          "2025-09-09T04:00:00",
          "2025-09-10T04:00:00",
          "2025-09-11T04:00:00",
          "2025-09-12T04:00:00",
          "2025-09-15T04:00:00",
          "2025-09-16T04:00:00",
          "2025-09-17T04:00:00",
          "2025-09-18T04:00:00",
          "2025-09-19T04:00:00",
          "2025-09-22T04:00:00",
          "2025-09-23T04:00:00"
         ]
        },
        {
         "hovertext": [
          "Sentiment Score: 5.0",
          "Sentiment Score: 9.0",
          "Sentiment Score: 6.0",
          "Sentiment Score: 10.0",
          "Sentiment Score: 6.0",
          "Sentiment Score: 9.0",
          "Sentiment Score: 11.0",
          "Sentiment Score: 3.0",
          "Sentiment Score: 7.0",
          "Sentiment Score: 5.0",
          "Sentiment Score: 5.0",
          "Sentiment Score: 7.0",
          "Sentiment Score: 7.0",
          "Sentiment Score: 5.0",
          "Sentiment Score: 4.0",
          "Sentiment Score: 4.0",
          "Sentiment Score: 7.0",
          "Sentiment Score: 9.0",
          "Sentiment Score: 4.0",
          "Sentiment Score: 7.0",
          "Sentiment Score: 9.0",
          "Sentiment Score: 7.0",
          "Sentiment Score: 13.0",
          "Sentiment Score: 11.0",
          "Sentiment Score: 0.0",
          "Sentiment Score: 3.0",
          "Sentiment Score: 8.0",
          "Sentiment Score: 10.0",
          "Sentiment Score: 14.0",
          "Sentiment Score: 1.0",
          "Sentiment Score: 8.0",
          "Sentiment Score: 10.0",
          "Sentiment Score: 10.0",
          "Sentiment Score: 7.0",
          "Sentiment Score: 4.0",
          "Sentiment Score: 9.0",
          "Sentiment Score: 15.0",
          "Sentiment Score: 14.0",
          "Sentiment Score: 4.0",
          "Sentiment Score: 3.0",
          "Sentiment Score: 5.0"
         ],
         "marker": {
          "color": [
           "green",
           "green",
           "green",
           "green",
           "green",
           "green",
           "green",
           "green",
           "green",
           "green",
           "green",
           "green",
           "green",
           "green",
           "green",
           "green",
           "green",
           "green",
           "green",
           "green",
           "green",
           "green",
           "green",
           "green",
           "gray",
           "green",
           "green",
           "green",
           "green",
           "green",
           "green",
           "green",
           "green",
           "green",
           "green",
           "green",
           "green",
           "green",
           "green",
           "green",
           "green"
          ],
          "size": 10,
          "symbol": "diamond"
         },
         "mode": "markers",
         "name": "News Sentiment",
         "type": "scatter",
         "x": [
          "2025-07-28T04:00:00",
          "2025-07-29T04:00:00",
          "2025-07-30T04:00:00",
          "2025-07-31T04:00:00",
          "2025-08-01T04:00:00",
          "2025-08-04T04:00:00",
          "2025-08-05T04:00:00",
          "2025-08-06T04:00:00",
          "2025-08-07T04:00:00",
          "2025-08-08T04:00:00",
          "2025-08-11T04:00:00",
          "2025-08-12T04:00:00",
          "2025-08-13T04:00:00",
          "2025-08-14T04:00:00",
          "2025-08-15T04:00:00",
          "2025-08-18T04:00:00",
          "2025-08-19T04:00:00",
          "2025-08-20T04:00:00",
          "2025-08-21T04:00:00",
          "2025-08-22T04:00:00",
          "2025-08-25T04:00:00",
          "2025-08-26T04:00:00",
          "2025-08-27T04:00:00",
          "2025-08-28T04:00:00",
          "2025-08-29T04:00:00",
          "2025-09-02T04:00:00",
          "2025-09-03T04:00:00",
          "2025-09-04T04:00:00",
          "2025-09-05T04:00:00",
          "2025-09-08T04:00:00",
          "2025-09-09T04:00:00",
          "2025-09-10T04:00:00",
          "2025-09-11T04:00:00",
          "2025-09-12T04:00:00",
          "2025-09-15T04:00:00",
          "2025-09-16T04:00:00",
          "2025-09-17T04:00:00",
          "2025-09-18T04:00:00",
          "2025-09-19T04:00:00",
          "2025-09-22T04:00:00",
          "2025-09-23T04:00:00"
         ],
         "y": {
          "bdata": "AAAAAABYZkC4HoXrUTBmQHE9CtejqGZApHA9Ctd7ZkDXo3A9CvdlQAAAAAAAwGZAuB6F61GIZkA9CtejcK1mQHE9Ctej2GZAZmZmZmYWZ0BSuB6F6wFnQIXrUbgeJWdAexSuR+HyZkBxPQrXowBnQGZmZmZmzmZAuB6F61EAZ0AUrkfhejRmQM3MzMzMLGZAj8L1KFwfZkBI4XoUrn9mQFK4HoXruWZAcT0K16P4ZkAzMzMzM/NmQD0K16NwxWZA9ihcj8IFZkApXI/C9ZhlQKRwPQrXk2VAhetRuB61ZUBxPQrXoyBlQFK4HoXrSWVAuB6F61GYZUDD9Shcj2pmQD0K16NwZWZACtejcD16ZkAAAAAAAHhmQFyPwvUoHGZA4XoUrkeJZUBI4XoUrkdmQD0K16NwVWZA7FG4HoUzZ0D2KFyPwo1mQA==",
          "dtype": "f8"
         }
        }
       ],
       "layout": {
        "hovermode": "x unified",
        "template": {
         "data": {
          "bar": [
           {
            "error_x": {
             "color": "#2a3f5f"
            },
            "error_y": {
             "color": "#2a3f5f"
            },
            "marker": {
             "line": {
              "color": "#E5ECF6",
              "width": 0.5
             },
             "pattern": {
              "fillmode": "overlay",
              "size": 10,
              "solidity": 0.2
             }
            },
            "type": "bar"
           }
          ],
          "barpolar": [
           {
            "marker": {
             "line": {
              "color": "#E5ECF6",
              "width": 0.5
             },
             "pattern": {
              "fillmode": "overlay",
              "size": 10,
              "solidity": 0.2
             }
            },
            "type": "barpolar"
           }
          ],
          "carpet": [
           {
            "aaxis": {
             "endlinecolor": "#2a3f5f",
             "gridcolor": "white",
             "linecolor": "white",
             "minorgridcolor": "white",
             "startlinecolor": "#2a3f5f"
            },
            "baxis": {
             "endlinecolor": "#2a3f5f",
             "gridcolor": "white",
             "linecolor": "white",
             "minorgridcolor": "white",
             "startlinecolor": "#2a3f5f"
            },
            "type": "carpet"
           }
          ],
          "choropleth": [
           {
            "colorbar": {
             "outlinewidth": 0,
             "ticks": ""
            },
            "type": "choropleth"
           }
          ],
          "contour": [
           {
            "colorbar": {
             "outlinewidth": 0,
             "ticks": ""
            },
            "colorscale": [
             [
              0,
              "#0d0887"
             ],
             [
              0.1111111111111111,
              "#46039f"
             ],
             [
              0.2222222222222222,
              "#7201a8"
             ],
             [
              0.3333333333333333,
              "#9c179e"
             ],
             [
              0.4444444444444444,
              "#bd3786"
             ],
             [
              0.5555555555555556,
              "#d8576b"
             ],
             [
              0.6666666666666666,
              "#ed7953"
             ],
             [
              0.7777777777777778,
              "#fb9f3a"
             ],
             [
              0.8888888888888888,
              "#fdca26"
             ],
             [
              1,
              "#f0f921"
             ]
            ],
            "type": "contour"
           }
          ],
          "contourcarpet": [
           {
            "colorbar": {
             "outlinewidth": 0,
             "ticks": ""
            },
            "type": "contourcarpet"
           }
          ],
          "heatmap": [
           {
            "colorbar": {
             "outlinewidth": 0,
             "ticks": ""
            },
            "colorscale": [
             [
              0,
              "#0d0887"
             ],
             [
              0.1111111111111111,
              "#46039f"
             ],
             [
              0.2222222222222222,
              "#7201a8"
             ],
             [
              0.3333333333333333,
              "#9c179e"
             ],
             [
              0.4444444444444444,
              "#bd3786"
             ],
             [
              0.5555555555555556,
              "#d8576b"
             ],
             [
              0.6666666666666666,
              "#ed7953"
             ],
             [
              0.7777777777777778,
              "#fb9f3a"
             ],
             [
              0.8888888888888888,
              "#fdca26"
             ],
             [
              1,
              "#f0f921"
             ]
            ],
            "type": "heatmap"
           }
          ],
          "histogram": [
           {
            "marker": {
             "pattern": {
              "fillmode": "overlay",
              "size": 10,
              "solidity": 0.2
             }
            },
            "type": "histogram"
           }
          ],
          "histogram2d": [
           {
            "colorbar": {
             "outlinewidth": 0,
             "ticks": ""
            },
            "colorscale": [
             [
              0,
              "#0d0887"
             ],
             [
              0.1111111111111111,
              "#46039f"
             ],
             [
              0.2222222222222222,
              "#7201a8"
             ],
             [
              0.3333333333333333,
              "#9c179e"
             ],
             [
              0.4444444444444444,
              "#bd3786"
             ],
             [
              0.5555555555555556,
              "#d8576b"
             ],
             [
              0.6666666666666666,
              "#ed7953"
             ],
             [
              0.7777777777777778,
              "#fb9f3a"
             ],
             [
              0.8888888888888888,
              "#fdca26"
             ],
             [
              1,
              "#f0f921"
             ]
            ],
            "type": "histogram2d"
           }
          ],
          "histogram2dcontour": [
           {
            "colorbar": {
             "outlinewidth": 0,
             "ticks": ""
            },
            "colorscale": [
             [
              0,
              "#0d0887"
             ],
             [
              0.1111111111111111,
              "#46039f"
             ],
             [
              0.2222222222222222,
              "#7201a8"
             ],
             [
              0.3333333333333333,
              "#9c179e"
             ],
             [
              0.4444444444444444,
              "#bd3786"
             ],
             [
              0.5555555555555556,
              "#d8576b"
             ],
             [
              0.6666666666666666,
              "#ed7953"
             ],
             [
              0.7777777777777778,
              "#fb9f3a"
             ],
             [
              0.8888888888888888,
              "#fdca26"
             ],
             [
              1,
              "#f0f921"
             ]
            ],
            "type": "histogram2dcontour"
           }
          ],
          "mesh3d": [
           {
            "colorbar": {
             "outlinewidth": 0,
             "ticks": ""
            },
            "type": "mesh3d"
           }
          ],
          "parcoords": [
           {
            "line": {
             "colorbar": {
              "outlinewidth": 0,
              "ticks": ""
             }
            },
            "type": "parcoords"
           }
          ],
          "pie": [
           {
            "automargin": true,
            "type": "pie"
           }
          ],
          "scatter": [
           {
            "fillpattern": {
             "fillmode": "overlay",
             "size": 10,
             "solidity": 0.2
            },
            "type": "scatter"
           }
          ],
          "scatter3d": [
           {
            "line": {
             "colorbar": {
              "outlinewidth": 0,
              "ticks": ""
             }
            },
            "marker": {
             "colorbar": {
              "outlinewidth": 0,
              "ticks": ""
             }
            },
            "type": "scatter3d"
           }
          ],
          "scattercarpet": [
           {
            "marker": {
             "colorbar": {
              "outlinewidth": 0,
              "ticks": ""
             }
            },
            "type": "scattercarpet"
           }
          ],
          "scattergeo": [
           {
            "marker": {
             "colorbar": {
              "outlinewidth": 0,
              "ticks": ""
             }
            },
            "type": "scattergeo"
           }
          ],
          "scattergl": [
           {
            "marker": {
             "colorbar": {
              "outlinewidth": 0,
              "ticks": ""
             }
            },
            "type": "scattergl"
           }
          ],
          "scattermap": [
           {
            "marker": {
             "colorbar": {
              "outlinewidth": 0,
              "ticks": ""
             }
            },
            "type": "scattermap"
           }
          ],
          "scattermapbox": [
           {
            "marker": {
             "colorbar": {
              "outlinewidth": 0,
              "ticks": ""
             }
            },
            "type": "scattermapbox"
           }
          ],
          "scatterpolar": [
           {
            "marker": {
             "colorbar": {
              "outlinewidth": 0,
              "ticks": ""
             }
            },
            "type": "scatterpolar"
           }
          ],
          "scatterpolargl": [
           {
            "marker": {
             "colorbar": {
              "outlinewidth": 0,
              "ticks": ""
             }
            },
            "type": "scatterpolargl"
           }
          ],
          "scatterternary": [
           {
            "marker": {
             "colorbar": {
              "outlinewidth": 0,
              "ticks": ""
             }
            },
            "type": "scatterternary"
           }
          ],
          "surface": [
           {
            "colorbar": {
             "outlinewidth": 0,
             "ticks": ""
            },
            "colorscale": [
             [
              0,
              "#0d0887"
             ],
             [
              0.1111111111111111,
              "#46039f"
             ],
             [
              0.2222222222222222,
              "#7201a8"
             ],
             [
              0.3333333333333333,
              "#9c179e"
             ],
             [
              0.4444444444444444,
              "#bd3786"
             ],
             [
              0.5555555555555556,
              "#d8576b"
             ],
             [
              0.6666666666666666,
              "#ed7953"
             ],
             [
              0.7777777777777778,
              "#fb9f3a"
             ],
             [
              0.8888888888888888,
              "#fdca26"
             ],
             [
              1,
              "#f0f921"
             ]
            ],
            "type": "surface"
           }
          ],
          "table": [
           {
            "cells": {
             "fill": {
              "color": "#EBF0F8"
             },
             "line": {
              "color": "white"
             }
            },
            "header": {
             "fill": {
              "color": "#C8D4E3"
             },
             "line": {
              "color": "white"
             }
            },
            "type": "table"
           }
          ]
         },
         "layout": {
          "annotationdefaults": {
           "arrowcolor": "#2a3f5f",
           "arrowhead": 0,
           "arrowwidth": 1
          },
          "autotypenumbers": "strict",
          "coloraxis": {
           "colorbar": {
            "outlinewidth": 0,
            "ticks": ""
           }
          },
          "colorscale": {
           "diverging": [
            [
             0,
             "#8e0152"
            ],
            [
             0.1,
             "#c51b7d"
            ],
            [
             0.2,
             "#de77ae"
            ],
            [
             0.3,
             "#f1b6da"
            ],
            [
             0.4,
             "#fde0ef"
            ],
            [
             0.5,
             "#f7f7f7"
            ],
            [
             0.6,
             "#e6f5d0"
            ],
            [
             0.7,
             "#b8e186"
            ],
            [
             0.8,
             "#7fbc41"
            ],
            [
             0.9,
             "#4d9221"
            ],
            [
             1,
             "#276419"
            ]
           ],
           "sequential": [
            [
             0,
             "#0d0887"
            ],
            [
             0.1111111111111111,
             "#46039f"
            ],
            [
             0.2222222222222222,
             "#7201a8"
            ],
            [
             0.3333333333333333,
             "#9c179e"
            ],
            [
             0.4444444444444444,
             "#bd3786"
            ],
            [
             0.5555555555555556,
             "#d8576b"
            ],
            [
             0.6666666666666666,
             "#ed7953"
            ],
            [
             0.7777777777777778,
             "#fb9f3a"
            ],
            [
             0.8888888888888888,
             "#fdca26"
            ],
            [
             1,
             "#f0f921"
            ]
           ],
           "sequentialminus": [
            [
             0,
             "#0d0887"
            ],
            [
             0.1111111111111111,
             "#46039f"
            ],
            [
             0.2222222222222222,
             "#7201a8"
            ],
            [
             0.3333333333333333,
             "#9c179e"
            ],
            [
             0.4444444444444444,
             "#bd3786"
            ],
            [
             0.5555555555555556,
             "#d8576b"
            ],
            [
             0.6666666666666666,
             "#ed7953"
            ],
            [
             0.7777777777777778,
             "#fb9f3a"
            ],
            [
             0.8888888888888888,
             "#fdca26"
            ],
            [
             1,
             "#f0f921"
            ]
           ]
          },
          "colorway": [
           "#636efa",
           "#EF553B",
           "#00cc96",
           "#ab63fa",
           "#FFA15A",
           "#19d3f3",
           "#FF6692",
           "#B6E880",
           "#FF97FF",
           "#FECB52"
          ],
          "font": {
           "color": "#2a3f5f"
          },
          "geo": {
           "bgcolor": "white",
           "lakecolor": "white",
           "landcolor": "#E5ECF6",
           "showlakes": true,
           "showland": true,
           "subunitcolor": "white"
          },
          "hoverlabel": {
           "align": "left"
          },
          "hovermode": "closest",
          "mapbox": {
           "style": "light"
          },
          "paper_bgcolor": "white",
          "plot_bgcolor": "#E5ECF6",
          "polar": {
           "angularaxis": {
            "gridcolor": "white",
            "linecolor": "white",
            "ticks": ""
           },
           "bgcolor": "#E5ECF6",
           "radialaxis": {
            "gridcolor": "white",
            "linecolor": "white",
            "ticks": ""
           }
          },
          "scene": {
           "xaxis": {
            "backgroundcolor": "#E5ECF6",
            "gridcolor": "white",
            "gridwidth": 2,
            "linecolor": "white",
            "showbackground": true,
            "ticks": "",
            "zerolinecolor": "white"
           },
           "yaxis": {
            "backgroundcolor": "#E5ECF6",
            "gridcolor": "white",
            "gridwidth": 2,
            "linecolor": "white",
            "showbackground": true,
            "ticks": "",
            "zerolinecolor": "white"
           },
           "zaxis": {
            "backgroundcolor": "#E5ECF6",
            "gridcolor": "white",
            "gridwidth": 2,
            "linecolor": "white",
            "showbackground": true,
            "ticks": "",
            "zerolinecolor": "white"
           }
          },
          "shapedefaults": {
           "line": {
            "color": "#2a3f5f"
           }
          },
          "ternary": {
           "aaxis": {
            "gridcolor": "white",
            "linecolor": "white",
            "ticks": ""
           },
           "baxis": {
            "gridcolor": "white",
            "linecolor": "white",
            "ticks": ""
           },
           "bgcolor": "#E5ECF6",
           "caxis": {
            "gridcolor": "white",
            "linecolor": "white",
            "ticks": ""
           }
          },
          "title": {
           "x": 0.05
          },
          "xaxis": {
           "automargin": true,
           "gridcolor": "white",
           "linecolor": "white",
           "ticks": "",
           "title": {
            "standoff": 15
           },
           "zerolinecolor": "white",
           "zerolinewidth": 2
          },
          "yaxis": {
           "automargin": true,
           "gridcolor": "white",
           "linecolor": "white",
           "ticks": "",
           "title": {
            "standoff": 15
           },
           "zerolinecolor": "white",
           "zerolinewidth": 2
          }
         }
        },
        "title": {
         "text": "NVDA Daily Price with News Sentiment Overlay"
        },
        "xaxis": {
         "rangeslider": {
          "visible": false
         },
         "title": {
          "text": "Date"
         }
        },
        "yaxis": {
         "title": {
          "text": "Price (USD)"
         }
        }
       }
      }
     },
     "metadata": {},
     "output_type": "display_data"
    }
   ],
   "source": [
    "import pandas as pd\n",
    "import numpy as np\n",
    "import plotly.graph_objects as go\n",
    "\n",
    "# --- Map sentiment to numeric score ---\n",
    "sentiment_map = {\"positive\": 1, \"neutral\": 0, \"negative\": -1}\n",
    "news_expanded['sentiment_score'] = news_expanded['sentiment'].map(sentiment_map)\n",
    "\n",
    "# --- Aggregate daily sentiment for NVDA ---\n",
    "news_expanded['date'] = pd.to_datetime(news_expanded['published_utc']).dt.date\n",
    "daily_sentiment = (\n",
    "    news_expanded[news_expanded['ticker'] == 'NVDA']\n",
    "    .groupby('date')['sentiment_score']\n",
    "    .sum()  # sum multiple news per day\n",
    "    .reset_index()\n",
    ")\n",
    "\n",
    "# --- Prepare stock data ---\n",
    "df_stock['date'] = df_stock['ts'].dt.date\n",
    "merged = pd.merge(df_stock, daily_sentiment, on='date', how='left').fillna({'sentiment_score': 0})\n",
    "\n",
    "# --- Plot Candlestick ---\n",
    "fig = go.Figure(data=[go.Candlestick(\n",
    "    x=merged['ts'],\n",
    "    open=merged['open'],\n",
    "    high=merged['high'],\n",
    "    low=merged['low'],\n",
    "    close=merged['close'],\n",
    "    name='Price'\n",
    ")])\n",
    "\n",
    "# --- Add sentiment markers ---\n",
    "fig.add_trace(go.Scatter(\n",
    "    x=merged['ts'],\n",
    "    y=merged['close'] + 2,  # slightly above the candlestick\n",
    "    mode='markers',\n",
    "    marker=dict(\n",
    "        size=10,\n",
    "        color=['green' if s > 0 else 'red' if s < 0 else 'gray' for s in merged['sentiment_score']],\n",
    "        symbol='diamond'\n",
    "    ),\n",
    "    hovertext=['Sentiment Score: {}'.format(s) for s in merged['sentiment_score']],\n",
    "    name='News Sentiment'\n",
    "))\n",
    "\n",
    "# --- Layout tweaks ---\n",
    "fig.update_layout(\n",
    "    title='NVDA Daily Price with News Sentiment Overlay',\n",
    "    xaxis_title='Date',\n",
    "    yaxis_title='Price (USD)',\n",
    "    xaxis_rangeslider_visible=False,\n",
    "    hovermode='x unified'\n",
    ")\n",
    "\n",
    "fig.show()\n"
   ]
  },
  {
   "cell_type": "markdown",
   "id": "3adfa916",
   "metadata": {},
   "source": [
    "We can enrich the tooltip to show both the net sentiment score and the number of news items for the stock per day."
   ]
  },
  {
   "cell_type": "code",
   "execution_count": 166,
   "id": "55fa4a8a",
   "metadata": {},
   "outputs": [
    {
     "data": {
      "application/vnd.plotly.v1+json": {
       "config": {
        "plotlyServerURL": "https://plot.ly"
       },
       "data": [
        {
         "close": {
          "bdata": "AAAAAAAYZkC4HoXrUfBlQHE9CtejaGZApHA9Ctc7ZkDXo3A9CrdlQAAAAAAAgGZAuB6F61FIZkA9CtejcG1mQHE9CtejmGZAZmZmZmbWZkBSuB6F68FmQIXrUbge5WZAexSuR+GyZkBxPQrXo8BmQGZmZmZmjmZAuB6F61HAZkAUrkfhevRlQM3MzMzM7GVAj8L1KFzfZUBI4XoUrj9mQFK4HoXreWZAcT0K16O4ZkAzMzMzM7NmQD0K16NwhWZA9ihcj8LFZUApXI/C9VhlQKRwPQrXU2VAhetRuB51ZUBxPQrXo+BkQFK4HoXrCWVAuB6F61FYZUDD9ShcjypmQD0K16NwJWZACtejcD06ZkAAAAAAADhmQFyPwvUo3GVA4XoUrkdJZUBI4XoUrgdmQD0K16NwFWZA7FG4HoXzZkD2KFyPwk1mQA==",
          "dtype": "f8"
         },
         "high": {
          "bdata": "AAAAAAAgZkBcj8L1KGxmQBSuR+F6fGZAmpmZmZnpZkDhehSuRxFmQGZmZmZmhmZAuB6F61GIZkDNzMzMzHxmQFyPwvUo/GZAmpmZmZnpZkB7FK5H4fpmQI/C9ShcD2dA16NwPQr/ZkBxPQrXo+BmQM3MzMzMvGZAAAAAAADeZkAAAAAAANBmQAAAAAAAAGZAzczMzMwcZkB7FK5H4VJmQIXrUbgevWZAFK5H4XrMZkBI4XoUrs9mQNejcD0KD2dAzczMzMxEZkDjpZvEIIxlQIXrUbgejWVA7FG4HoV7ZUApXI/C9SBlQB+F61G4XmVAj8L1KFxfZUDhehSuR2lmQClcj8L1iGZA16NwPQpTZkAzMzMzM1tmQAAAAAAAMGZAZmZmZmamZUAzMzMzMyNmQMP1KFyPQmZAmpmZmZkRZ0A9CtejcM1mQA==",
          "dtype": "f8"
         },
         "low": {
          "bdata": "16NwPQq/ZUBxPQrXo+BlQOF6FK5HAWZA9ihcj8L9ZUAUrkfhelxlQHE9Ctej0GVAzczMzMz8ZUAAAAAAAAhmQD0K16NwWWZAzczMzMyMZkAAAAAAAIhmQB+F61G4bmZAMzMzMzNrZkAfhetRuG5mQMgHPZtVQWZAexSuR+GSZkBI4XoUru9lQBKDwMqhGWVAUrgeheu5ZUBmZmZmZmZlQArXo3A9EmZAUrgehetZZkAzMzMzM2NmQIXrUbgeDWZAcT0K16OkZUDXo3A9CudkQAAAAAAAHGVAhetRuB4tZUAK16NwPYJkQDMzMzMz62RAofgx5q7XZEDXo3A9Cu9lQI/C9ShcD2ZAZmZmZmYOZkC4HoXrUdBlQFyPwvUozGVAhetRuB4NZUAfhetRuJ5lQPYoXI/C5WVAzTtO0ZHWZUAfhetRuAZmQA==",
          "dtype": "f8"
         },
         "name": "Price",
         "open": {
          "bdata": "cT0K16PAZUAfhetRuD5mQLgehetREGZAzczMzMzcZkB7FK5H4cJlQIXrUbge5WVApHA9CtdzZkBmZmZmZgpmQArXo3A9smZAmpmZmZmxZkCamZmZmcFmQB+F61G43mZASOF6FK7TZkAAAAAAAHhmQFyPwvUovGZAMzMzMzOTZkD2KFyPws1mQOF6FK5H5WVAMzMzMzPbZUDsUbgehZNlQDMzMzMzS2ZA9ihcj8KBZkCPwvUoXL9mQArXo3A9mmZA7FG4HoVDZkAAAAAAAEBlQFK4HoXrYWVACtejcD1SZUApXI/C9QBlQJqZmZmZ8WRAexSuR+EiZUAUrkfhehRmQPYoXI/CdWZAcT0K16M4ZkA9CtejcPVlQAAAAAAAIGZAFK5H4XqUZUCPwvUoXL9lQHE9Ctej+GVAmpmZmZnpZUDXo3A9Cr9mQA==",
          "dtype": "f8"
         },
         "type": "candlestick",
         "x": [
          "2025-07-28T04:00:00",
          "2025-07-29T04:00:00",
          "2025-07-30T04:00:00",
          "2025-07-31T04:00:00",
          "2025-08-01T04:00:00",
          "2025-08-04T04:00:00",
          "2025-08-05T04:00:00",
          "2025-08-06T04:00:00",
          "2025-08-07T04:00:00",
          "2025-08-08T04:00:00",
          "2025-08-11T04:00:00",
          "2025-08-12T04:00:00",
          "2025-08-13T04:00:00",
          "2025-08-14T04:00:00",
          "2025-08-15T04:00:00",
          "2025-08-18T04:00:00",
          "2025-08-19T04:00:00",
          "2025-08-20T04:00:00",
          "2025-08-21T04:00:00",
          "2025-08-22T04:00:00",
          "2025-08-25T04:00:00",
          "2025-08-26T04:00:00",
          "2025-08-27T04:00:00",
          "2025-08-28T04:00:00",
          "2025-08-29T04:00:00",
          "2025-09-02T04:00:00",
          "2025-09-03T04:00:00",
          "2025-09-04T04:00:00",
          "2025-09-05T04:00:00",
          "2025-09-08T04:00:00",
          "2025-09-09T04:00:00",
          "2025-09-10T04:00:00",
          "2025-09-11T04:00:00",
          "2025-09-12T04:00:00",
          "2025-09-15T04:00:00",
          "2025-09-16T04:00:00",
          "2025-09-17T04:00:00",
          "2025-09-18T04:00:00",
          "2025-09-19T04:00:00",
          "2025-09-22T04:00:00",
          "2025-09-23T04:00:00"
         ]
        },
        {
         "hovertext": [
          "Sentiment Score: 5.0<br>News Count: 9",
          "Sentiment Score: 9.0<br>News Count: 18",
          "Sentiment Score: 6.0<br>News Count: 12",
          "Sentiment Score: 10.0<br>News Count: 15",
          "Sentiment Score: 6.0<br>News Count: 14",
          "Sentiment Score: 9.0<br>News Count: 11",
          "Sentiment Score: 11.0<br>News Count: 15",
          "Sentiment Score: 3.0<br>News Count: 7",
          "Sentiment Score: 7.0<br>News Count: 10",
          "Sentiment Score: 5.0<br>News Count: 9",
          "Sentiment Score: 5.0<br>News Count: 10",
          "Sentiment Score: 7.0<br>News Count: 13",
          "Sentiment Score: 7.0<br>News Count: 17",
          "Sentiment Score: 5.0<br>News Count: 12",
          "Sentiment Score: 4.0<br>News Count: 10",
          "Sentiment Score: 4.0<br>News Count: 5",
          "Sentiment Score: 7.0<br>News Count: 12",
          "Sentiment Score: 9.0<br>News Count: 19",
          "Sentiment Score: 4.0<br>News Count: 9",
          "Sentiment Score: 7.0<br>News Count: 13",
          "Sentiment Score: 9.0<br>News Count: 16",
          "Sentiment Score: 7.0<br>News Count: 13",
          "Sentiment Score: 13.0<br>News Count: 22",
          "Sentiment Score: 11.0<br>News Count: 26",
          "Sentiment Score: 0.0<br>News Count: 12",
          "Sentiment Score: 3.0<br>News Count: 9",
          "Sentiment Score: 8.0<br>News Count: 10",
          "Sentiment Score: 10.0<br>News Count: 17",
          "Sentiment Score: 14.0<br>News Count: 19",
          "Sentiment Score: 1.0<br>News Count: 10",
          "Sentiment Score: 8.0<br>News Count: 15",
          "Sentiment Score: 10.0<br>News Count: 14",
          "Sentiment Score: 10.0<br>News Count: 14",
          "Sentiment Score: 7.0<br>News Count: 19",
          "Sentiment Score: 4.0<br>News Count: 11",
          "Sentiment Score: 9.0<br>News Count: 13",
          "Sentiment Score: 15.0<br>News Count: 31",
          "Sentiment Score: 14.0<br>News Count: 21",
          "Sentiment Score: 4.0<br>News Count: 8",
          "Sentiment Score: 3.0<br>News Count: 8",
          "Sentiment Score: 5.0<br>News Count: 7"
         ],
         "marker": {
          "color": [
           "green",
           "green",
           "green",
           "green",
           "green",
           "green",
           "green",
           "green",
           "green",
           "green",
           "green",
           "green",
           "green",
           "green",
           "green",
           "green",
           "green",
           "green",
           "green",
           "green",
           "green",
           "green",
           "green",
           "green",
           "gray",
           "green",
           "green",
           "green",
           "green",
           "green",
           "green",
           "green",
           "green",
           "green",
           "green",
           "green",
           "green",
           "green",
           "green",
           "green",
           "green"
          ],
          "size": 10,
          "symbol": "diamond"
         },
         "mode": "markers",
         "name": "News Sentiment",
         "type": "scatter",
         "x": [
          "2025-07-28T04:00:00",
          "2025-07-29T04:00:00",
          "2025-07-30T04:00:00",
          "2025-07-31T04:00:00",
          "2025-08-01T04:00:00",
          "2025-08-04T04:00:00",
          "2025-08-05T04:00:00",
          "2025-08-06T04:00:00",
          "2025-08-07T04:00:00",
          "2025-08-08T04:00:00",
          "2025-08-11T04:00:00",
          "2025-08-12T04:00:00",
          "2025-08-13T04:00:00",
          "2025-08-14T04:00:00",
          "2025-08-15T04:00:00",
          "2025-08-18T04:00:00",
          "2025-08-19T04:00:00",
          "2025-08-20T04:00:00",
          "2025-08-21T04:00:00",
          "2025-08-22T04:00:00",
          "2025-08-25T04:00:00",
          "2025-08-26T04:00:00",
          "2025-08-27T04:00:00",
          "2025-08-28T04:00:00",
          "2025-08-29T04:00:00",
          "2025-09-02T04:00:00",
          "2025-09-03T04:00:00",
          "2025-09-04T04:00:00",
          "2025-09-05T04:00:00",
          "2025-09-08T04:00:00",
          "2025-09-09T04:00:00",
          "2025-09-10T04:00:00",
          "2025-09-11T04:00:00",
          "2025-09-12T04:00:00",
          "2025-09-15T04:00:00",
          "2025-09-16T04:00:00",
          "2025-09-17T04:00:00",
          "2025-09-18T04:00:00",
          "2025-09-19T04:00:00",
          "2025-09-22T04:00:00",
          "2025-09-23T04:00:00"
         ],
         "y": {
          "bdata": "AAAAAABYZkC4HoXrUTBmQHE9CtejqGZApHA9Ctd7ZkDXo3A9CvdlQAAAAAAAwGZAuB6F61GIZkA9CtejcK1mQHE9Ctej2GZAZmZmZmYWZ0BSuB6F6wFnQIXrUbgeJWdAexSuR+HyZkBxPQrXowBnQGZmZmZmzmZAuB6F61EAZ0AUrkfhejRmQM3MzMzMLGZAj8L1KFwfZkBI4XoUrn9mQFK4HoXruWZAcT0K16P4ZkAzMzMzM/NmQD0K16NwxWZA9ihcj8IFZkApXI/C9ZhlQKRwPQrXk2VAhetRuB61ZUBxPQrXoyBlQFK4HoXrSWVAuB6F61GYZUDD9Shcj2pmQD0K16NwZWZACtejcD16ZkAAAAAAAHhmQFyPwvUoHGZA4XoUrkeJZUBI4XoUrkdmQD0K16NwVWZA7FG4HoUzZ0D2KFyPwo1mQA==",
          "dtype": "f8"
         }
        }
       ],
       "layout": {
        "hovermode": "x unified",
        "template": {
         "data": {
          "bar": [
           {
            "error_x": {
             "color": "#2a3f5f"
            },
            "error_y": {
             "color": "#2a3f5f"
            },
            "marker": {
             "line": {
              "color": "#E5ECF6",
              "width": 0.5
             },
             "pattern": {
              "fillmode": "overlay",
              "size": 10,
              "solidity": 0.2
             }
            },
            "type": "bar"
           }
          ],
          "barpolar": [
           {
            "marker": {
             "line": {
              "color": "#E5ECF6",
              "width": 0.5
             },
             "pattern": {
              "fillmode": "overlay",
              "size": 10,
              "solidity": 0.2
             }
            },
            "type": "barpolar"
           }
          ],
          "carpet": [
           {
            "aaxis": {
             "endlinecolor": "#2a3f5f",
             "gridcolor": "white",
             "linecolor": "white",
             "minorgridcolor": "white",
             "startlinecolor": "#2a3f5f"
            },
            "baxis": {
             "endlinecolor": "#2a3f5f",
             "gridcolor": "white",
             "linecolor": "white",
             "minorgridcolor": "white",
             "startlinecolor": "#2a3f5f"
            },
            "type": "carpet"
           }
          ],
          "choropleth": [
           {
            "colorbar": {
             "outlinewidth": 0,
             "ticks": ""
            },
            "type": "choropleth"
           }
          ],
          "contour": [
           {
            "colorbar": {
             "outlinewidth": 0,
             "ticks": ""
            },
            "colorscale": [
             [
              0,
              "#0d0887"
             ],
             [
              0.1111111111111111,
              "#46039f"
             ],
             [
              0.2222222222222222,
              "#7201a8"
             ],
             [
              0.3333333333333333,
              "#9c179e"
             ],
             [
              0.4444444444444444,
              "#bd3786"
             ],
             [
              0.5555555555555556,
              "#d8576b"
             ],
             [
              0.6666666666666666,
              "#ed7953"
             ],
             [
              0.7777777777777778,
              "#fb9f3a"
             ],
             [
              0.8888888888888888,
              "#fdca26"
             ],
             [
              1,
              "#f0f921"
             ]
            ],
            "type": "contour"
           }
          ],
          "contourcarpet": [
           {
            "colorbar": {
             "outlinewidth": 0,
             "ticks": ""
            },
            "type": "contourcarpet"
           }
          ],
          "heatmap": [
           {
            "colorbar": {
             "outlinewidth": 0,
             "ticks": ""
            },
            "colorscale": [
             [
              0,
              "#0d0887"
             ],
             [
              0.1111111111111111,
              "#46039f"
             ],
             [
              0.2222222222222222,
              "#7201a8"
             ],
             [
              0.3333333333333333,
              "#9c179e"
             ],
             [
              0.4444444444444444,
              "#bd3786"
             ],
             [
              0.5555555555555556,
              "#d8576b"
             ],
             [
              0.6666666666666666,
              "#ed7953"
             ],
             [
              0.7777777777777778,
              "#fb9f3a"
             ],
             [
              0.8888888888888888,
              "#fdca26"
             ],
             [
              1,
              "#f0f921"
             ]
            ],
            "type": "heatmap"
           }
          ],
          "histogram": [
           {
            "marker": {
             "pattern": {
              "fillmode": "overlay",
              "size": 10,
              "solidity": 0.2
             }
            },
            "type": "histogram"
           }
          ],
          "histogram2d": [
           {
            "colorbar": {
             "outlinewidth": 0,
             "ticks": ""
            },
            "colorscale": [
             [
              0,
              "#0d0887"
             ],
             [
              0.1111111111111111,
              "#46039f"
             ],
             [
              0.2222222222222222,
              "#7201a8"
             ],
             [
              0.3333333333333333,
              "#9c179e"
             ],
             [
              0.4444444444444444,
              "#bd3786"
             ],
             [
              0.5555555555555556,
              "#d8576b"
             ],
             [
              0.6666666666666666,
              "#ed7953"
             ],
             [
              0.7777777777777778,
              "#fb9f3a"
             ],
             [
              0.8888888888888888,
              "#fdca26"
             ],
             [
              1,
              "#f0f921"
             ]
            ],
            "type": "histogram2d"
           }
          ],
          "histogram2dcontour": [
           {
            "colorbar": {
             "outlinewidth": 0,
             "ticks": ""
            },
            "colorscale": [
             [
              0,
              "#0d0887"
             ],
             [
              0.1111111111111111,
              "#46039f"
             ],
             [
              0.2222222222222222,
              "#7201a8"
             ],
             [
              0.3333333333333333,
              "#9c179e"
             ],
             [
              0.4444444444444444,
              "#bd3786"
             ],
             [
              0.5555555555555556,
              "#d8576b"
             ],
             [
              0.6666666666666666,
              "#ed7953"
             ],
             [
              0.7777777777777778,
              "#fb9f3a"
             ],
             [
              0.8888888888888888,
              "#fdca26"
             ],
             [
              1,
              "#f0f921"
             ]
            ],
            "type": "histogram2dcontour"
           }
          ],
          "mesh3d": [
           {
            "colorbar": {
             "outlinewidth": 0,
             "ticks": ""
            },
            "type": "mesh3d"
           }
          ],
          "parcoords": [
           {
            "line": {
             "colorbar": {
              "outlinewidth": 0,
              "ticks": ""
             }
            },
            "type": "parcoords"
           }
          ],
          "pie": [
           {
            "automargin": true,
            "type": "pie"
           }
          ],
          "scatter": [
           {
            "fillpattern": {
             "fillmode": "overlay",
             "size": 10,
             "solidity": 0.2
            },
            "type": "scatter"
           }
          ],
          "scatter3d": [
           {
            "line": {
             "colorbar": {
              "outlinewidth": 0,
              "ticks": ""
             }
            },
            "marker": {
             "colorbar": {
              "outlinewidth": 0,
              "ticks": ""
             }
            },
            "type": "scatter3d"
           }
          ],
          "scattercarpet": [
           {
            "marker": {
             "colorbar": {
              "outlinewidth": 0,
              "ticks": ""
             }
            },
            "type": "scattercarpet"
           }
          ],
          "scattergeo": [
           {
            "marker": {
             "colorbar": {
              "outlinewidth": 0,
              "ticks": ""
             }
            },
            "type": "scattergeo"
           }
          ],
          "scattergl": [
           {
            "marker": {
             "colorbar": {
              "outlinewidth": 0,
              "ticks": ""
             }
            },
            "type": "scattergl"
           }
          ],
          "scattermap": [
           {
            "marker": {
             "colorbar": {
              "outlinewidth": 0,
              "ticks": ""
             }
            },
            "type": "scattermap"
           }
          ],
          "scattermapbox": [
           {
            "marker": {
             "colorbar": {
              "outlinewidth": 0,
              "ticks": ""
             }
            },
            "type": "scattermapbox"
           }
          ],
          "scatterpolar": [
           {
            "marker": {
             "colorbar": {
              "outlinewidth": 0,
              "ticks": ""
             }
            },
            "type": "scatterpolar"
           }
          ],
          "scatterpolargl": [
           {
            "marker": {
             "colorbar": {
              "outlinewidth": 0,
              "ticks": ""
             }
            },
            "type": "scatterpolargl"
           }
          ],
          "scatterternary": [
           {
            "marker": {
             "colorbar": {
              "outlinewidth": 0,
              "ticks": ""
             }
            },
            "type": "scatterternary"
           }
          ],
          "surface": [
           {
            "colorbar": {
             "outlinewidth": 0,
             "ticks": ""
            },
            "colorscale": [
             [
              0,
              "#0d0887"
             ],
             [
              0.1111111111111111,
              "#46039f"
             ],
             [
              0.2222222222222222,
              "#7201a8"
             ],
             [
              0.3333333333333333,
              "#9c179e"
             ],
             [
              0.4444444444444444,
              "#bd3786"
             ],
             [
              0.5555555555555556,
              "#d8576b"
             ],
             [
              0.6666666666666666,
              "#ed7953"
             ],
             [
              0.7777777777777778,
              "#fb9f3a"
             ],
             [
              0.8888888888888888,
              "#fdca26"
             ],
             [
              1,
              "#f0f921"
             ]
            ],
            "type": "surface"
           }
          ],
          "table": [
           {
            "cells": {
             "fill": {
              "color": "#EBF0F8"
             },
             "line": {
              "color": "white"
             }
            },
            "header": {
             "fill": {
              "color": "#C8D4E3"
             },
             "line": {
              "color": "white"
             }
            },
            "type": "table"
           }
          ]
         },
         "layout": {
          "annotationdefaults": {
           "arrowcolor": "#2a3f5f",
           "arrowhead": 0,
           "arrowwidth": 1
          },
          "autotypenumbers": "strict",
          "coloraxis": {
           "colorbar": {
            "outlinewidth": 0,
            "ticks": ""
           }
          },
          "colorscale": {
           "diverging": [
            [
             0,
             "#8e0152"
            ],
            [
             0.1,
             "#c51b7d"
            ],
            [
             0.2,
             "#de77ae"
            ],
            [
             0.3,
             "#f1b6da"
            ],
            [
             0.4,
             "#fde0ef"
            ],
            [
             0.5,
             "#f7f7f7"
            ],
            [
             0.6,
             "#e6f5d0"
            ],
            [
             0.7,
             "#b8e186"
            ],
            [
             0.8,
             "#7fbc41"
            ],
            [
             0.9,
             "#4d9221"
            ],
            [
             1,
             "#276419"
            ]
           ],
           "sequential": [
            [
             0,
             "#0d0887"
            ],
            [
             0.1111111111111111,
             "#46039f"
            ],
            [
             0.2222222222222222,
             "#7201a8"
            ],
            [
             0.3333333333333333,
             "#9c179e"
            ],
            [
             0.4444444444444444,
             "#bd3786"
            ],
            [
             0.5555555555555556,
             "#d8576b"
            ],
            [
             0.6666666666666666,
             "#ed7953"
            ],
            [
             0.7777777777777778,
             "#fb9f3a"
            ],
            [
             0.8888888888888888,
             "#fdca26"
            ],
            [
             1,
             "#f0f921"
            ]
           ],
           "sequentialminus": [
            [
             0,
             "#0d0887"
            ],
            [
             0.1111111111111111,
             "#46039f"
            ],
            [
             0.2222222222222222,
             "#7201a8"
            ],
            [
             0.3333333333333333,
             "#9c179e"
            ],
            [
             0.4444444444444444,
             "#bd3786"
            ],
            [
             0.5555555555555556,
             "#d8576b"
            ],
            [
             0.6666666666666666,
             "#ed7953"
            ],
            [
             0.7777777777777778,
             "#fb9f3a"
            ],
            [
             0.8888888888888888,
             "#fdca26"
            ],
            [
             1,
             "#f0f921"
            ]
           ]
          },
          "colorway": [
           "#636efa",
           "#EF553B",
           "#00cc96",
           "#ab63fa",
           "#FFA15A",
           "#19d3f3",
           "#FF6692",
           "#B6E880",
           "#FF97FF",
           "#FECB52"
          ],
          "font": {
           "color": "#2a3f5f"
          },
          "geo": {
           "bgcolor": "white",
           "lakecolor": "white",
           "landcolor": "#E5ECF6",
           "showlakes": true,
           "showland": true,
           "subunitcolor": "white"
          },
          "hoverlabel": {
           "align": "left"
          },
          "hovermode": "closest",
          "mapbox": {
           "style": "light"
          },
          "paper_bgcolor": "white",
          "plot_bgcolor": "#E5ECF6",
          "polar": {
           "angularaxis": {
            "gridcolor": "white",
            "linecolor": "white",
            "ticks": ""
           },
           "bgcolor": "#E5ECF6",
           "radialaxis": {
            "gridcolor": "white",
            "linecolor": "white",
            "ticks": ""
           }
          },
          "scene": {
           "xaxis": {
            "backgroundcolor": "#E5ECF6",
            "gridcolor": "white",
            "gridwidth": 2,
            "linecolor": "white",
            "showbackground": true,
            "ticks": "",
            "zerolinecolor": "white"
           },
           "yaxis": {
            "backgroundcolor": "#E5ECF6",
            "gridcolor": "white",
            "gridwidth": 2,
            "linecolor": "white",
            "showbackground": true,
            "ticks": "",
            "zerolinecolor": "white"
           },
           "zaxis": {
            "backgroundcolor": "#E5ECF6",
            "gridcolor": "white",
            "gridwidth": 2,
            "linecolor": "white",
            "showbackground": true,
            "ticks": "",
            "zerolinecolor": "white"
           }
          },
          "shapedefaults": {
           "line": {
            "color": "#2a3f5f"
           }
          },
          "ternary": {
           "aaxis": {
            "gridcolor": "white",
            "linecolor": "white",
            "ticks": ""
           },
           "baxis": {
            "gridcolor": "white",
            "linecolor": "white",
            "ticks": ""
           },
           "bgcolor": "#E5ECF6",
           "caxis": {
            "gridcolor": "white",
            "linecolor": "white",
            "ticks": ""
           }
          },
          "title": {
           "x": 0.05
          },
          "xaxis": {
           "automargin": true,
           "gridcolor": "white",
           "linecolor": "white",
           "ticks": "",
           "title": {
            "standoff": 15
           },
           "zerolinecolor": "white",
           "zerolinewidth": 2
          },
          "yaxis": {
           "automargin": true,
           "gridcolor": "white",
           "linecolor": "white",
           "ticks": "",
           "title": {
            "standoff": 15
           },
           "zerolinecolor": "white",
           "zerolinewidth": 2
          }
         }
        },
        "title": {
         "text": "NVDA Daily Price with News Sentiment Overlay"
        },
        "xaxis": {
         "rangeslider": {
          "visible": false
         },
         "title": {
          "text": "Date"
         }
        },
        "yaxis": {
         "title": {
          "text": "Price (USD)"
         }
        }
       }
      }
     },
     "metadata": {},
     "output_type": "display_data"
    }
   ],
   "source": [
    "import pandas as pd\n",
    "import numpy as np\n",
    "import plotly.graph_objects as go\n",
    "\n",
    "# --- Map sentiment to numeric score ---\n",
    "sentiment_map = {\"positive\": 1, \"neutral\": 0, \"negative\": -1}\n",
    "news_expanded['sentiment_score'] = news_expanded['sentiment'].map(sentiment_map)\n",
    "\n",
    "# --- Aggregate daily sentiment and count of news for NVDA ---\n",
    "news_expanded['date'] = pd.to_datetime(news_expanded['published_utc']).dt.date\n",
    "daily_sentiment = (\n",
    "    news_expanded[news_expanded['ticker'] == 'NVDA']\n",
    "    .groupby('date')\n",
    "    .agg(\n",
    "        sentiment_score=('sentiment_score', 'sum'),\n",
    "        news_count=('sentiment_score', 'count')\n",
    "    )\n",
    "    .reset_index()\n",
    ")\n",
    "\n",
    "# --- Prepare stock data ---\n",
    "df_stock['date'] = df_stock['ts'].dt.date\n",
    "merged = pd.merge(df_stock, daily_sentiment, on='date', how='left').fillna({'sentiment_score': 0, 'news_count': 0})\n",
    "\n",
    "# --- Plot Candlestick ---\n",
    "fig = go.Figure(data=[go.Candlestick(\n",
    "    x=merged['ts'],\n",
    "    open=merged['open'],\n",
    "    high=merged['high'],\n",
    "    low=merged['low'],\n",
    "    close=merged['close'],\n",
    "    name='Price'\n",
    ")])\n",
    "\n",
    "# --- Add sentiment markers ---\n",
    "fig.add_trace(go.Scatter(\n",
    "    x=merged['ts'],\n",
    "    y=merged['close'] + 2,  # slightly above the candlestick\n",
    "    mode='markers',\n",
    "    marker=dict(\n",
    "        size=10,\n",
    "        color=['green' if s > 0 else 'red' if s < 0 else 'gray' for s in merged['sentiment_score']],\n",
    "        symbol='diamond'\n",
    "    ),\n",
    "    hovertext=[\n",
    "        f\"Sentiment Score: {s}<br>News Count: {c}\"\n",
    "        for s, c in zip(merged['sentiment_score'], merged['news_count'])\n",
    "    ],\n",
    "    name='News Sentiment'\n",
    "))\n",
    "\n",
    "# --- Layout tweaks ---\n",
    "fig.update_layout(\n",
    "    title='NVDA Daily Price with News Sentiment Overlay',\n",
    "    xaxis_title='Date',\n",
    "    yaxis_title='Price (USD)',\n",
    "    xaxis_rangeslider_visible=False,\n",
    "    hovermode='x unified'\n",
    ")\n",
    "\n",
    "fig.show()\n"
   ]
  },
  {
   "cell_type": "markdown",
   "id": "f41d9c88",
   "metadata": {},
   "source": [
    "Annotating the chart with the actual news headlines so you can hover over the marker and see the top news for that day."
   ]
  },
  {
   "cell_type": "code",
   "execution_count": 167,
   "id": "5e933e0c",
   "metadata": {},
   "outputs": [
    {
     "data": {
      "application/vnd.plotly.v1+json": {
       "config": {
        "plotlyServerURL": "https://plot.ly"
       },
       "data": [
        {
         "close": {
          "bdata": "AAAAAAAYZkC4HoXrUfBlQHE9CtejaGZApHA9Ctc7ZkDXo3A9CrdlQAAAAAAAgGZAuB6F61FIZkA9CtejcG1mQHE9CtejmGZAZmZmZmbWZkBSuB6F68FmQIXrUbge5WZAexSuR+GyZkBxPQrXo8BmQGZmZmZmjmZAuB6F61HAZkAUrkfhevRlQM3MzMzM7GVAj8L1KFzfZUBI4XoUrj9mQFK4HoXreWZAcT0K16O4ZkAzMzMzM7NmQD0K16NwhWZA9ihcj8LFZUApXI/C9VhlQKRwPQrXU2VAhetRuB51ZUBxPQrXo+BkQFK4HoXrCWVAuB6F61FYZUDD9ShcjypmQD0K16NwJWZACtejcD06ZkAAAAAAADhmQFyPwvUo3GVA4XoUrkdJZUBI4XoUrgdmQD0K16NwFWZA7FG4HoXzZkD2KFyPwk1mQA==",
          "dtype": "f8"
         },
         "high": {
          "bdata": "AAAAAAAgZkBcj8L1KGxmQBSuR+F6fGZAmpmZmZnpZkDhehSuRxFmQGZmZmZmhmZAuB6F61GIZkDNzMzMzHxmQFyPwvUo/GZAmpmZmZnpZkB7FK5H4fpmQI/C9ShcD2dA16NwPQr/ZkBxPQrXo+BmQM3MzMzMvGZAAAAAAADeZkAAAAAAANBmQAAAAAAAAGZAzczMzMwcZkB7FK5H4VJmQIXrUbgevWZAFK5H4XrMZkBI4XoUrs9mQNejcD0KD2dAzczMzMxEZkDjpZvEIIxlQIXrUbgejWVA7FG4HoV7ZUApXI/C9SBlQB+F61G4XmVAj8L1KFxfZUDhehSuR2lmQClcj8L1iGZA16NwPQpTZkAzMzMzM1tmQAAAAAAAMGZAZmZmZmamZUAzMzMzMyNmQMP1KFyPQmZAmpmZmZkRZ0A9CtejcM1mQA==",
          "dtype": "f8"
         },
         "low": {
          "bdata": "16NwPQq/ZUBxPQrXo+BlQOF6FK5HAWZA9ihcj8L9ZUAUrkfhelxlQHE9Ctej0GVAzczMzMz8ZUAAAAAAAAhmQD0K16NwWWZAzczMzMyMZkAAAAAAAIhmQB+F61G4bmZAMzMzMzNrZkAfhetRuG5mQMgHPZtVQWZAexSuR+GSZkBI4XoUru9lQBKDwMqhGWVAUrgeheu5ZUBmZmZmZmZlQArXo3A9EmZAUrgehetZZkAzMzMzM2NmQIXrUbgeDWZAcT0K16OkZUDXo3A9CudkQAAAAAAAHGVAhetRuB4tZUAK16NwPYJkQDMzMzMz62RAofgx5q7XZEDXo3A9Cu9lQI/C9ShcD2ZAZmZmZmYOZkC4HoXrUdBlQFyPwvUozGVAhetRuB4NZUAfhetRuJ5lQPYoXI/C5WVAzTtO0ZHWZUAfhetRuAZmQA==",
          "dtype": "f8"
         },
         "name": "Price",
         "open": {
          "bdata": "cT0K16PAZUAfhetRuD5mQLgehetREGZAzczMzMzcZkB7FK5H4cJlQIXrUbge5WVApHA9CtdzZkBmZmZmZgpmQArXo3A9smZAmpmZmZmxZkCamZmZmcFmQB+F61G43mZASOF6FK7TZkAAAAAAAHhmQFyPwvUovGZAMzMzMzOTZkD2KFyPws1mQOF6FK5H5WVAMzMzMzPbZUDsUbgehZNlQDMzMzMzS2ZA9ihcj8KBZkCPwvUoXL9mQArXo3A9mmZA7FG4HoVDZkAAAAAAAEBlQFK4HoXrYWVACtejcD1SZUApXI/C9QBlQJqZmZmZ8WRAexSuR+EiZUAUrkfhehRmQPYoXI/CdWZAcT0K16M4ZkA9CtejcPVlQAAAAAAAIGZAFK5H4XqUZUCPwvUoXL9lQHE9Ctej+GVAmpmZmZnpZUDXo3A9Cr9mQA==",
          "dtype": "f8"
         },
         "type": "candlestick",
         "x": [
          "2025-07-28T04:00:00",
          "2025-07-29T04:00:00",
          "2025-07-30T04:00:00",
          "2025-07-31T04:00:00",
          "2025-08-01T04:00:00",
          "2025-08-04T04:00:00",
          "2025-08-05T04:00:00",
          "2025-08-06T04:00:00",
          "2025-08-07T04:00:00",
          "2025-08-08T04:00:00",
          "2025-08-11T04:00:00",
          "2025-08-12T04:00:00",
          "2025-08-13T04:00:00",
          "2025-08-14T04:00:00",
          "2025-08-15T04:00:00",
          "2025-08-18T04:00:00",
          "2025-08-19T04:00:00",
          "2025-08-20T04:00:00",
          "2025-08-21T04:00:00",
          "2025-08-22T04:00:00",
          "2025-08-25T04:00:00",
          "2025-08-26T04:00:00",
          "2025-08-27T04:00:00",
          "2025-08-28T04:00:00",
          "2025-08-29T04:00:00",
          "2025-09-02T04:00:00",
          "2025-09-03T04:00:00",
          "2025-09-04T04:00:00",
          "2025-09-05T04:00:00",
          "2025-09-08T04:00:00",
          "2025-09-09T04:00:00",
          "2025-09-10T04:00:00",
          "2025-09-11T04:00:00",
          "2025-09-12T04:00:00",
          "2025-09-15T04:00:00",
          "2025-09-16T04:00:00",
          "2025-09-17T04:00:00",
          "2025-09-18T04:00:00",
          "2025-09-19T04:00:00",
          "2025-09-22T04:00:00",
          "2025-09-23T04:00:00"
         ]
        },
        {
         "hovertext": [
          "Sentiment Score: 5.0<br>News Count: 9<br>Headlines:<br>Is Nvidia a Buy?<br>3 Tech Stocks to Watch During Earnings Season<br>Can Nvidia Stock Skyrocket Another 370% By 2030? 1 Wall Street Analyst Says Yes.<br>Dow Jones Index Has Reached Its Top Levels, but Don’t Rush to Short It<br>Don't Blink: Here's How Nvidia Could Become the First $5 Trillion Company by the End of 2025<br>Digitalia 21 Launches Proprietary Reputation Strategy to Help Companies Convert Visibility into Market Value<br>Ekso Revenue Falls 58 Percent in Q2<br>Why Wall Street Is Bullish on This Industrial Stock<br>Jim Rickards Presents: The Federal Loophole That Could Anchor America's Technological Comeback",
          "Sentiment Score: 9.0<br>News Count: 18<br>Headlines:<br>Why Is Wall Street so Bullish on Nvidia? Here's the $4.8 Trillion Reason<br>Nvidia Tops $4.3 Trillion Valuation, Surpassing Microsoft By $500B — 'The Craziest Part? The AI Revolution Has Barely Started'<br>2 Top Stocks That Could Dominate the Rest of 2025<br>7 Undervalued Stocks on the Rise With 50%+ Upside Potential<br>Accelsius Demonstrates Strong Momentum in First Half of 2025 with 5x Growth in Data Center Deployments<br>Can Qualcomm Shock Wall Street With Its Q3 Earnings?<br>Should You Forget Palantir and Buy 2 Artificial Intelligence (AI) Stocks Instead?<br>Cathie Wood Goes Shopping: 3 Stocks She Just Bought<br>Jensen Huang Has Been Unloading Nvidia Stock This Year. Should Investors Be Worried?<br>Presentation from Former CIA Advisor Reveals Hidden Policy That Powered America’s 21st Century Arsenal<br>How to Trade the July Fed Meeting<br>This Semiconductor Stock Just Announced It Is Collaborating With Nvidia<br>Taiwan Semiconductor Could Boom on This AI Action Plan<br>Should You Buy Advanced Micro Devices (AMD) Stock Before Aug. 5? Here's What History Says.<br>Former CIA Advisor Uncovers Century-Old Policy That Anchors America’s AI and Defense Future<br>Why Navitas Semiconductor Stock Is Plummeting Today<br>Stock Market Today: Nvidia Dips Off New Highs While AI Stocks Maintain Their Edge<br>Semiconductor Index: Elliott Wave Levels Offer Playbook for Trend Reversal",
          "Sentiment Score: 6.0<br>News Count: 12<br>Headlines:<br>3 Millionaire-Maker Artificial Intelligence (AI) Stocks?<br>1 Supercharged Artificial Intelligence (AI) Stock to Buy Before It Soars to $1 Trillion by 2028, According to Wall Street<br>Will Databricks SPAC or IPO in 2025?<br>What Does QUBT Actually Do -- and Is the Stock a Buy Right Now?<br>Should You Buy Nvidia (NVDA) Stock Before Aug. 27? Here's What History Says.<br>RAVEL Expands Its Orchestrate AI Software and Launches New Turnkey AI Workload Solution Pre-Configured for Supermicro Systems to Accelerate AI Adoption<br>MLCommons Releases MLPerf Client v1.0: A New Standard for AI PC and Client LLM Benchmarking<br>Nvidia Hits Record Highs, but MACD and RSI Flash Caution for Traders<br>Astrocade Rolls Out AI Agent-Powered Game Creation Experience; Opening the Door for Everyone to Create - and Remix - Games in minutes<br>NVIDIA Sets Conference Call for Second-Quarter Financial Results<br>Is the Vanguard Russell 2000 ETF a Buy Now?<br>Prediction: This Artificial Intelligence (AI) Stock Will Outperform Nvidia by 2030",
          "Sentiment Score: 10.0<br>News Count: 15<br>Headlines:<br>WeRide Accelerates Global Growth, Robotaxi Revenue Grew 836.7%<br>1 No-Brainer Technology Vanguard ETF to Buy Right Now for Less Than $1,000<br>Investing in Artificial Intelligence (AI) Stocks Can Be Risky, but This Might Be a Great Way to Do It<br>Meet the Unstoppable Stock That Could Join Nvidia, Microsoft, and Apple in the $3 Trillion Club<br>Schneider Electric Reports Significant Sustainability Milestones in Q2 2025<br>These AI-Linked Dividend Stocks Offer Yields as High as 13%<br>The Best Semiconductor Stock to Buy?<br>Should You Forget Nvidia and Buy These 2 Millionaire-Maker Stocks Instead?<br>Think It's Too Late to Buy Nvidia? Here's the Biggest Reason Why There's Still Time.<br>Is Nebius Stock A Buy Before Aug. 7?<br>Microsoft’s $4 Trillion Milestone Marks Its Shift to AI Infrastructure Leader<br>Here's Why Super Micro Stock Jumped This Week<br>2 Top Artificial Intelligence Stocks to Buy in August<br>Is Figma a Buy After Tripling on Its IPO?<br>S&P 500 Enters Ideal Wave 3 Zone: Key Levels to Watch for a Correction",
          "Sentiment Score: 6.0<br>News Count: 14<br>Headlines:<br>Prediction: Nvidia Stock Will Soar in the Second Half of 2025, Thanks to This Incredible News From Microsoft and Meta Platforms<br>Here's the Average Stock Market Return in the Last 10 Years and Wall Street's Surprising Forecast for 2025<br>Alphabet CEO Sundar Pichai Just Delivered Incredible News for Nvidia Stock Investors<br>The Smartest Quantum Computing Stocks to Buy With $10,000 in August<br>What Nvidia Stock Investors Should Know About Recent Updates<br>Meta and Microsoft Just Shared Great News for Artificial Intelligence (AI) Stocks<br>Will Advanced Micro Devices Join the Trillion-Dollar Club by 2030?<br>Should You Buy Palantir Stock Before Aug. 4?<br>August May Open the Door to Rising Volatility<br>Trump Issues Nuclear Threat To Russia–And Wall Street's Fear Gauge Goes Vertical<br>Nasdaq 100 Enters Harmonic Danger Zone—Time and Price Are Squaring Out<br>AEye (LIDR) Q2 Loss Narrows 61%<br>Play It Cool: Why Comfort Systems USA Is a Hidden AI Winner<br>Merging AI and Quantum Computing: Here's the Stock to Watch",
          "Sentiment Score: 9.0<br>News Count: 11<br>Headlines:<br>Prediction: This Unstoppable Stock Will Join Nvidia, Microsoft, and Apple in the $3 Trillion Club Before 2029<br>3 Genius Artificial Intelligence (AI) Stocks I Wouldn't Hesitate Investing $10,000 Into Right Now<br>These Were the 2 Best-Performing Stocks in the Dow Jones Industrial Average in July 2025<br>Is Nvidia Stock Still a Buy?<br>Will This Small-Cap Nvidia Partner Surpass Earnings Expectations?<br>What Nvidia, Amazon, and Qualcomm Stock Investors Should Know About Recent Updates<br>Nvidia Could Add Billions From China Sales If H20 GPUs Get Green Light From US: Analyst<br>3 Reasons Why Microsoft Just Joined Nvidia in the $4 Trillion Club<br>Recession Talk Heats Up After Jobs Data—But Corporate America Says Otherwise<br>Advanced Micro Vs. Nvidia: Two AI Giants, Two Very Different Market Narratives<br>Nasdaq 100 Correction in Play: Elliott Wave Flags W-4 Before W-5 Rally",
          "Sentiment Score: 11.0<br>News Count: 15<br>Headlines:<br>Should You Buy Nvidia Stock Before Aug. 27? Here's What the Evidence Suggests.<br>These Were the 5 Biggest Companies in 1989, and Here Are the 5 Biggest Companies Now<br>1 Unstoppable Stock That Could Join Nvidia, Microsoft, and Apple in the $3 Trillion Club<br>Could Investing $10,000 in Nvidia Make You a Millionaire?<br>These Were the 5 Biggest Companies in 1999, and Here Are the 5 Biggest Companies Now<br>Taiwan Semiconductor: A New AI Tailwind Could Boost the Stock<br>If I Could Only Buy and Hold a Single Stock, This Would Be It<br>Why Advanced Micro Devices Rallied Over 24% in July<br>The 8 Best Stocks to Buy Now in August (2025)<br>Cathie Wood Goes Shopping: 3 Stocks She Just Bought<br>Palantir Shared Some Amazing News With Nvidia and AI Stock Investors<br>Nasdaq 100 Needs Momentum as Gann Cycle Rally Meets Trump Turbulence<br>Applied Digital: Why a Surge in Bullish Bets Signals a New Era<br>AMD Q2 Earnings Preview: Priced for Perfection or Due for a Pullback?<br>Stock Market Today: Nvidia Slips Nearly 1% on Tariff Jitters Despite ARK Fund Confidence",
          "Sentiment Score: 3.0<br>News Count: 7<br>Headlines:<br>S&P 500: Tepid Session Masks Growing Economic Worries Post-ISM Miss<br>Palantir CEO Alex Karp Just Delivered Incredible News for Nvidia Stock Investors<br>S&P 500: Overbought Conditions, High Valuations Set to Test Bullish Resolve<br>Intel Can't Stop Cutting<br>Canadian General Investments: Investment Update - Unaudited<br>Teradata (TDC) Q2 Cloud ARR Jumps 17%<br>Semiconductor Stocks Dip as Trump Teases Tariffs—Buy the Pullback?",
          "Sentiment Score: 7.0<br>News Count: 10<br>Headlines:<br>Bank Negara Indonesia Strengthens Partnership with Cloudera to Scale AI-Powered Business Transformation<br>Cloudera Data Services Brings Private AI to the Data Center<br>S&P 500: Quiet Rage-Bound Price Action Masks Critical Yield Curve Developments<br>This Artificial Intelligence Stock Plays an Important Role in Chip Production, but It's Down 14% in 12 Months. Could It Be a Bargain Buy?<br>3 Growth ETFs to Buy With $500 and Hold Forever<br>Navitas Stock's Dip: A Calculated Risk or a Clear Buy Signal?<br>Nasdaq 100 Eyes New Highs on Geopolitical Optimism, Tech Relief and Rate Cut Bets<br>Why Shares of Nebius Group Are Skyrocketing Today<br>Microsoft Delivers Blowout Earnings, but Is the AI Premium Fully Priced In?<br>JFrog (FROG) Q2 Revenue Jumps 23%",
          "Sentiment Score: 5.0<br>News Count: 9<br>Headlines:<br>Cloudera Data Services 将私有 AI 引入数据中心<br>If You'd Invested $10,000 in SoundHound AI Stock 3 Years Ago, Here's How Much You'd Have Today<br>3 Top Artificial Intelligence (AI) Stocks Ready for a Bull Run<br>Here's Why Navitas Semiconductor Shares Slumped This Week<br>Top 5 Positions You Need to Exit NOW<br>Wall Street Has Left Intel for Dead—Here's Why You Shouldn’t<br>Nasdaq 100 Tracks Gann Roadmap: 23,840 Emerges as Critical Price-Time Pivot<br>Intel Stock Offers 1:3 Risk-Reward Setup — Short-Term Trade, Long-Term Doubt<br>Is Nvidia Stock Likely to Rally After Aug. 27?",
          "Sentiment Score: 5.0<br>News Count: 10<br>Headlines:<br>Better Artificial Intelligence Stock: ASML vs. AMD<br>US Stock Markets Poised to Retest the All Time Highs<br>Tredje AP-fonden Loads Up On 1.2M Alphabet (GOOGL) Shares<br>Rumble Bets On AI Cloud Growth With Northern Data Takeover Plans<br>Nvidia and Microsoft Alone Account for Almost Half of S&P 500 Returns This Year<br>The Grandmaster's Game Of Tariffs: Inside The Calculated US-China Chip Standoff, Shifting Hyper-Scaler Spend<br>New Millennium Loads up on 15,100 GE Aerospace Shares<br>Why Nvidia Stock Popped 13% in July<br>S&P 500 Earnings Growth Nearly Triples Forecasts Despite Valuation Fears<br>TSMC Stock Still Undervalued Versus Peers Despite $1T Valuation",
          "Sentiment Score: 7.0<br>News Count: 13<br>Headlines:<br>Prediction: This Unstoppable Stock Will Join Nvidia, Microsoft, and Apple in the $3 Trillion Club Before 2028<br>4 Brilliant Growth Stocks to Buy Now and Hold for the Long Term -- Including, Yes, Nvidia<br>This Might Be the Most Controversial Tesla Take Yet<br>Why TMC The Metals Company Stock Sank 10% Last Month and Has Kept Falling in August<br>Are Semiconductor Stocks Underestimating Tariff Risks?<br>Is CoreWeave a Buy, Sell, or Hold Before Aug. 13?<br>If You'd Invested $1,000 in VIG 5 Years Ago, Here's How Much You'd Have Today<br>CPI Meets Forecast for First Time in Six Months, Lifting US Equity Futures<br>Advanced Micro Devices Poised for AI Market Share Gains Against Nvidia<br>If You'd Invested $10,000 in Navitas Semiconductor Stock 2 Years Ago, Here's How Much You'd Have Today<br>If You'd Invested $1,000 in Berkshire Hathaway Stock 5 Years Ago, Here's How Much You'd Have Today<br>Nasdaq 100, S&P 500 Hit New All-Time Highs, Airlines Jump: What's Moving Markets Tuesday?<br>Stock Market Today: Nvidia Hits New High as U.S. Strikes Revenue-Sharing Deal on China Chip Sales",
          "Sentiment Score: 7.0<br>News Count: 17<br>Headlines:<br>This Artificial Intelligence (AI) Stock Could Be the Nvidia of Quantum Computing<br>Prediction: Nvidia Stock Will Be Worth This Much by the End of 2025<br>Intel's White House Reset: From Political Storm to a Clearer Sky<br>Billionaire Money Managers Have a Clear Favorite Artificial Intelligence (AI) Stock -- and It's Not Nvidia or Palantir<br>Inworld Runtime: The first AI runtime for consumer applications<br>Is SoundHound AI Stock a Buy Now?<br>Trump’s Nvidia, AMD China Export Deal Risks Market Stability<br>2 Top Artificial Intelligence Stocks to Buy Right Now<br>AMD's Earnings Miss Doesn't Matter: This Is Much More Important<br>Nvidia and Microsoft Stocks Have Reached a $4 Trillion Valuation. Is Apple Next?<br>CoreWeave Stock Pulls Back Into a Screaming Buy<br>Data Centers in Demand—This REIT Owns a Whole Portfolio<br>Is IonQ Stock a Buy Now?<br>3 No-Brainer Chip Stocks to Buy Right Now<br>Are AI Stocks Outperforming the Market This Year?<br>5 Stocks Insiders Are Selling That Analysts Say Buy<br>Record Buybacks and IPO Rush Point to Relentless Market Strength",
          "Sentiment Score: 5.0<br>News Count: 12<br>Headlines:<br>Billionaire Philippe Laffont Has Sold Shares of Nvidia for 8 Consecutive Quarters and Is Loading Up On This Historically Cheap Artificial Intelligence (AI) Stock Instead<br>1 Reason to Buy the Vanguard 500 Index (VFIAX) Index Fund Admiral Shares<br>This Company Could Be the Amazon of AI Infrastructure<br>Is Broadcom Poised to Be the Next Nvidia?<br>The Best Stocks to Invest $1,000 in Right Now<br>The 10 Deadly Sins of Trading<br>Palantir Soars to All-Time High, but Valuation Tests Investor Conviction<br>If You Bought 100 Shares of Applied Digital at Its IPO, Here's How Much Money You'd Have Now<br>HP Cranks Up the Game with Smarter Systems, Cooler Builds, and Gear That Hits Different<br>This Artificial Intelligence (AI) Stock Has Room to Run -- Even After Its Recent Rally<br>Even at an All-Time High, The Vanguard S&P 500 ETF Isn't as Expensive as It Seems<br>Digi Power X Reports Solid Mid-Year Financial Position, Removal of ‘Going Concern’ Risk and Positive Adjusted EBITDA in Q2 2025",
          "Sentiment Score: 4.0<br>News Count: 10<br>Headlines:<br>Nvidia, Palantir, and AMD Have a Nearly $13 Billion Warning for Wall Street -- but Are You Paying Attention?<br>2 ETFs That Give You Exposure to the Latest Trends in Tech<br>1 Unstoppable Stock That Could Join Nvidia, Microsoft, and Apple in the $3 Trillion Club by 2027<br>Where Will Navitas Semiconductor Stock Be in 3 Years?<br>What Are 2 Great Tech Stocks to Buy Right Now?<br>Poised for Explosive Growth: Is Your Portfolio Ready for This ETF?<br>Is SoundHound AI Stock Proving to Be the Real Deal?<br>This Artificial Intelligence (AI) Stock Is Growing Fast and Still Trades at Just 10 Times Earnings<br>If You'd Invested $500 in The Trade Desk Stock 5 Years Ago, Here's How Much You'd Have Today<br>Why Intel Stock Skyrocketed This Week",
          "Sentiment Score: 4.0<br>News Count: 5<br>Headlines:<br>2 Top Artificial Intelligence (AI) Stocks That Could Crush the Nasdaq<br>Is Quantum Computing Inc. Stock a Buy After Earnings?<br>Corporate America Is Crushing All Estimates – But Magnificent Seven Still Run The Show<br>Why Is Intel Stock Down on Monday?<br>S&P 500 Record Surge: Earnings Momentum Meets Market Realities",
          "Sentiment Score: 7.0<br>News Count: 12<br>Headlines:<br>Prediction: This Unstoppable Stock Will Join Nvidia, Microsoft, Apple, Amazon, and Alphabet in the $2 Trillion Club by 2028<br>Billionaire David Tepper Nearly 6X'd Appaloosa's Stake in Nvidia and Completely Dumped This Trillion-Dollar Artificial Intelligence (AI) Stock<br>Famous Short-Seller Jim Chanos Just Laid Out His Bearish Take On CoreWeave: Should Shareholders Worry?<br>Billionaires Buy a Brilliant Vanguard Index Fund That Could Turn $500 Per Month Into $442,400 With Help From the \"Magnificent Seven\" Stocks<br>Serve Robotics Stock Is Down 55% Since Nvidia Made This Surprising Move. Should You Buy the Dip, or Run for the Hills?<br>2 Growth Stocks to Buy With $200 and Hold Forever<br>North America Data Center Server Market Trends and Forecast Report 2025-2033 | Rising Cloud Adoption and AI Demand Propel Growth, Investments Surge in Liquid Cooling and Energy-Efficient Technologies<br>North America Data Center Server Market Trends and Forecast Report 2025-2033 | Rising Cloud Adoption and AI Demand Propel Growth, Investments Surge in Liquid Cooling and Energy-Efficient Technologies<br>8 Bullish Technical Setups Flashing Strong Buy Signals Today<br>A New Era of Investing: Can These ETFs Outperform the Market?<br>Think It's Too Late to Buy This Leading Industrials Stock? Here's the Biggest Reason Why There's Still Time<br>Stock Market Today: Intel Pops Nearly 7% After SoftBank Buys $2 Billion Stake",
          "Sentiment Score: 9.0<br>News Count: 19<br>Headlines:<br>Billionaires Are Buying a Popular AI Index Fund That Could Turn $500 Per Month Into Over $500,000<br>Did Q2 Earnings Exceed Expectations or Get Derailed by Tariffs?<br>Palantir, AMD, Oracle And Nvidia Decline After-Hours: Here's What You Should Know<br>More Than 95% of Nvidia's $4.3 Billion Investment Portfolio Has Been Put to Work in These 2 Scorching-Hot Artificial Intelligence (AI) Stocks<br>2 Artificial Intelligence (AI) Growth Stocks Hovering Around 52-Week Lows Even as the Nasdaq Hits New Highs<br>The AI Boom Continues: 3 Top AI Stocks to Buy for the Rest of 2025<br>S&P 500: Is a Bear Market Even Possible?<br>Meet the Monster Stock That's Crushing Nvidia and Palantir on the Market<br>Bitget Debuts First-Ever RWA Index Perpetuals Featuring Major Real-World Assets<br>Is D-Wave Quantum a Buy?<br>Prediction: Nvidia Stock Will Jump Higher After Aug. 27<br>Nvidia Stock Stumble Shows Why Investors Must Widen Their AI Lens<br>Software Defined Vehicles Market Accelerates with 20.42% CAGR | Infotainment & Telematics Dominate, Security Systems Rising Fast<br>What's Going on With CoreWeave Stock?<br>Palantir Leads Tech Stock Slide: 52% Of Retail Investors Say No AI 'Bubble'<br>Jackson Hole and Other Macro Data on Tap: Key Takeaways for Investors<br>Nvidia's Silicon Silk Road: From China's Firewalls To Saudi Arabia's Data Palaces<br>Palantir Just Broke Below 50-Day Average—Is It Time To Buy The Dip?<br>Intel: Stock Rebound Reflects Political Tailwinds More Than Earnings Strength",
          "Sentiment Score: 4.0<br>News Count: 9<br>Headlines:<br>Does Billionaire David Tepper Know Something Wall Street Doesn't? He Sold 100% of Appaloosa's Broadcom Stock and Piled Into This High-Profile Artificial Intelligence (AI) Chipmaker Instead<br>Prediction: This Supercharged Artificial Intelligence (AI) Stock Will Be Worth More Than Apple and Microsoft Combined by 2030<br>1 Unstoppable Stock That Could Join Nvidia, Microsoft, and Apple in the $3 Trillion Club<br>CoreWeave vs. Nvidia: What's the Better Artificial Intelligence (AI) Stock to Buy?<br>Here's Why I'm Not Buying the Dip in Nvidia's Stock<br>Dow Jones Bulls Await Fed Catalyst to Push Past 45K Barrier<br>S&P 500: Is a Deeper Correction Ahead?<br>If You'd Invested $10,000 in Nvidia Stock 10 Years Ago, Here's How Much You'd Have Today<br>E-Mini S&P 500 Futures Signal Double Top as 360-Day Cycle Nears Crest",
          "Sentiment Score: 7.0<br>News Count: 13<br>Headlines:<br>Why Navitas Semiconductor Stock Was Sinking This Week<br>CEO Jensen Huang Just Delivered Incredible News for Nvidia Stock Investors<br>Billionaire Philippe Laffont Sold Coatue's Entire Stake in Super Micro Computer and Piled Into This Artificial Intelligence (AI) Goliath for the First Time in 9 Quarters<br>1 Glorious Growth Stock Down 75% to Buy Hand Over Fist, According to Wall Street<br>What Are 3 Great Tech Stocks to Buy Right Now?<br>Advanced Driver Assistance Systems Market worth 652.5 million units by 2032, Globally, at a CAGR Of 8.9%, Says MarketsandMarkets™<br>DataPelago Nucleus Outperforms cuDF, Nvidia’s Data Processing Library, Raising The Roofline of GPU-Accelerated Data Processing<br>The Smartest Growth Stock to Buy With $2,000 Right Now<br>Tactive Advisors Loads Up 169,461 iShares Bitcoin Trust ETF Shares<br>S&P 500 Faces Technical Inflection as Fed Speech Looms<br>Digital Avatar Market to Reach USD 652.29 Billion by 2032, Driven by AI, AR/VR, and Metaverse Adoption | Research by SNS Insider<br>ServiceNow Translates AI Hype Into Tangible Revenue and Durable Growth<br>Prediction: Jensen Huang Says Agentic AI Is a Multitrillion-Dollar Market. This Palantir Rival Could Be the Biggest Winner -- at Just One-Third the Price",
          "Sentiment Score: 9.0<br>News Count: 16<br>Headlines:<br>Stocks Week Ahead: Will the S&P 500 Rally Extend Into the New Week?<br>Micro-Cap and Emerging Market Stocks Light Up the Rotation Chart<br>Is This Artificial Intelligence (AI) Stock the Next Nvidia?<br>Should You Buy Broadcom Stock Before Sept. 4? The Answer Might Surprise You.<br>If You'd Invested $1,000 in SoFi Technologies (SOFI) Stock 3 Years Ago, Here's How Much You'd Have Today. (Spoiler: Wow.)<br>Xscape Photonics and Tower Semiconductor Unveil the Industry’s First Optically Pumped On-Chip Multi-Wavelength Laser Platform for AI Datacenter Fabrics<br>Meta Platforms: Why Zuckerberg’s META Sales Look More Bullish Than Bearish<br>Nvidia Takes the Spotlight as Tech Earnings Wave Builds<br>Crusoe Expands Iceland Data Center Capacity with atNorth, Secures $175M Credit Facility from Victory Park Capital<br>AI Voice Generator Market Surges to $20.4 billion by 2030 - Dominated by IBM (US), NVIDIA (US), OpenAI (US)<br>Exercising Fed Put Could Fuel Stock Market Melt-Up<br>Nvidia's Monster Rally Meets Its September Curse<br>The Market’s Built-In Safety Net Could Vanish If Passive Flows Reverse<br>Why Palantir Stock Continued to Plunge Today<br>E-Mini S&P 500 Rally Tests Gann and Fibonacci Resistance Into August Cycle Crest<br>Nvidia Stock Up 85% Since April — Will Earnings Justify Elevated Valuation?",
          "Sentiment Score: 7.0<br>News Count: 13<br>Headlines:<br>Warren Buffett's Secret Stock Revealed: Is Nucor a Stealth Artificial Intelligence (AI) Bet?<br>Prediction: This Unstoppable Stock Will Join Nvidia, Microsoft, and Apple in the $3 Trillion Club Before 2028<br>Billionaire Philippe Laffont Sold 53% of Coatue's AMD Stake in Favor of an ETF Whose Underlying Asset Has Gained Nearly 165,000,000% in 15 Years<br>1 No-Brainer AI Stock to Buy Right Now<br>Mohammed bin Salman-Backed Humain Begins Building 100MW AI Data Centers With Nvidia, AMD's Latest Chips<br>3 Reasons to Buy Super Micro Stock Before It's Too Late<br>Should You Buy Nvidia Stock Before Aug. 27?<br>What Intel and Nvidia Shareholders Should Know About Recent Updates<br>Think It's Too Late to Buy This Leading Artificial Intelligence (AI) Stock? Here's the Biggest Reason Why There's Still Time<br>Billionaire Stanley Druckenmiller Just Increased Duquesne's Stake in This Monster Artificial Intelligence (AI) Semiconductor Stock (Hint: It's Not Nvidia)<br>This ETF Could Be the Easiest Way to Own the Future of AI<br>Russell 2000 Hits 9-Month Highs, Bitcoin Drops Below $110,000: What's Moving Markets Tuesday?<br>Nasdaq 100 Rally Framed as Wave-C Advance Within Long-Term Structure",
          "Sentiment Score: 13.0<br>News Count: 22<br>Headlines:<br>Are Stocks Too Expensive Right Now? Famed Investor Howard Marks Says \"Yes,\" but Not for the Reasons You Might Think.<br>1 Underrated Fintech Stock That Investors Will Regret Not Buying in 2025<br>If You'd Invested $100 in Nvidia Stock 25 Years Ago, Here's How Much You'd Have Today<br>Steepening Yield Curve Signals Big Moves in Long-Term Treasuries<br>Every Major Index Signals Strength, Making Bearish Plays a Battle Against the Tide<br>This AI Stock Is a No-Brainer for Investors Focused on Real Profits<br>Warren Buffett’s Wisdom Could Spell Trouble for Palantir Shorts<br>Should You Buy Nvidia After Aug. 27?<br>MongoDB: Why Are Shares Jumping in Premarket Trading?<br>The Smartest Growth ETF to Buy With $100 Right Now<br>Top 10 Growth Stocks for the Rest of 2025<br>S&P 500 Tests Resistance as Investor Sentiment Splits Ahead of Nvidia Earnings<br>Nvidia Earnings Preview: Will the AI Giant Keep Soaring to a $5T Market Cap?<br>AVCC and MLCommons Release New MLPerf Automotive v0.5 Benchmark Results<br>Nvidia, PCE Inflation, and Auto Sales May Shape the September Backdrop<br>Nvidia Just Changed the Artificial Intelligence (AI) Market With This New Product<br>Apple Stock To Get Boost From 'Awe Dropping' iPhone 17 Event? Not So Fast Says Past History<br>Nvidia Earnings: The Test of the AI Bull Market<br>HAP Trading Loads Up 108K COIN Shares in Q2 Buy<br>Stock Market Today: S&P 500 Sets Record High Ahead of Nvidia Earnings<br>Buffett Indicator at 213% Suggests US Stocks Are Deep Into Overvalued Territory<br>Why Serve Robotics Stock Skyrocketed Today",
          "Sentiment Score: 11.0<br>News Count: 26<br>Headlines:<br>Nvidia Stock Declines on China Market Uncertainty -- But Q2 Earnings Report and Q3 Guidance Were Fantastic<br>Nvidia CEO Jensen Huang Just Delivered Spectacular News for Palantir Stock Investors<br>Trump's First-Term Ban On EUV Tools Stalled Huawei, SMIC, Cambricon — Now China's Chip Factories Are Roaring Back, Warns David Sacks<br>Billionaire Money Managers Are Once Again Piling Into Nvidia Stock, With 2 Notable Exceptions<br>Nvidia Earnings Show Shift From Hyper to High Growth<br>2 AI Semiconductor Stocks to Sell Before They Fall 42% and 45%, According to Wall Street Analysts<br>Prediction: This AI Company Will Redefine Cloud Infrastructure by 2030<br>Warren Buffett Says Buy This Index Fund, and Here's How It Could Turn $500 Per Month Into $1 Million<br>1 Magnificent Artificial Intelligence (AI) Growth Stock to Buy Before It Jumps 35%, According to Wall Street<br>Want AI Exposure Without the Volatility? This ETF Might Be the Smartest Play<br>Nvidia Stock Faces Reality Check as Growth Slows but Margins Stay Strong<br>This Small Artificial Intelligence (AI) Company Just Doubled Its Nvidia GPUs With 1 Massive Order<br>Nvidia Stock Slips After Earnings. 2 Crucial Things Investors May Be Ignoring.<br>If You'd Invested $1,000 in Apple Stock 5 Years Ago, Here's How Much You'd Have Today<br>Think Nvidia Stock Is Expensive? This Chart Might Change Your Mind.<br>Nvidia Just Announced a Record $60 Billion Buyback -- Here's What It Means for Investors<br>Should Investors Buy Nvidia's 3% Post-Earnings Pullback?<br>China Just Found Its Nvidia Replacement—And This Stock Has Exploded 125%<br>CoreWeave Stock Surges As Nvidia's AI Revenue Fires Up<br>Nvidia Q2 Earnings Review: Growth Slows After 2 Years of AI Boom<br>Elon Musk’s Role in America’s Push Toward AI 2.0?<br>No Rally for Nvidia After Blowout Earnings, but More AI Stocks Still Shine<br>Stock Market Today: Nvidia Slips Despite Strong Earnings and Guidance<br>Nvidia Stock Could Pull Back in September, but Don’t Bet on It<br>Stock Market Today: Markets Extend Rally as Economic Momentum Spurs Broad-Based Gains<br>Why Broadcom Stock Beat the Market Today",
          "Sentiment Score: 0.0<br>News Count: 12<br>Headlines:<br>Is the Stock Market in Trouble? President Trump Just Gave Investors Yet Another Reason to Worry.<br>Is Palantir Stock Still a Smart Buy in This Market?<br>Should Invesco QQQ Trust Be on Your Investing Radar Right Now?<br>The Definitive Guide to Finding the Next 10-Bagger Stock<br>Snowflake: Snowballing Business Alongside Robust Stock Price Outlook<br>Should You Buy the Low-Cost ETF With 62% Invested in \"Ten Titans\" Growth Stocks?<br>Did Nvidia Meet Investors’ Expectations in Q2?<br>Is Nvidia Stock a Buy?<br>China Doesn't Need Nvidia Anymore: Alibaba's New Chip Is A Challenge To Washington<br>E-Mini S&P 500 Map Suggests Neutral-to-Bearish Outlook Ahead of Cycle Low<br>Could China's AI Supply Chain Expansion Spell Trouble for Nvidia?<br>Microsoft Valuation at 36x Earnings Highlights Premium for Quality and Scale",
          "Sentiment Score: 3.0<br>News Count: 9<br>Headlines:<br>Are AI Stocks in a Bubble and Should Investors be Concerned?<br>Meet Quantum Computing's Potential Monster Stocks of the Next Decade<br>If You Invested $10,000 Into Nvidia Stock 10 Years Ago, This Is How Much You'd Have Today. (Hint: You'd Be a Multimillionaire)<br>Prediction: This Chipmaker Will Power AI in Every Electric Vehicle by 2030<br>Interview Assesses How Trump Plans to Restore America’s “Birthright”<br>Big Tech's $4 Trillion Artificial Intelligence (AI) Spending Spree Could Make These 3 Chip Stocks Huge Winners<br>Nvidia, Palantir, Tesla Tumble In Pre-Market Trading As Rising Yields Crush High P/E Tech — Gary Black Sees Fed Cut Bets Colliding With Inflation<br>Prediction: These 3 Emerging American Technologies Will Revolutionize Their Industries<br>S&P 500 Rally: Can Earnings Strength Offset September’s Historical Weak Spot?",
          "Sentiment Score: 8.0<br>News Count: 10<br>Headlines:<br>The Best Trillion-Dollar Stock to Buy Now, According to Wall Street (Hint: Not Nvidia)<br>Jensen Huang Just Delivered Incredible News for Nvidia Stock Investors<br>Playing the Lottery Likely Won't Make You Rich -- But Amazon Just Might<br>2 Artificial Intelligence (AI) Stocks That Could Soar in the Second Half of 2025<br>Nvidia Just Posted 56% Sales Growth, but the Market Shrugged. Should You?<br>2 Top Artificial Intelligence (AI) Stocks to Buy With $1,000 Right Now<br>If You'd Invested $1,000 in the Vanguard Growth ETF (VUG) 10 Years Ago, Here's How Much You'd Have Today<br>What's Going on With Nvidia Stock?<br>Conference Season: Key Insights on Consumer Strength, Tariffs, and AI Revolution<br>Should Stock Market Investors Buy Marvell Stock on the Dip?<br>Taiwan Semiconductor Falls on China News—Buy The Dip?",
          "Sentiment Score: 10.0<br>News Count: 17<br>Headlines:<br>Bitget and Bitget Wallet Support Trading of Over 100 Tokenized Assets via Ondo Finance<br>When Warren Buffett Says to Buy an S&P 500 Index Fund, Is He Advocating Putting 20% of Your Investment Portfolio in Nvidia, Microsoft, and Apple?<br>S&P 500: Yesterday’s Late-Day Rally Faces Test in Today’s Session<br>Big Tech's AI Buildout Could Be Worth $4 Trillion, and These 2 Semiconductor Stocks Stand to Gain Most<br>WeRide Launches 24/7 Fully Driverless Robotaxi Service in Guangzhou's Huangpu District<br>Down 50%, Is CoreWeave a Buy on the Dip?<br>This AI Chip Stock Looks Like a No-Brainer Buy Right Now<br>Why Nvidia Bears Are Wrong About Its Future<br>Why Nvidia Stock Dropped After Strong Earnings<br>This Nvidia Partner Is One of My Favorite AI Stocks Right Now<br>Qualcomm: Why Is the Stock Outperforming Nvidia After Months of Lagging?<br>Think Nvidia Stock Is Expensive? These 2 Charts Might Change Your Mind.<br>If You'd Invested $1,000 in the Invesco QQQ Trust 10 Years Ago, Here's How Much You'd Have Today<br>If You'd Invested $1,000 in the Vanguard Total Stock Market ETF (VTI) 10 Years Ago, Here's How Much You'd Have Today<br>Should You Avoid Nvidia Stock?<br>S&P 500: Short-Term Trend Hangs in Balance as Bulls Fight to Reclaim Momentum<br>Canadian General Investments: Investment Update - Unaudited<br>MuleRun Launches Financial Agent Suite, Delivering Institutional-Grade Intelligence in 10 Seconds",
          "Sentiment Score: 14.0<br>News Count: 19<br>Headlines:<br>Prediction: This Supercharged Growth Stock Will Soar 169% by 2028<br>Better Artificial Intelligence Stock: Quantum Computing Inc. vs. IonQ<br>Should Savvy Investors Be Watching the Dan Ives ETF in 2025?<br>AMD, Nvidia, and Broadcom Could Help This Unstoppable ETF Turn $250,000 Into $1 Million<br>5 Best Quantum Computing Stocks to Buy in September<br>Is Advanced Micro Devices Stock a Deal Compared to Nvidia?<br>2 Vanguard ETFs to Buy With $100 and Hold Forever<br>If You'd Invested $1,000 in the Invesco QQQ Trust 10 Years Ago, Here's How Much You'd Have Today<br>The Best Growth ETF to Invest $1,000 in Right Now<br>Why did Broadcom Shares Surge in Premarket Trading Today?<br>Should Nvidia Stock Investors Be Worried About Recent Amazon and Google News?<br>Ross Gerber Slams Warren Buffett's Apple Exit, Rejects AI Bubble Comparisons As 'Dumb' Doubts Over Tech Growth Swirl<br>Better Artificial Intelligence Stock: Nvidia vs. Intel<br>Think Nvidia Stock Is Too Expensive? Here Are 60 Billion Reasons to Consider Changing Your Mind<br>AMD Is Sinking Today -- Is the Stock a Buy Right Now?<br>Can Nvidia's Results Continue to Bolster the Market?<br>91% of Jensen Huang's $4.3 Billion Stock Portfolio at Nvidia Is Invested in Just 1 Artificial Intelligence (AI) Infrastructure Stock<br>AMD Pullback Viewed as Consolidation Ahead of Q3 Catalyst<br>The Best and Worst Part of Nvidia's Recent Earnings Report",
          "Sentiment Score: 1.0<br>News Count: 10<br>Headlines:<br>Investor Overallocation in Crypto and Tech Indicates Potential Pullback<br>Billionaire Dan Loeb of Third Point Ditched High-Yield AT&T for Wall Street's Most-Prized Artificial Intelligence (AI) Growth Stock<br>Prediction: This Unstoppable Stock Could Be the Next $3 Trillion Titan (Hint: It's Not Tesla)<br>Stocks Week Ahead: PPI, CPI Take Center Stage as Credit and Liquidity Risks Rise<br>1 Growth Stock Down 24% to Buy Right Now<br>Downside Looks Inevitable Considering Current Market Valuations<br>3 Reasons Why This \"Ten Titans\" Growth Stock Has a Lot to Prove on Sept. 9<br>Tech Insider Reveals Why Trump and Musk Are Back…<br>AI Market Entering Phase 3: Why Stock Picking Will Matter More<br>James Altucher Speaks on What He Believes to Be Trump and Musk’s “AI Mothership” Plan",
          "Sentiment Score: 8.0<br>News Count: 15<br>Headlines:<br>This Artificial Intelligence (AI) Stock Has Quietly Outperformed Nvidia All Year<br>Why I'm Cautiously Optimistic About Alibaba Stock<br>S&P 500 Earnings Defying Economic Trends With Upward Estimate Revisions<br>Prediction: This Unstoppable Stock Will Join Nvidia, Microsoft, Apple, Alphabet, and Amazon in the $2 Trillion Club Before 2027<br>Semiconductor Momentum Could Stall as Broadcom Flashes Reversal Signs<br>This Large-Cap Growth Fund Takes You Beyond the Mag 7<br>IBM: Momentum Builds Post-200-Day Average Break as Tokenization Prospects Soar<br>2 Artificial Intelligence (AI) ETFs to Confidently Buy Heading Into 2026<br>Scintil Photonics Raises $58M to Scale Integrated Photonics for AI Factories<br>Could Alphabet Stock Help You Become a Millionaire?<br>4 Artificial Intelligence Stocks You Can Buy and Hold for the Next Decade<br>Automation and AI Unlock New Value Across Global Service Industries<br>This Artificial Intelligence (AI) Stock Could Be the Nvidia of Quantum Computing<br>MLCommons Releases New MLPerf Inference v5.1 Benchmark Results<br>D-Wave Faces Rising Competition as Nvidia-Backed Quantinuum Enters the Race",
          "Sentiment Score: 10.0<br>News Count: 14<br>Headlines:<br>Here's What Broadcom Hitting an All-Time High Means for the \"Magnificent Seven\" and the \"Ten Titans\" Growth Stocks<br>Edge Computing Market Size to Reach USD 245.30 Billion by 2032, Owing to Rapid Deployment of 5G Networks Enabling Low-Latency and High-Bandwidth Performance | Research by SNS Insider<br>AI Data Centers Market Size Expected to Reach USD 165.73 Billion by 2034 Driven by Rising Computational Power Demand and Generative AI Expansion<br>Meet the Artificial Intelligence (AI) Stock That Is Crushing Nvidia and Palantir on the Market<br>Is Netflix Stock an Nvidia-Level Winner?<br>10 Top AI Stocks to Buy Now<br>AI Data Center Spending By Nvidia, Microsoft And Other 'Mag 7' Titans Is Squeezing S&P 500 Share Buybacks, Goldman Sachs Warns<br>Resumption of Fed Easing Cycle Could Help Unlock Capital<br>Why Nvidia Stock Jumped Today<br>Action Plan for Prudent Investors After Eye Popping Oracle AI Numbers and PPI Shocker<br>Alphabet: Stock Underperformance Was Opportunity for Wall Street Heavyweights<br>Why AMD Stock Is Surging Today<br>Why Nvidia's Growth Might Ramp Up Next Year<br>Altimetry’s Breakout 2025 Event Introduces New Stock Analysis Tool (by TradeInvestNow.com)",
          "Sentiment Score: 10.0<br>News Count: 14<br>Headlines:<br>Forget Nvidia: Oracle Is a Better AI Stock to Buy Right Now.<br>Nvidia's Jensen Huang Just Announced Incredible News for Shareholders<br>Prediction: This Could Be Nvidia's Greatest Long-Term Risk, and It Isn't AMD or Broadcom<br>AI-Driven Market Optimism Meets Rate-Cut Expectations: Can the Rally Last?<br>Should You Forget Palantir and Buy These 2 Artificial Intelligence (AI) Stocks Instead?<br>Billionaire David Tepper Just Loaded Up on Nvidia Stock. Here's Why That's a Genius Move.<br>Apple vs. Microsoft: Which AI Stock Is the Better Buy Right Now?<br>Why Oracle Is a No-Brainer Growth Play Now<br>Better Artificial Intelligence Stock: Nebius vs. Nvidia<br>This Underrated Artificial Intelligence (AI) Stock Just Posted Triple-Digit AI Growth for an 8th Straight Quarter<br>Prediction: This AI Stock Will Be the Next to Join the Trillion-Dollar Club. And It Could Happen in the Coming Days.<br>Prediction: Nvidia Will Soar Over the Next 3 Years. Here's 1 Reason Why.<br>Oracle Puts the AI Infrastructure Trade Back in Action<br>Why Iren Limited Stock Surged Over 25% This Week<br>Super Micro Computer Ships NVIDIA Blackwell Ultra Solutions—Stock Climbs",
          "Sentiment Score: 7.0<br>News Count: 19<br>Headlines:<br>Cloudera Recognized as a Leader in the IDC APAC MarketScape for Unified AI Platforms 2025 Vendor Assessment<br>1 Supercharged Growth Stock to Buy Before It Soars More Than 375%, According to 1 Wall Street Analyst<br>Seagate Technology Leads S&P 500: What’s Behind Its 120% Gain?<br>These Were the Market's 3 Giants in 1995 -- Here's Who Holds the Crown Now<br>AMD: Stock Dips, but Could It Signal a Breakout in Disguise?<br>Better Artificial Intelligence (AI) Stock: Nvidia vs. Broadcom<br>One of Nvidia's Biggest Customers Just Struck a Massive Deal With Its Fiercest Rival<br>Is Palantir Stock in a Bubble? History Tells Us a Clear Answer.<br>Could Oracle Be the Next Nvidia?<br>Here's the Smartest Way to Invest in the S&P 500 in September<br>Credo Technology Stock Keeps Beating the Stock Market. Time to Buy?<br>This AI Stock Just Hit a New High, and It's Still a Buy<br>With A Fed Rate Cut On The Horizon, Experts Say These 3 Asset Classes Could Be Game-Changers For Your Portfolio<br>Why Shares in This AI/Data Center Stock Surged This Week<br>Texas Instruments Highlights Why Not All Chipmakers Ride the Same AI Wave<br>Up Over 1,200% in the Past Year, Is Oklo Stock the Next Nvidia?<br>Cloudera 在 2025 年度《IDC MarketScape 亚太区统一 AI 平台供应商评估》报告中被评为领导者<br>Cloudera 獲 IDC 認可為 2025 年亞太區統一 AI 平台供應商評估的領導先鋒<br>Should You Forget Nvidia and Buy These 2 Artificial Intelligence (AI) Stocks Instead?",
          "Sentiment Score: 4.0<br>News Count: 11<br>Headlines:<br>History Says September is the Worst Month for Stocks. Should You Really Invest Now?<br>Prediction: This \"Ten Titans\" Growth Stock Will Join Nvidia, Microsoft, Apple, Alphabet, Amazon, Broadcom, and Meta Platforms in the $2 Trillion Club by 2030<br>Nvidia Stock Falls Nearly 3% In Monday Pre-Market: What's Going On?<br>These 8%+ Dividends Are Crushing the S&P 500 and They’re Just Getting Started<br>Stocks Week Ahead: Overbought Equities Face Warning Signs Ahead of Fed, BoJ Meets<br>The Best AI ETF to Invest $500 in Right Now<br>Tesla Insider Buying: What Musk’s $1 Billion Bet Signals About Valuation<br>Nvidia Deal Sends CoreWeave Stock Higher—Skeptics See 90% Downside<br>The Cheapest AI Stock You’ve Probably Never Heard of — Should You Buy?<br>Quantum Stock Tracker: IonQ's Higher Price Targets, Rigetti Climbs 30%, Nvidia's New Quantum Investments<br>Meta Platforms: $600B Investment Is More Marketing Than Material Value for Investo",
          "Sentiment Score: 9.0<br>News Count: 13<br>Headlines:<br>AAII Survey Echoes 2022 Bearish Setup but Stock Market Momentum Stays Strong<br>Prediction: This Unstoppable Stock Will Join Nvidia, Microsoft, Apple, and Alphabet in the $3 Trillion Club Before 2029<br>2 AI Stocks With Sky-High Potential to Hold for Decades<br>Stock-Split Watch: Is Palantir Technologies (PLTR) Next?<br>Move Over, Oracle! This Industry Leader Is Ideally Positioned to Become Wall Street's Next Trillion-Dollar Stock.<br>Should You Buy Micron Technology Stock Before Sept. 23?<br>Stock Market Today: Nasdaq, S&P 500 Futures Gain As FOMC Begins Its 2-Day Meet — Tesla, Adtran, Ferguson In Focus<br>Nvidia's Market Capitalization Surpasses Canada's GDP, As McKinsey Projects $1.7 Trillion AI Data Center Spend By 2030<br>Is ASML a Buy?<br>Nebius Raises Debt to Expand Its AI Infrastructure Business<br>Nvidia: Fundamentals and Growth Momentum Outweigh Geopolitical Risks<br>Alphabet Hits $3 Trillion: Take Profits or Stay Invested for the Long Game?<br>S&P 500 Rally Nears 6,690 Target as Elliott Wave Structure Matures",
          "Sentiment Score: 15.0<br>News Count: 31<br>Headlines:<br>This Billionare Has Bought $442 Million Worth of Nvidia Stock This Year. Does He Know Something We Don't?<br>The Smartest Artificial Intelligence (AI) Stocks to Buy With $1,000<br>Bitget Turns 7, Coining the ‘Universal Exchange’ as the Next Generation of Exchanges<br>Billionaire David Tepper of Appaloosa Is Buying 3 Trillion-Dollar Artificial Intelligence (AI) Stocks and Selling 3 Others<br>S&P 500: Options Expiration Fuels Volatility Spike as Fed Looms<br>Prediction: This Key Development Will Fast-Track Nvidia Becoming the World's First $10 Trillion Company<br>1 Vanguard Index Fund to Buy That Could Turn $500 per Month Into $474,400 With Help From Popular AI Stocks<br>Fed Meeting Sets Stage for 'Sell-the-News' Market Setup<br>1 Unstoppable Stock That Could Join Nvidia Microsoft and Apple in the $2 Trillion Club by 2028<br>Prediction: The S&P 500 Won't Return Anything Close to 10% in 2026<br>Why This Biotech Company Could Be a Growth Stock Powerhouse<br>Best Artificial Intelligence (AI) Stock to Buy Now: Nvidia or Palantir?<br>China Bans Nvidia Chip Purchases For Major Tech Firms: NVDA Stock Falls In Wednesday Pre-Market<br>1 Reason Wall Street Is Obsessed With Nvidia's Stock<br>Prediction: This AI Cloud Infrastructure Stock Can Be the Next Nvidia in the 2030s<br>Quantum Computing Is the Missing Piece for AI, and These Stocks Could Benefit Most<br>What TSMC, Synopsys, and Nvidia Stock Investors Should Know About Recent Semiconductor Updates<br>The SPDR Dow Jones Industrial Average ETF Trust Is 1 of the Leading Blue Chip ETFs in 2025. Here's Why.<br>Gesture-Control Wearables Redefine Human-Technology Interaction<br>Where Will Broadcom Stock Be in 5 Years?<br>Rate Cuts Are Coming: These Are the 4 Stocks I'm Buying<br>Fed Rate Cutting Cycles Show Strong Second-Year Returns — Unless Recession Strikes<br>Nvidia, Microsoft Sit Atop A $23.9 Trillion Empire—More Than China And Germany Combined<br>Nvidia Faces Structural Threat as China Halts AI Chip Purchases<br>Meet Quantum Computing's Potential Monster Stocks of the Next Decade (Hint: Not IonQ)<br>S&P 500: Will Stocks Extend Their Rally After the Fed Rate Decision?<br>This Stock Quietly Benefits From Oracle and Nvidia’s AI Surge<br>CrowdStrike Stock Set for Breakout as Agentic AI Demand Surges<br>CoreWeave: Nvidia Partnership Illustrates Why AI Picks-and-Shovels Matter Most<br>Tech Stocks Surge As Fed Cuts Rates, Powell Signals More Easing Ahead<br>Trump Makes Chinese Stocks Great Again — Until Someone Mentions Tariffs",
          "Sentiment Score: 14.0<br>News Count: 21<br>Headlines:<br>Purpose Investments Inc. annonce les distributions de septembre 2025<br>Bitget completa 7 anos, cunhando a \"Corretora Universal\" como a nova geração de corretoras<br>Bitget cumple 7 años, y acuña la expresión \"Bolsa Universal\" como la próxima generación de intercambios<br>Pour son septième anniversaire Bitget introduit le concept de « bourse universelle » et fait entrer les plateformes d’échange dans un nouvel âge<br>Bitget 成立七周年：首创“通用交易所”，为新一代交易所开辟天地<br>Bitget חוגגת 7 שנים, ומטביעה את המונח 'בורסה אוניברסלית' עבור הדור הבא של הבורסות<br>Bitget, 창립 7주년 맞아 ‘유니버설 거래소(UEX)’ 선언… 차세대 거래소 모델 제시<br>Bitget Meraikan Ulang Tahun ke-7, Memperkenalkan ‘Universal Exchange’ sebagai Generasi Seterusnya Bursa Kripto<br>Bitget 成立 7 週年，提出「全景交易所」作為新一代交易所概念<br>ビットゲット (Bitget) が7周年を迎え、次世代取引所として「ユニバーサル取引所」を提唱<br>S&P 500: Valuation Concerns Take a Back Seat as Bulls Eye Fresh Highs<br>Intel: Why the Stock Is Surging Today<br>The Most Upgraded Stocks in Q3: Good News for the S&P 500<br>Small Caps Rally, Intel Rockets On Best Day Ever: What's Moving Markets Thursday?<br>AMD Shares Drop After $5B Intel–Nvidia Alliance Targets AI and PC Markets<br>NVIDIA Announces £2 Billion Investment in the United Kingdom AI Startup Ecosystem<br>Billionaire David Tepper Won't 'Fight The Fed'—But He Hates This Market<br>Nasdaq 100 Extends Rally, Elliott Wave Count Validates Bullish Path<br>Former CIA Officer Lifts the Curtain on Upcoming Artificial Superintelligence Drive<br>Intel Stock Has Best Day Ever: Jensen Huang Says Nvidia Will Be A 'Very Large Customer'<br>D-Wave Quantum Valuation Tests Investor Patience After Early Hype",
          "Sentiment Score: 4.0<br>News Count: 8<br>Headlines:<br>Market Volatility Suppressed Ahead of OPEX as Liquidity Drain Continues<br>White House AI Czar David Sacks Warns Washington Must Let US Chipmakers Like Nvidia Sell Abroad Or Risk Forfeiting AI Race To Huawei And China<br>The Fed Cut Rates: What Now for the S&P 500 and Equity Markets?<br>Stock Market Today: Dow, S&P 500 Futures Rise Ahead Of Trump-Xi Call— FedEx, MoneyHero, Lennar In Focus (UPDATED)<br>SoundHound AI: Factors to Look at Before Investing in This Hyper-Growth AI Stock<br>Cloudastructure Launches MotionGi to Redefine Video Processing Efficiency<br>Nvidia And Intel Just Changed The AI Game—And The Pressure on AMD And ARM Is Rising<br>Wall Street Tops Record Highs As Fed Cuts Rates, Signals More Ahead: This Week In Markets",
          "Sentiment Score: 3.0<br>News Count: 8<br>Headlines:<br>The Investors' Paradox of Uncertainty and Time: Is This Holding Back Your Returns?<br>Nvidia Greenlights Samsung's AI Chip Technology, Sets Stage For HBM4 Battle: Report<br>Will Elon Musk Join Trump Administration This Year? Here's What Betting Markets Are Predicting<br>Fed’s ‘Risk Management Cut’ Sparks Confusion Amid Mixed Signals<br>S&P 500: Key Weekly Levels and Price Targets<br>S&P 500: Could Forward Earnings and Fed Cuts Spark a 1999-Style Rally?<br>Governments Pour Billions Into Chips and AI Infrastructure to Fuel Arms Race<br>Nvidia Pledges $100 Billion To Supercharge OpenAI: 'This Is A Giant Project,' Huang Says",
          "Sentiment Score: 5.0<br>News Count: 7<br>Headlines:<br>Stock Market Today: Dow Futures Rise, Nasdaq, S&P 500 Slip Amid Mixed Trade—Kenvue, Micron Tech, Nvidia In Focus (UPDATED)<br>Nvidia High-Fives Palantir, Rocket Lab — On This List Of '10-Bagger' Legends<br>ELD Asset Management: Oracle’s AI Surge Boosts Stock<br>Nvidia: $100B OpenAI Deal Reinforces Its Role as the Core AI Infrastructure Provid<br>Fed Chair's \"No Risk-Free Path\" Warning Sparks Unusual Outcome, As Gold And Stocks Hit Records Simultaneously<br>SMCI Valuation Leaves Room for Strategic Investment Plays<br>DATE to spotlight Saudi Arabia’s Vision 2030 digital transformation at Riyadh’s global tech summit"
         ],
         "marker": {
          "color": [
           "green",
           "green",
           "green",
           "green",
           "green",
           "green",
           "green",
           "green",
           "green",
           "green",
           "green",
           "green",
           "green",
           "green",
           "green",
           "green",
           "green",
           "green",
           "green",
           "green",
           "green",
           "green",
           "green",
           "green",
           "gray",
           "green",
           "green",
           "green",
           "green",
           "green",
           "green",
           "green",
           "green",
           "green",
           "green",
           "green",
           "green",
           "green",
           "green",
           "green",
           "green"
          ],
          "size": 10,
          "symbol": "diamond"
         },
         "mode": "markers",
         "name": "News Sentiment",
         "type": "scatter",
         "x": [
          "2025-07-28T04:00:00",
          "2025-07-29T04:00:00",
          "2025-07-30T04:00:00",
          "2025-07-31T04:00:00",
          "2025-08-01T04:00:00",
          "2025-08-04T04:00:00",
          "2025-08-05T04:00:00",
          "2025-08-06T04:00:00",
          "2025-08-07T04:00:00",
          "2025-08-08T04:00:00",
          "2025-08-11T04:00:00",
          "2025-08-12T04:00:00",
          "2025-08-13T04:00:00",
          "2025-08-14T04:00:00",
          "2025-08-15T04:00:00",
          "2025-08-18T04:00:00",
          "2025-08-19T04:00:00",
          "2025-08-20T04:00:00",
          "2025-08-21T04:00:00",
          "2025-08-22T04:00:00",
          "2025-08-25T04:00:00",
          "2025-08-26T04:00:00",
          "2025-08-27T04:00:00",
          "2025-08-28T04:00:00",
          "2025-08-29T04:00:00",
          "2025-09-02T04:00:00",
          "2025-09-03T04:00:00",
          "2025-09-04T04:00:00",
          "2025-09-05T04:00:00",
          "2025-09-08T04:00:00",
          "2025-09-09T04:00:00",
          "2025-09-10T04:00:00",
          "2025-09-11T04:00:00",
          "2025-09-12T04:00:00",
          "2025-09-15T04:00:00",
          "2025-09-16T04:00:00",
          "2025-09-17T04:00:00",
          "2025-09-18T04:00:00",
          "2025-09-19T04:00:00",
          "2025-09-22T04:00:00",
          "2025-09-23T04:00:00"
         ],
         "y": {
          "bdata": "AAAAAABYZkC4HoXrUTBmQHE9CtejqGZApHA9Ctd7ZkDXo3A9CvdlQAAAAAAAwGZAuB6F61GIZkA9CtejcK1mQHE9Ctej2GZAZmZmZmYWZ0BSuB6F6wFnQIXrUbgeJWdAexSuR+HyZkBxPQrXowBnQGZmZmZmzmZAuB6F61EAZ0AUrkfhejRmQM3MzMzMLGZAj8L1KFwfZkBI4XoUrn9mQFK4HoXruWZAcT0K16P4ZkAzMzMzM/NmQD0K16NwxWZA9ihcj8IFZkApXI/C9ZhlQKRwPQrXk2VAhetRuB61ZUBxPQrXoyBlQFK4HoXrSWVAuB6F61GYZUDD9Shcj2pmQD0K16NwZWZACtejcD16ZkAAAAAAAHhmQFyPwvUoHGZA4XoUrkeJZUBI4XoUrkdmQD0K16NwVWZA7FG4HoUzZ0D2KFyPwo1mQA==",
          "dtype": "f8"
         }
        }
       ],
       "layout": {
        "hovermode": "x unified",
        "template": {
         "data": {
          "bar": [
           {
            "error_x": {
             "color": "#2a3f5f"
            },
            "error_y": {
             "color": "#2a3f5f"
            },
            "marker": {
             "line": {
              "color": "#E5ECF6",
              "width": 0.5
             },
             "pattern": {
              "fillmode": "overlay",
              "size": 10,
              "solidity": 0.2
             }
            },
            "type": "bar"
           }
          ],
          "barpolar": [
           {
            "marker": {
             "line": {
              "color": "#E5ECF6",
              "width": 0.5
             },
             "pattern": {
              "fillmode": "overlay",
              "size": 10,
              "solidity": 0.2
             }
            },
            "type": "barpolar"
           }
          ],
          "carpet": [
           {
            "aaxis": {
             "endlinecolor": "#2a3f5f",
             "gridcolor": "white",
             "linecolor": "white",
             "minorgridcolor": "white",
             "startlinecolor": "#2a3f5f"
            },
            "baxis": {
             "endlinecolor": "#2a3f5f",
             "gridcolor": "white",
             "linecolor": "white",
             "minorgridcolor": "white",
             "startlinecolor": "#2a3f5f"
            },
            "type": "carpet"
           }
          ],
          "choropleth": [
           {
            "colorbar": {
             "outlinewidth": 0,
             "ticks": ""
            },
            "type": "choropleth"
           }
          ],
          "contour": [
           {
            "colorbar": {
             "outlinewidth": 0,
             "ticks": ""
            },
            "colorscale": [
             [
              0,
              "#0d0887"
             ],
             [
              0.1111111111111111,
              "#46039f"
             ],
             [
              0.2222222222222222,
              "#7201a8"
             ],
             [
              0.3333333333333333,
              "#9c179e"
             ],
             [
              0.4444444444444444,
              "#bd3786"
             ],
             [
              0.5555555555555556,
              "#d8576b"
             ],
             [
              0.6666666666666666,
              "#ed7953"
             ],
             [
              0.7777777777777778,
              "#fb9f3a"
             ],
             [
              0.8888888888888888,
              "#fdca26"
             ],
             [
              1,
              "#f0f921"
             ]
            ],
            "type": "contour"
           }
          ],
          "contourcarpet": [
           {
            "colorbar": {
             "outlinewidth": 0,
             "ticks": ""
            },
            "type": "contourcarpet"
           }
          ],
          "heatmap": [
           {
            "colorbar": {
             "outlinewidth": 0,
             "ticks": ""
            },
            "colorscale": [
             [
              0,
              "#0d0887"
             ],
             [
              0.1111111111111111,
              "#46039f"
             ],
             [
              0.2222222222222222,
              "#7201a8"
             ],
             [
              0.3333333333333333,
              "#9c179e"
             ],
             [
              0.4444444444444444,
              "#bd3786"
             ],
             [
              0.5555555555555556,
              "#d8576b"
             ],
             [
              0.6666666666666666,
              "#ed7953"
             ],
             [
              0.7777777777777778,
              "#fb9f3a"
             ],
             [
              0.8888888888888888,
              "#fdca26"
             ],
             [
              1,
              "#f0f921"
             ]
            ],
            "type": "heatmap"
           }
          ],
          "histogram": [
           {
            "marker": {
             "pattern": {
              "fillmode": "overlay",
              "size": 10,
              "solidity": 0.2
             }
            },
            "type": "histogram"
           }
          ],
          "histogram2d": [
           {
            "colorbar": {
             "outlinewidth": 0,
             "ticks": ""
            },
            "colorscale": [
             [
              0,
              "#0d0887"
             ],
             [
              0.1111111111111111,
              "#46039f"
             ],
             [
              0.2222222222222222,
              "#7201a8"
             ],
             [
              0.3333333333333333,
              "#9c179e"
             ],
             [
              0.4444444444444444,
              "#bd3786"
             ],
             [
              0.5555555555555556,
              "#d8576b"
             ],
             [
              0.6666666666666666,
              "#ed7953"
             ],
             [
              0.7777777777777778,
              "#fb9f3a"
             ],
             [
              0.8888888888888888,
              "#fdca26"
             ],
             [
              1,
              "#f0f921"
             ]
            ],
            "type": "histogram2d"
           }
          ],
          "histogram2dcontour": [
           {
            "colorbar": {
             "outlinewidth": 0,
             "ticks": ""
            },
            "colorscale": [
             [
              0,
              "#0d0887"
             ],
             [
              0.1111111111111111,
              "#46039f"
             ],
             [
              0.2222222222222222,
              "#7201a8"
             ],
             [
              0.3333333333333333,
              "#9c179e"
             ],
             [
              0.4444444444444444,
              "#bd3786"
             ],
             [
              0.5555555555555556,
              "#d8576b"
             ],
             [
              0.6666666666666666,
              "#ed7953"
             ],
             [
              0.7777777777777778,
              "#fb9f3a"
             ],
             [
              0.8888888888888888,
              "#fdca26"
             ],
             [
              1,
              "#f0f921"
             ]
            ],
            "type": "histogram2dcontour"
           }
          ],
          "mesh3d": [
           {
            "colorbar": {
             "outlinewidth": 0,
             "ticks": ""
            },
            "type": "mesh3d"
           }
          ],
          "parcoords": [
           {
            "line": {
             "colorbar": {
              "outlinewidth": 0,
              "ticks": ""
             }
            },
            "type": "parcoords"
           }
          ],
          "pie": [
           {
            "automargin": true,
            "type": "pie"
           }
          ],
          "scatter": [
           {
            "fillpattern": {
             "fillmode": "overlay",
             "size": 10,
             "solidity": 0.2
            },
            "type": "scatter"
           }
          ],
          "scatter3d": [
           {
            "line": {
             "colorbar": {
              "outlinewidth": 0,
              "ticks": ""
             }
            },
            "marker": {
             "colorbar": {
              "outlinewidth": 0,
              "ticks": ""
             }
            },
            "type": "scatter3d"
           }
          ],
          "scattercarpet": [
           {
            "marker": {
             "colorbar": {
              "outlinewidth": 0,
              "ticks": ""
             }
            },
            "type": "scattercarpet"
           }
          ],
          "scattergeo": [
           {
            "marker": {
             "colorbar": {
              "outlinewidth": 0,
              "ticks": ""
             }
            },
            "type": "scattergeo"
           }
          ],
          "scattergl": [
           {
            "marker": {
             "colorbar": {
              "outlinewidth": 0,
              "ticks": ""
             }
            },
            "type": "scattergl"
           }
          ],
          "scattermap": [
           {
            "marker": {
             "colorbar": {
              "outlinewidth": 0,
              "ticks": ""
             }
            },
            "type": "scattermap"
           }
          ],
          "scattermapbox": [
           {
            "marker": {
             "colorbar": {
              "outlinewidth": 0,
              "ticks": ""
             }
            },
            "type": "scattermapbox"
           }
          ],
          "scatterpolar": [
           {
            "marker": {
             "colorbar": {
              "outlinewidth": 0,
              "ticks": ""
             }
            },
            "type": "scatterpolar"
           }
          ],
          "scatterpolargl": [
           {
            "marker": {
             "colorbar": {
              "outlinewidth": 0,
              "ticks": ""
             }
            },
            "type": "scatterpolargl"
           }
          ],
          "scatterternary": [
           {
            "marker": {
             "colorbar": {
              "outlinewidth": 0,
              "ticks": ""
             }
            },
            "type": "scatterternary"
           }
          ],
          "surface": [
           {
            "colorbar": {
             "outlinewidth": 0,
             "ticks": ""
            },
            "colorscale": [
             [
              0,
              "#0d0887"
             ],
             [
              0.1111111111111111,
              "#46039f"
             ],
             [
              0.2222222222222222,
              "#7201a8"
             ],
             [
              0.3333333333333333,
              "#9c179e"
             ],
             [
              0.4444444444444444,
              "#bd3786"
             ],
             [
              0.5555555555555556,
              "#d8576b"
             ],
             [
              0.6666666666666666,
              "#ed7953"
             ],
             [
              0.7777777777777778,
              "#fb9f3a"
             ],
             [
              0.8888888888888888,
              "#fdca26"
             ],
             [
              1,
              "#f0f921"
             ]
            ],
            "type": "surface"
           }
          ],
          "table": [
           {
            "cells": {
             "fill": {
              "color": "#EBF0F8"
             },
             "line": {
              "color": "white"
             }
            },
            "header": {
             "fill": {
              "color": "#C8D4E3"
             },
             "line": {
              "color": "white"
             }
            },
            "type": "table"
           }
          ]
         },
         "layout": {
          "annotationdefaults": {
           "arrowcolor": "#2a3f5f",
           "arrowhead": 0,
           "arrowwidth": 1
          },
          "autotypenumbers": "strict",
          "coloraxis": {
           "colorbar": {
            "outlinewidth": 0,
            "ticks": ""
           }
          },
          "colorscale": {
           "diverging": [
            [
             0,
             "#8e0152"
            ],
            [
             0.1,
             "#c51b7d"
            ],
            [
             0.2,
             "#de77ae"
            ],
            [
             0.3,
             "#f1b6da"
            ],
            [
             0.4,
             "#fde0ef"
            ],
            [
             0.5,
             "#f7f7f7"
            ],
            [
             0.6,
             "#e6f5d0"
            ],
            [
             0.7,
             "#b8e186"
            ],
            [
             0.8,
             "#7fbc41"
            ],
            [
             0.9,
             "#4d9221"
            ],
            [
             1,
             "#276419"
            ]
           ],
           "sequential": [
            [
             0,
             "#0d0887"
            ],
            [
             0.1111111111111111,
             "#46039f"
            ],
            [
             0.2222222222222222,
             "#7201a8"
            ],
            [
             0.3333333333333333,
             "#9c179e"
            ],
            [
             0.4444444444444444,
             "#bd3786"
            ],
            [
             0.5555555555555556,
             "#d8576b"
            ],
            [
             0.6666666666666666,
             "#ed7953"
            ],
            [
             0.7777777777777778,
             "#fb9f3a"
            ],
            [
             0.8888888888888888,
             "#fdca26"
            ],
            [
             1,
             "#f0f921"
            ]
           ],
           "sequentialminus": [
            [
             0,
             "#0d0887"
            ],
            [
             0.1111111111111111,
             "#46039f"
            ],
            [
             0.2222222222222222,
             "#7201a8"
            ],
            [
             0.3333333333333333,
             "#9c179e"
            ],
            [
             0.4444444444444444,
             "#bd3786"
            ],
            [
             0.5555555555555556,
             "#d8576b"
            ],
            [
             0.6666666666666666,
             "#ed7953"
            ],
            [
             0.7777777777777778,
             "#fb9f3a"
            ],
            [
             0.8888888888888888,
             "#fdca26"
            ],
            [
             1,
             "#f0f921"
            ]
           ]
          },
          "colorway": [
           "#636efa",
           "#EF553B",
           "#00cc96",
           "#ab63fa",
           "#FFA15A",
           "#19d3f3",
           "#FF6692",
           "#B6E880",
           "#FF97FF",
           "#FECB52"
          ],
          "font": {
           "color": "#2a3f5f"
          },
          "geo": {
           "bgcolor": "white",
           "lakecolor": "white",
           "landcolor": "#E5ECF6",
           "showlakes": true,
           "showland": true,
           "subunitcolor": "white"
          },
          "hoverlabel": {
           "align": "left"
          },
          "hovermode": "closest",
          "mapbox": {
           "style": "light"
          },
          "paper_bgcolor": "white",
          "plot_bgcolor": "#E5ECF6",
          "polar": {
           "angularaxis": {
            "gridcolor": "white",
            "linecolor": "white",
            "ticks": ""
           },
           "bgcolor": "#E5ECF6",
           "radialaxis": {
            "gridcolor": "white",
            "linecolor": "white",
            "ticks": ""
           }
          },
          "scene": {
           "xaxis": {
            "backgroundcolor": "#E5ECF6",
            "gridcolor": "white",
            "gridwidth": 2,
            "linecolor": "white",
            "showbackground": true,
            "ticks": "",
            "zerolinecolor": "white"
           },
           "yaxis": {
            "backgroundcolor": "#E5ECF6",
            "gridcolor": "white",
            "gridwidth": 2,
            "linecolor": "white",
            "showbackground": true,
            "ticks": "",
            "zerolinecolor": "white"
           },
           "zaxis": {
            "backgroundcolor": "#E5ECF6",
            "gridcolor": "white",
            "gridwidth": 2,
            "linecolor": "white",
            "showbackground": true,
            "ticks": "",
            "zerolinecolor": "white"
           }
          },
          "shapedefaults": {
           "line": {
            "color": "#2a3f5f"
           }
          },
          "ternary": {
           "aaxis": {
            "gridcolor": "white",
            "linecolor": "white",
            "ticks": ""
           },
           "baxis": {
            "gridcolor": "white",
            "linecolor": "white",
            "ticks": ""
           },
           "bgcolor": "#E5ECF6",
           "caxis": {
            "gridcolor": "white",
            "linecolor": "white",
            "ticks": ""
           }
          },
          "title": {
           "x": 0.05
          },
          "xaxis": {
           "automargin": true,
           "gridcolor": "white",
           "linecolor": "white",
           "ticks": "",
           "title": {
            "standoff": 15
           },
           "zerolinecolor": "white",
           "zerolinewidth": 2
          },
          "yaxis": {
           "automargin": true,
           "gridcolor": "white",
           "linecolor": "white",
           "ticks": "",
           "title": {
            "standoff": 15
           },
           "zerolinecolor": "white",
           "zerolinewidth": 2
          }
         }
        },
        "title": {
         "text": "NVDA Daily Price with News Sentiment & Headlines Overlay"
        },
        "xaxis": {
         "rangeslider": {
          "visible": false
         },
         "title": {
          "text": "Date"
         }
        },
        "yaxis": {
         "title": {
          "text": "Price (USD)"
         }
        }
       }
      }
     },
     "metadata": {},
     "output_type": "display_data"
    }
   ],
   "source": [
    "import pandas as pd\n",
    "import numpy as np\n",
    "import plotly.graph_objects as go\n",
    "\n",
    "# --- Map sentiment to numeric score ---\n",
    "sentiment_map = {\"positive\": 1, \"neutral\": 0, \"negative\": -1}\n",
    "news_expanded['sentiment_score'] = news_expanded['sentiment'].map(sentiment_map)\n",
    "\n",
    "# --- Aggregate daily sentiment and collect news headlines for NVDA ---\n",
    "news_expanded['date'] = pd.to_datetime(news_expanded['published_utc']).dt.date\n",
    "daily_sentiment = (\n",
    "    news_expanded[news_expanded['ticker'] == 'NVDA']\n",
    "    .groupby('date')\n",
    "    .agg(\n",
    "        sentiment_score=('sentiment_score', 'sum'),\n",
    "        news_count=('sentiment_score', 'count'),\n",
    "        headlines=('title', lambda x: \"<br>\".join(x))  # concatenate all headlines for the day\n",
    "    )\n",
    "    .reset_index()\n",
    ")\n",
    "\n",
    "# --- Prepare stock data ---\n",
    "df_stock['date'] = df_stock['ts'].dt.date\n",
    "merged = pd.merge(df_stock, daily_sentiment, on='date', how='left').fillna({\n",
    "    'sentiment_score': 0, \n",
    "    'news_count': 0, \n",
    "    'headlines': 'No news'\n",
    "})\n",
    "\n",
    "# --- Plot Candlestick ---\n",
    "fig = go.Figure(data=[go.Candlestick(\n",
    "    x=merged['ts'],\n",
    "    open=merged['open'],\n",
    "    high=merged['high'],\n",
    "    low=merged['low'],\n",
    "    close=merged['close'],\n",
    "    name='Price'\n",
    ")])\n",
    "\n",
    "# --- Add sentiment markers with headlines in tooltip ---\n",
    "fig.add_trace(go.Scatter(\n",
    "    x=merged['ts'],\n",
    "    y=merged['close'] + 2,\n",
    "    mode='markers',\n",
    "    marker=dict(\n",
    "        size=10,\n",
    "        color=['green' if s > 0 else 'red' if s < 0 else 'gray' for s in merged['sentiment_score']],\n",
    "        symbol='diamond'\n",
    "    ),\n",
    "    hovertext=[\n",
    "        f\"Sentiment Score: {s}<br>News Count: {c}<br>Headlines:<br>{h}\"\n",
    "        for s, c, h in zip(merged['sentiment_score'], merged['news_count'], merged['headlines'])\n",
    "    ],\n",
    "    name='News Sentiment'\n",
    "))\n",
    "\n",
    "# --- Layout tweaks ---\n",
    "fig.update_layout(\n",
    "    title='NVDA Daily Price with News Sentiment & Headlines Overlay',\n",
    "    xaxis_title='Date',\n",
    "    yaxis_title='Price (USD)',\n",
    "    xaxis_rangeslider_visible=False,\n",
    "    hovermode='x unified'\n",
    ")\n",
    "\n",
    "fig.show()\n"
   ]
  }
 ],
 "metadata": {
  "kernelspec": {
   "display_name": "Python 3",
   "language": "python",
   "name": "python3"
  },
  "language_info": {
   "codemirror_mode": {
    "name": "ipython",
    "version": 3
   },
   "file_extension": ".py",
   "mimetype": "text/x-python",
   "name": "python",
   "nbconvert_exporter": "python",
   "pygments_lexer": "ipython3",
   "version": "3.13.5"
  }
 },
 "nbformat": 4,
 "nbformat_minor": 5
}
